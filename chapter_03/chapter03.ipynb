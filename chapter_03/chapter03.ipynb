{
 "cells": [
  {
   "cell_type": "markdown",
   "metadata": {
    "collapsed": true,
    "pycharm": {
     "name": "#%% md\n"
    }
   },
   "source": [
    "# Getting a first look at your data"
   ]
  },
  {
   "cell_type": "code",
   "execution_count": 1,
   "outputs": [],
   "source": [
    "import pandas as pd\n",
    "import numpy as np\n",
    "nls97 = pd.read_csv('data/nls97.csv')\n",
    "covidtotals = pd.read_csv('data/covidtotals.csv', parse_dates=['lastdate'])"
   ],
   "metadata": {
    "collapsed": false,
    "pycharm": {
     "name": "#%%\n"
    }
   }
  },
  {
   "cell_type": "code",
   "execution_count": 3,
   "outputs": [
    {
     "data": {
      "text/plain": "True"
     },
     "execution_count": 3,
     "metadata": {},
     "output_type": "execute_result"
    }
   ],
   "source": [
    "nls97.personid.count() == nls97.personid.nunique()"
   ],
   "metadata": {
    "collapsed": false,
    "pycharm": {
     "name": "#%%\n"
    }
   }
  },
  {
   "cell_type": "code",
   "execution_count": 4,
   "outputs": [],
   "source": [
    "nls97.set_index('personid', inplace=True)"
   ],
   "metadata": {
    "collapsed": false,
    "pycharm": {
     "name": "#%%\n"
    }
   }
  },
  {
   "cell_type": "code",
   "execution_count": 6,
   "outputs": [
    {
     "data": {
      "text/plain": "(8984, 88)"
     },
     "execution_count": 6,
     "metadata": {},
     "output_type": "execute_result"
    }
   ],
   "source": [
    "nls97.shape"
   ],
   "metadata": {
    "collapsed": false,
    "pycharm": {
     "name": "#%%\n"
    }
   }
  },
  {
   "cell_type": "code",
   "execution_count": 7,
   "outputs": [
    {
     "data": {
      "text/plain": "8984"
     },
     "execution_count": 7,
     "metadata": {},
     "output_type": "execute_result"
    }
   ],
   "source": [
    "nls97.index.nunique()"
   ],
   "metadata": {
    "collapsed": false,
    "pycharm": {
     "name": "#%%\n"
    }
   }
  },
  {
   "cell_type": "code",
   "execution_count": 8,
   "outputs": [
    {
     "name": "stdout",
     "output_type": "stream",
     "text": [
      "<class 'pandas.core.frame.DataFrame'>\n",
      "Int64Index: 8984 entries, 100061 to 999963\n",
      "Data columns (total 88 columns):\n",
      " #   Column                 Non-Null Count  Dtype  \n",
      "---  ------                 --------------  -----  \n",
      " 0   gender                 8984 non-null   object \n",
      " 1   birthmonth             8984 non-null   int64  \n",
      " 2   birthyear              8984 non-null   int64  \n",
      " 3   highestgradecompleted  6663 non-null   float64\n",
      " 4   maritalstatus          6672 non-null   object \n",
      " 5   childathome            4791 non-null   float64\n",
      " 6   childnotathome         4791 non-null   float64\n",
      " 7   wageincome             5091 non-null   float64\n",
      " 8   weeklyhrscomputer      6710 non-null   object \n",
      " 9   weeklyhrstv            6711 non-null   object \n",
      " 10  nightlyhrssleep        6706 non-null   float64\n",
      " 11  satverbal              1406 non-null   float64\n",
      " 12  satmath                1407 non-null   float64\n",
      " 13  gpaoverall             6004 non-null   float64\n",
      " 14  gpaenglish             5798 non-null   float64\n",
      " 15  gpamath                5766 non-null   float64\n",
      " 16  gpascience             5684 non-null   float64\n",
      " 17  highestdegree          8953 non-null   object \n",
      " 18  govprovidejobs         1833 non-null   object \n",
      " 19  govpricecontrols       1859 non-null   object \n",
      " 20  govhealthcare          1874 non-null   object \n",
      " 21  govelderliving         1872 non-null   object \n",
      " 22  govindhelp             1815 non-null   object \n",
      " 23  govunemp               1811 non-null   object \n",
      " 24  govincomediff          1775 non-null   object \n",
      " 25  govcollegefinance      1875 non-null   object \n",
      " 26  govdecenthousing       1847 non-null   object \n",
      " 27  govprotectenvironment  1860 non-null   object \n",
      " 28  weeksworked00          8603 non-null   float64\n",
      " 29  weeksworked01          8564 non-null   float64\n",
      " 30  weeksworked02          8556 non-null   float64\n",
      " 31  weeksworked03          8490 non-null   float64\n",
      " 32  weeksworked04          8458 non-null   float64\n",
      " 33  weeksworked05          8403 non-null   float64\n",
      " 34  weeksworked06          8340 non-null   float64\n",
      " 35  weeksworked07          8272 non-null   float64\n",
      " 36  weeksworked08          8186 non-null   float64\n",
      " 37  weeksworked09          8146 non-null   float64\n",
      " 38  weeksworked10          8054 non-null   float64\n",
      " 39  weeksworked11          7968 non-null   float64\n",
      " 40  weeksworked12          7747 non-null   float64\n",
      " 41  weeksworked13          7680 non-null   float64\n",
      " 42  weeksworked14          7612 non-null   float64\n",
      " 43  weeksworked15          7389 non-null   float64\n",
      " 44  weeksworked16          7068 non-null   float64\n",
      " 45  weeksworked17          6670 non-null   float64\n",
      " 46  colenrfeb97            1250 non-null   object \n",
      " 47  colenroct97            8501 non-null   object \n",
      " 48  colenrfeb98            8501 non-null   object \n",
      " 49  colenroct98            8888 non-null   object \n",
      " 50  colenrfeb99            8865 non-null   object \n",
      " 51  colenroct99            8851 non-null   object \n",
      " 52  colenrfeb00            8820 non-null   object \n",
      " 53  colenroct00            8805 non-null   object \n",
      " 54  colenrfeb01            8786 non-null   object \n",
      " 55  colenroct01            8758 non-null   object \n",
      " 56  colenrfeb02            8732 non-null   object \n",
      " 57  colenroct02            8698 non-null   object \n",
      " 58  colenrfeb03            8658 non-null   object \n",
      " 59  colenroct03            8622 non-null   object \n",
      " 60  colenrfeb04            8578 non-null   object \n",
      " 61  colenroct04            8546 non-null   object \n",
      " 62  colenrfeb05            8508 non-null   object \n",
      " 63  colenroct05            8471 non-null   object \n",
      " 64  colenrfeb06            8426 non-null   object \n",
      " 65  colenroct06            8407 non-null   object \n",
      " 66  colenrfeb07            8352 non-null   object \n",
      " 67  colenroct07            8331 non-null   object \n",
      " 68  colenrfeb08            8289 non-null   object \n",
      " 69  colenroct08            8280 non-null   object \n",
      " 70  colenrfeb09            8236 non-null   object \n",
      " 71  colenroct09            8193 non-null   object \n",
      " 72  colenrfeb10            8116 non-null   object \n",
      " 73  colenroct10            8091 non-null   object \n",
      " 74  colenrfeb11            8037 non-null   object \n",
      " 75  colenroct11            7972 non-null   object \n",
      " 76  colenrfeb12            7794 non-null   object \n",
      " 77  colenroct12            7754 non-null   object \n",
      " 78  colenrfeb13            7754 non-null   object \n",
      " 79  colenroct13            7754 non-null   object \n",
      " 80  colenrfeb14            7624 non-null   object \n",
      " 81  colenroct14            7469 non-null   object \n",
      " 82  colenrfeb15            7469 non-null   object \n",
      " 83  colenroct15            7469 non-null   object \n",
      " 84  colenrfeb16            7036 non-null   object \n",
      " 85  colenroct16            6733 non-null   object \n",
      " 86  colenrfeb17            6733 non-null   object \n",
      " 87  colenroct17            6734 non-null   object \n",
      "dtypes: float64(29), int64(2), object(57)\n",
      "memory usage: 6.4+ MB\n"
     ]
    }
   ],
   "source": [
    "nls97.info()"
   ],
   "metadata": {
    "collapsed": false,
    "pycharm": {
     "name": "#%%\n"
    }
   }
  },
  {
   "cell_type": "code",
   "execution_count": 10,
   "outputs": [
    {
     "data": {
      "text/plain": "personid                        100061           100139\ngender                          Female             Male\nbirthmonth                           5                9\nbirthyear                         1980             1983\nhighestgradecompleted             13.0             12.0\nmaritalstatus                  Married          Married\n...                                ...              ...\ncolenroct15            1. Not enrolled  1. Not enrolled\ncolenrfeb16            1. Not enrolled  1. Not enrolled\ncolenroct16            1. Not enrolled  1. Not enrolled\ncolenrfeb17            1. Not enrolled  1. Not enrolled\ncolenroct17            1. Not enrolled  1. Not enrolled\n\n[88 rows x 2 columns]",
      "text/html": "<div>\n<style scoped>\n    .dataframe tbody tr th:only-of-type {\n        vertical-align: middle;\n    }\n\n    .dataframe tbody tr th {\n        vertical-align: top;\n    }\n\n    .dataframe thead th {\n        text-align: right;\n    }\n</style>\n<table border=\"1\" class=\"dataframe\">\n  <thead>\n    <tr style=\"text-align: right;\">\n      <th>personid</th>\n      <th>100061</th>\n      <th>100139</th>\n    </tr>\n  </thead>\n  <tbody>\n    <tr>\n      <th>gender</th>\n      <td>Female</td>\n      <td>Male</td>\n    </tr>\n    <tr>\n      <th>birthmonth</th>\n      <td>5</td>\n      <td>9</td>\n    </tr>\n    <tr>\n      <th>birthyear</th>\n      <td>1980</td>\n      <td>1983</td>\n    </tr>\n    <tr>\n      <th>highestgradecompleted</th>\n      <td>13.0</td>\n      <td>12.0</td>\n    </tr>\n    <tr>\n      <th>maritalstatus</th>\n      <td>Married</td>\n      <td>Married</td>\n    </tr>\n    <tr>\n      <th>...</th>\n      <td>...</td>\n      <td>...</td>\n    </tr>\n    <tr>\n      <th>colenroct15</th>\n      <td>1. Not enrolled</td>\n      <td>1. Not enrolled</td>\n    </tr>\n    <tr>\n      <th>colenrfeb16</th>\n      <td>1. Not enrolled</td>\n      <td>1. Not enrolled</td>\n    </tr>\n    <tr>\n      <th>colenroct16</th>\n      <td>1. Not enrolled</td>\n      <td>1. Not enrolled</td>\n    </tr>\n    <tr>\n      <th>colenrfeb17</th>\n      <td>1. Not enrolled</td>\n      <td>1. Not enrolled</td>\n    </tr>\n    <tr>\n      <th>colenroct17</th>\n      <td>1. Not enrolled</td>\n      <td>1. Not enrolled</td>\n    </tr>\n  </tbody>\n</table>\n<p>88 rows × 2 columns</p>\n</div>"
     },
     "execution_count": 10,
     "metadata": {},
     "output_type": "execute_result"
    }
   ],
   "source": [
    "# T means transpose\n",
    "nls97.head(2).T"
   ],
   "metadata": {
    "collapsed": false,
    "pycharm": {
     "name": "#%%\n"
    }
   }
  },
  {
   "cell_type": "code",
   "execution_count": 11,
   "outputs": [
    {
     "data": {
      "text/plain": "Index(['AFG', 'ALB', 'DZA', 'AND', 'AGO', 'AIA', 'ATG', 'ARG', 'ARM', 'ABW',\n       ...\n       'VIR', 'URY', 'UZB', 'VAT', 'VEN', 'VNM', 'ESH', 'YEM', 'ZMB', 'ZWE'],\n      dtype='object', name='iso_code', length=210)"
     },
     "execution_count": 11,
     "metadata": {},
     "output_type": "execute_result"
    }
   ],
   "source": [
    "covidtotals.set_index(\"iso_code\", inplace=True)\n",
    "covidtotals.index"
   ],
   "metadata": {
    "collapsed": false,
    "pycharm": {
     "name": "#%%\n"
    }
   }
  },
  {
   "cell_type": "code",
   "execution_count": 12,
   "outputs": [
    {
     "data": {
      "text/plain": "(210, 11)"
     },
     "execution_count": 12,
     "metadata": {},
     "output_type": "execute_result"
    }
   ],
   "source": [
    "covidtotals.shape"
   ],
   "metadata": {
    "collapsed": false,
    "pycharm": {
     "name": "#%%\n"
    }
   }
  },
  {
   "cell_type": "code",
   "execution_count": 14,
   "outputs": [
    {
     "data": {
      "text/plain": "210"
     },
     "execution_count": 14,
     "metadata": {},
     "output_type": "execute_result"
    }
   ],
   "source": [
    "covidtotals.index.nunique()"
   ],
   "metadata": {
    "collapsed": false,
    "pycharm": {
     "name": "#%%\n"
    }
   }
  },
  {
   "cell_type": "code",
   "execution_count": 15,
   "outputs": [
    {
     "name": "stdout",
     "output_type": "stream",
     "text": [
      "<class 'pandas.core.frame.DataFrame'>\n",
      "Index: 210 entries, AFG to ZWE\n",
      "Data columns (total 11 columns):\n",
      " #   Column           Non-Null Count  Dtype         \n",
      "---  ------           --------------  -----         \n",
      " 0   lastdate         210 non-null    datetime64[ns]\n",
      " 1   location         210 non-null    object        \n",
      " 2   total_cases      210 non-null    int64         \n",
      " 3   total_deaths     210 non-null    int64         \n",
      " 4   total_cases_pm   209 non-null    float64       \n",
      " 5   total_deaths_pm  209 non-null    float64       \n",
      " 6   population       210 non-null    float64       \n",
      " 7   pop_density      198 non-null    float64       \n",
      " 8   median_age       186 non-null    float64       \n",
      " 9   gdp_per_capita   182 non-null    float64       \n",
      " 10  hosp_beds        164 non-null    float64       \n",
      "dtypes: datetime64[ns](1), float64(7), int64(2), object(1)\n",
      "memory usage: 27.8+ KB\n"
     ]
    }
   ],
   "source": [
    "covidtotals.info()"
   ],
   "metadata": {
    "collapsed": false,
    "pycharm": {
     "name": "#%%\n"
    }
   }
  },
  {
   "cell_type": "code",
   "execution_count": 16,
   "outputs": [
    {
     "data": {
      "text/plain": "iso_code                         COG                  THA\nlastdate         2020-06-01 00:00:00  2020-06-01 00:00:00\nlocation                       Congo             Thailand\ntotal_cases                      611                 3081\ntotal_deaths                      20                   57\ntotal_cases_pm               110.727                44.14\ntotal_deaths_pm                3.624                0.817\npopulation                 5518092.0           69799978.0\npop_density                   15.405              135.132\nmedian_age                      19.0                 40.1\ngdp_per_capita              4881.406            16277.671\nhosp_beds                        NaN                  2.1",
      "text/html": "<div>\n<style scoped>\n    .dataframe tbody tr th:only-of-type {\n        vertical-align: middle;\n    }\n\n    .dataframe tbody tr th {\n        vertical-align: top;\n    }\n\n    .dataframe thead th {\n        text-align: right;\n    }\n</style>\n<table border=\"1\" class=\"dataframe\">\n  <thead>\n    <tr style=\"text-align: right;\">\n      <th>iso_code</th>\n      <th>COG</th>\n      <th>THA</th>\n    </tr>\n  </thead>\n  <tbody>\n    <tr>\n      <th>lastdate</th>\n      <td>2020-06-01 00:00:00</td>\n      <td>2020-06-01 00:00:00</td>\n    </tr>\n    <tr>\n      <th>location</th>\n      <td>Congo</td>\n      <td>Thailand</td>\n    </tr>\n    <tr>\n      <th>total_cases</th>\n      <td>611</td>\n      <td>3081</td>\n    </tr>\n    <tr>\n      <th>total_deaths</th>\n      <td>20</td>\n      <td>57</td>\n    </tr>\n    <tr>\n      <th>total_cases_pm</th>\n      <td>110.727</td>\n      <td>44.14</td>\n    </tr>\n    <tr>\n      <th>total_deaths_pm</th>\n      <td>3.624</td>\n      <td>0.817</td>\n    </tr>\n    <tr>\n      <th>population</th>\n      <td>5518092.0</td>\n      <td>69799978.0</td>\n    </tr>\n    <tr>\n      <th>pop_density</th>\n      <td>15.405</td>\n      <td>135.132</td>\n    </tr>\n    <tr>\n      <th>median_age</th>\n      <td>19.0</td>\n      <td>40.1</td>\n    </tr>\n    <tr>\n      <th>gdp_per_capita</th>\n      <td>4881.406</td>\n      <td>16277.671</td>\n    </tr>\n    <tr>\n      <th>hosp_beds</th>\n      <td>NaN</td>\n      <td>2.1</td>\n    </tr>\n  </tbody>\n</table>\n</div>"
     },
     "execution_count": 16,
     "metadata": {},
     "output_type": "execute_result"
    }
   ],
   "source": [
    "# show a sample of a few rows\n",
    "# random_state -> seed\n",
    "covidtotals.sample(2, random_state=1).T"
   ],
   "metadata": {
    "collapsed": false,
    "pycharm": {
     "name": "#%%\n"
    }
   }
  },
  {
   "cell_type": "markdown",
   "source": [
    "# Selecting and organizing columns"
   ],
   "metadata": {
    "collapsed": false,
    "pycharm": {
     "name": "#%% md\n"
    }
   }
  },
  {
   "cell_type": "code",
   "execution_count": 21,
   "outputs": [],
   "source": [
    "# Covert all the data object to category\n",
    "nls97.loc[:, nls97.dtypes == 'object'] = nls97.select_dtypes(['object']).apply(\n",
    "    lambda x: x.astype('category')\n",
    ")"
   ],
   "metadata": {
    "collapsed": false,
    "pycharm": {
     "name": "#%%\n"
    }
   }
  },
  {
   "cell_type": "code",
   "execution_count": 23,
   "outputs": [
    {
     "data": {
      "text/plain": "gender                   category\nbirthmonth                  int64\nbirthyear                   int64\nhighestgradecompleted     float64\nmaritalstatus            category\n                           ...   \ncolenroct15              category\ncolenrfeb16              category\ncolenroct16              category\ncolenrfeb17              category\ncolenroct17              category\nLength: 88, dtype: object"
     },
     "execution_count": 23,
     "metadata": {},
     "output_type": "execute_result"
    }
   ],
   "source": [
    "nls97.dtypes"
   ],
   "metadata": {
    "collapsed": false,
    "pycharm": {
     "name": "#%%\n"
    }
   }
  },
  {
   "cell_type": "code",
   "execution_count": 26,
   "outputs": [
    {
     "name": "stdout",
     "output_type": "stream",
     "text": [
      "<class 'pandas.core.frame.DataFrame'>\n",
      "Int64Index: 8984 entries, 100061 to 999963\n",
      "Data columns (total 18 columns):\n",
      " #   Column         Non-Null Count  Dtype  \n",
      "---  ------         --------------  -----  \n",
      " 0   weeksworked00  8603 non-null   float64\n",
      " 1   weeksworked01  8564 non-null   float64\n",
      " 2   weeksworked02  8556 non-null   float64\n",
      " 3   weeksworked03  8490 non-null   float64\n",
      " 4   weeksworked04  8458 non-null   float64\n",
      " 5   weeksworked05  8403 non-null   float64\n",
      " 6   weeksworked06  8340 non-null   float64\n",
      " 7   weeksworked07  8272 non-null   float64\n",
      " 8   weeksworked08  8186 non-null   float64\n",
      " 9   weeksworked09  8146 non-null   float64\n",
      " 10  weeksworked10  8054 non-null   float64\n",
      " 11  weeksworked11  7968 non-null   float64\n",
      " 12  weeksworked12  7747 non-null   float64\n",
      " 13  weeksworked13  7680 non-null   float64\n",
      " 14  weeksworked14  7612 non-null   float64\n",
      " 15  weeksworked15  7389 non-null   float64\n",
      " 16  weeksworked16  7068 non-null   float64\n",
      " 17  weeksworked17  6670 non-null   float64\n",
      "dtypes: float64(18)\n",
      "memory usage: 1.6 MB\n"
     ]
    }
   ],
   "source": [
    "# Select one or more columns using filter\n",
    "analysiswork = nls97.filter(like=\"weeksworked\")\n",
    "analysiswork.info()\n"
   ],
   "metadata": {
    "collapsed": false,
    "pycharm": {
     "name": "#%%\n"
    }
   }
  },
  {
   "cell_type": "code",
   "execution_count": 27,
   "outputs": [
    {
     "name": "stdout",
     "output_type": "stream",
     "text": [
      "<class 'pandas.core.frame.DataFrame'>\n",
      "Int64Index: 8984 entries, 100061 to 999963\n",
      "Data columns (total 57 columns):\n",
      " #   Column                 Non-Null Count  Dtype   \n",
      "---  ------                 --------------  -----   \n",
      " 0   gender                 8984 non-null   category\n",
      " 1   maritalstatus          6672 non-null   category\n",
      " 2   weeklyhrscomputer      6710 non-null   category\n",
      " 3   weeklyhrstv            6711 non-null   category\n",
      " 4   highestdegree          8953 non-null   category\n",
      " 5   govprovidejobs         1833 non-null   category\n",
      " 6   govpricecontrols       1859 non-null   category\n",
      " 7   govhealthcare          1874 non-null   category\n",
      " 8   govelderliving         1872 non-null   category\n",
      " 9   govindhelp             1815 non-null   category\n",
      " 10  govunemp               1811 non-null   category\n",
      " 11  govincomediff          1775 non-null   category\n",
      " 12  govcollegefinance      1875 non-null   category\n",
      " 13  govdecenthousing       1847 non-null   category\n",
      " 14  govprotectenvironment  1860 non-null   category\n",
      " 15  colenrfeb97            1250 non-null   category\n",
      " 16  colenroct97            8501 non-null   category\n",
      " 17  colenrfeb98            8501 non-null   category\n",
      " 18  colenroct98            8888 non-null   category\n",
      " 19  colenrfeb99            8865 non-null   category\n",
      " 20  colenroct99            8851 non-null   category\n",
      " 21  colenrfeb00            8820 non-null   category\n",
      " 22  colenroct00            8805 non-null   category\n",
      " 23  colenrfeb01            8786 non-null   category\n",
      " 24  colenroct01            8758 non-null   category\n",
      " 25  colenrfeb02            8732 non-null   category\n",
      " 26  colenroct02            8698 non-null   category\n",
      " 27  colenrfeb03            8658 non-null   category\n",
      " 28  colenroct03            8622 non-null   category\n",
      " 29  colenrfeb04            8578 non-null   category\n",
      " 30  colenroct04            8546 non-null   category\n",
      " 31  colenrfeb05            8508 non-null   category\n",
      " 32  colenroct05            8471 non-null   category\n",
      " 33  colenrfeb06            8426 non-null   category\n",
      " 34  colenroct06            8407 non-null   category\n",
      " 35  colenrfeb07            8352 non-null   category\n",
      " 36  colenroct07            8331 non-null   category\n",
      " 37  colenrfeb08            8289 non-null   category\n",
      " 38  colenroct08            8280 non-null   category\n",
      " 39  colenrfeb09            8236 non-null   category\n",
      " 40  colenroct09            8193 non-null   category\n",
      " 41  colenrfeb10            8116 non-null   category\n",
      " 42  colenroct10            8091 non-null   category\n",
      " 43  colenrfeb11            8037 non-null   category\n",
      " 44  colenroct11            7972 non-null   category\n",
      " 45  colenrfeb12            7794 non-null   category\n",
      " 46  colenroct12            7754 non-null   category\n",
      " 47  colenrfeb13            7754 non-null   category\n",
      " 48  colenroct13            7754 non-null   category\n",
      " 49  colenrfeb14            7624 non-null   category\n",
      " 50  colenroct14            7469 non-null   category\n",
      " 51  colenrfeb15            7469 non-null   category\n",
      " 52  colenroct15            7469 non-null   category\n",
      " 53  colenrfeb16            7036 non-null   category\n",
      " 54  colenroct16            6733 non-null   category\n",
      " 55  colenrfeb17            6733 non-null   category\n",
      " 56  colenroct17            6734 non-null   category\n",
      "dtypes: category(57)\n",
      "memory usage: 838.9 KB\n"
     ]
    }
   ],
   "source": [
    "analysiscats = nls97.select_dtypes(include=[\"category\"])\n",
    "analysiscats.info()"
   ],
   "metadata": {
    "collapsed": false,
    "pycharm": {
     "name": "#%%\n"
    }
   }
  },
  {
   "cell_type": "code",
   "execution_count": 29,
   "outputs": [
    {
     "name": "stdout",
     "output_type": "stream",
     "text": [
      "<class 'pandas.core.frame.DataFrame'>\n",
      "Int64Index: 8984 entries, 100061 to 999963\n",
      "Data columns (total 31 columns):\n",
      " #   Column                 Non-Null Count  Dtype  \n",
      "---  ------                 --------------  -----  \n",
      " 0   birthmonth             8984 non-null   int64  \n",
      " 1   birthyear              8984 non-null   int64  \n",
      " 2   highestgradecompleted  6663 non-null   float64\n",
      " 3   childathome            4791 non-null   float64\n",
      " 4   childnotathome         4791 non-null   float64\n",
      " 5   wageincome             5091 non-null   float64\n",
      " 6   nightlyhrssleep        6706 non-null   float64\n",
      " 7   satverbal              1406 non-null   float64\n",
      " 8   satmath                1407 non-null   float64\n",
      " 9   gpaoverall             6004 non-null   float64\n",
      " 10  gpaenglish             5798 non-null   float64\n",
      " 11  gpamath                5766 non-null   float64\n",
      " 12  gpascience             5684 non-null   float64\n",
      " 13  weeksworked00          8603 non-null   float64\n",
      " 14  weeksworked01          8564 non-null   float64\n",
      " 15  weeksworked02          8556 non-null   float64\n",
      " 16  weeksworked03          8490 non-null   float64\n",
      " 17  weeksworked04          8458 non-null   float64\n",
      " 18  weeksworked05          8403 non-null   float64\n",
      " 19  weeksworked06          8340 non-null   float64\n",
      " 20  weeksworked07          8272 non-null   float64\n",
      " 21  weeksworked08          8186 non-null   float64\n",
      " 22  weeksworked09          8146 non-null   float64\n",
      " 23  weeksworked10          8054 non-null   float64\n",
      " 24  weeksworked11          7968 non-null   float64\n",
      " 25  weeksworked12          7747 non-null   float64\n",
      " 26  weeksworked13          7680 non-null   float64\n",
      " 27  weeksworked14          7612 non-null   float64\n",
      " 28  weeksworked15          7389 non-null   float64\n",
      " 29  weeksworked16          7068 non-null   float64\n",
      " 30  weeksworked17          6670 non-null   float64\n",
      "dtypes: float64(29), int64(2)\n",
      "memory usage: 2.4 MB\n"
     ]
    }
   ],
   "source": [
    "analysisnumber = nls97.select_dtypes(include=[\"number\"])\n",
    "analysisnumber.info()\n"
   ],
   "metadata": {
    "collapsed": false,
    "pycharm": {
     "name": "#%%\n"
    }
   }
  },
  {
   "cell_type": "markdown",
   "source": [
    "# Generating frequencies for categorical variables\n",
    "*\"90% what we're going to find, we'll see in the frequency distribution\"*"
   ],
   "metadata": {
    "collapsed": false,
    "pycharm": {
     "name": "#%% md\n"
    }
   }
  },
  {
   "cell_type": "code",
   "execution_count": 33,
   "outputs": [
    {
     "data": {
      "text/plain": "Index(['gender', 'maritalstatus', 'weeklyhrscomputer', 'weeklyhrstv',\n       'highestdegree', 'govprovidejobs', 'govpricecontrols', 'govhealthcare',\n       'govelderliving', 'govindhelp', 'govunemp', 'govincomediff',\n       'govcollegefinance', 'govdecenthousing', 'govprotectenvironment',\n       'colenrfeb97', 'colenroct97', 'colenrfeb98', 'colenroct98',\n       'colenrfeb99', 'colenroct99', 'colenrfeb00', 'colenroct00',\n       'colenrfeb01', 'colenroct01', 'colenrfeb02', 'colenroct02',\n       'colenrfeb03', 'colenroct03', 'colenrfeb04', 'colenroct04',\n       'colenrfeb05', 'colenroct05', 'colenrfeb06', 'colenroct06',\n       'colenrfeb07', 'colenroct07', 'colenrfeb08', 'colenroct08',\n       'colenrfeb09', 'colenroct09', 'colenrfeb10', 'colenroct10',\n       'colenrfeb11', 'colenroct11', 'colenrfeb12', 'colenroct12',\n       'colenrfeb13', 'colenroct13', 'colenrfeb14', 'colenroct14',\n       'colenrfeb15', 'colenroct15', 'colenrfeb16', 'colenroct16',\n       'colenrfeb17', 'colenroct17'],\n      dtype='object')"
     },
     "execution_count": 33,
     "metadata": {},
     "output_type": "execute_result"
    }
   ],
   "source": [
    "catcols = nls97.select_dtypes(include=[\"category\"]).columns\n",
    "catcols"
   ],
   "metadata": {
    "collapsed": false,
    "pycharm": {
     "name": "#%%\n"
    }
   }
  },
  {
   "cell_type": "code",
   "execution_count": 34,
   "outputs": [
    {
     "data": {
      "text/plain": "gender                      0\nmaritalstatus            2312\nweeklyhrscomputer        2274\nweeklyhrstv              2273\nhighestdegree              31\ngovprovidejobs           7151\ngovpricecontrols         7125\ngovhealthcare            7110\ngovelderliving           7112\ngovindhelp               7169\ngovunemp                 7173\ngovincomediff            7209\ngovcollegefinance        7109\ngovdecenthousing         7137\ngovprotectenvironment    7124\ncolenrfeb97              7734\ncolenroct97               483\ncolenrfeb98               483\ncolenroct98                96\ncolenrfeb99               119\ncolenroct99               133\ncolenrfeb00               164\ncolenroct00               179\ncolenrfeb01               198\ncolenroct01               226\ncolenrfeb02               252\ncolenroct02               286\ncolenrfeb03               326\ncolenroct03               362\ncolenrfeb04               406\ncolenroct04               438\ncolenrfeb05               476\ncolenroct05               513\ncolenrfeb06               558\ncolenroct06               577\ncolenrfeb07               632\ncolenroct07               653\ncolenrfeb08               695\ncolenroct08               704\ncolenrfeb09               748\ncolenroct09               791\ncolenrfeb10               868\ncolenroct10               893\ncolenrfeb11               947\ncolenroct11              1012\ncolenrfeb12              1190\ncolenroct12              1230\ncolenrfeb13              1230\ncolenroct13              1230\ncolenrfeb14              1360\ncolenroct14              1515\ncolenrfeb15              1515\ncolenroct15              1515\ncolenrfeb16              1948\ncolenroct16              2251\ncolenrfeb17              2251\ncolenroct17              2250\ndtype: int64"
     },
     "execution_count": 34,
     "metadata": {},
     "output_type": "execute_result"
    }
   ],
   "source": [
    "nls97[catcols].isnull().sum()\n"
   ],
   "metadata": {
    "collapsed": false,
    "pycharm": {
     "name": "#%%\n"
    }
   }
  },
  {
   "cell_type": "code",
   "execution_count": 37,
   "outputs": [
    {
     "data": {
      "text/plain": "Divorced          663\nMarried          3066\nNever-married    2766\nSeparated         154\nWidowed            23\nName: maritalstatus, dtype: int64"
     },
     "execution_count": 37,
     "metadata": {},
     "output_type": "execute_result"
    }
   ],
   "source": [
    "# show frequencies\n",
    "nls97.maritalstatus.value_counts()"
   ],
   "metadata": {
    "collapsed": false,
    "pycharm": {
     "name": "#%%\n"
    }
   }
  },
  {
   "cell_type": "code",
   "execution_count": null,
   "outputs": [],
   "source": [
    "nls97.maritalstatus.value_counts(sort=False)"
   ],
   "metadata": {
    "collapsed": false,
    "pycharm": {
     "name": "#%%\n"
    }
   }
  },
  {
   "cell_type": "code",
   "execution_count": 39,
   "outputs": [
    {
     "data": {
      "text/plain": "Divorced         0.099371\nMarried          0.459532\nNever-married    0.414568\nSeparated        0.023082\nWidowed          0.003447\nName: maritalstatus, dtype: float64"
     },
     "execution_count": 39,
     "metadata": {},
     "output_type": "execute_result"
    }
   ],
   "source": [
    "nls97.maritalstatus.value_counts(sort=False, normalize=True)\n"
   ],
   "metadata": {
    "collapsed": false,
    "pycharm": {
     "name": "#%%\n"
    }
   }
  },
  {
   "cell_type": "code",
   "execution_count": 42,
   "outputs": [
    {
     "data": {
      "text/plain": "         govprovidejobs govpricecontrols govhealthcare govelderliving  \\\npersonid                                                                \n100061              NaN              NaN           NaN            NaN   \n100139              NaN              NaN           NaN            NaN   \n100284              NaN              NaN           NaN            NaN   \n100292              NaN              NaN           NaN            NaN   \n100583              NaN              NaN           NaN            NaN   \n...                 ...              ...           ...            ...   \n999291              NaN              NaN           NaN            NaN   \n999406              NaN              NaN           NaN            NaN   \n999543              NaN              NaN           NaN            NaN   \n999698              NaN              NaN           NaN            NaN   \n999963              NaN              NaN           NaN            NaN   \n\n         govindhelp govunemp govincomediff govcollegefinance govdecenthousing  \\\npersonid                                                                        \n100061          NaN      NaN           NaN               NaN              NaN   \n100139          NaN      NaN           NaN               NaN              NaN   \n100284          NaN      NaN           NaN               NaN              NaN   \n100292          NaN      NaN           NaN               NaN              NaN   \n100583          NaN      NaN           NaN               NaN              NaN   \n...             ...      ...           ...               ...              ...   \n999291          NaN      NaN           NaN               NaN              NaN   \n999406          NaN      NaN           NaN               NaN              NaN   \n999543          NaN      NaN           NaN               NaN              NaN   \n999698          NaN      NaN           NaN               NaN              NaN   \n999963          NaN      NaN           NaN               NaN              NaN   \n\n         govprotectenvironment  \npersonid                        \n100061                     NaN  \n100139                     NaN  \n100284                     NaN  \n100292                     NaN  \n100583                     NaN  \n...                        ...  \n999291                     NaN  \n999406                     NaN  \n999543                     NaN  \n999698                     NaN  \n999963                     NaN  \n\n[8984 rows x 10 columns]",
      "text/html": "<div>\n<style scoped>\n    .dataframe tbody tr th:only-of-type {\n        vertical-align: middle;\n    }\n\n    .dataframe tbody tr th {\n        vertical-align: top;\n    }\n\n    .dataframe thead th {\n        text-align: right;\n    }\n</style>\n<table border=\"1\" class=\"dataframe\">\n  <thead>\n    <tr style=\"text-align: right;\">\n      <th></th>\n      <th>govprovidejobs</th>\n      <th>govpricecontrols</th>\n      <th>govhealthcare</th>\n      <th>govelderliving</th>\n      <th>govindhelp</th>\n      <th>govunemp</th>\n      <th>govincomediff</th>\n      <th>govcollegefinance</th>\n      <th>govdecenthousing</th>\n      <th>govprotectenvironment</th>\n    </tr>\n    <tr>\n      <th>personid</th>\n      <th></th>\n      <th></th>\n      <th></th>\n      <th></th>\n      <th></th>\n      <th></th>\n      <th></th>\n      <th></th>\n      <th></th>\n      <th></th>\n    </tr>\n  </thead>\n  <tbody>\n    <tr>\n      <th>100061</th>\n      <td>NaN</td>\n      <td>NaN</td>\n      <td>NaN</td>\n      <td>NaN</td>\n      <td>NaN</td>\n      <td>NaN</td>\n      <td>NaN</td>\n      <td>NaN</td>\n      <td>NaN</td>\n      <td>NaN</td>\n    </tr>\n    <tr>\n      <th>100139</th>\n      <td>NaN</td>\n      <td>NaN</td>\n      <td>NaN</td>\n      <td>NaN</td>\n      <td>NaN</td>\n      <td>NaN</td>\n      <td>NaN</td>\n      <td>NaN</td>\n      <td>NaN</td>\n      <td>NaN</td>\n    </tr>\n    <tr>\n      <th>100284</th>\n      <td>NaN</td>\n      <td>NaN</td>\n      <td>NaN</td>\n      <td>NaN</td>\n      <td>NaN</td>\n      <td>NaN</td>\n      <td>NaN</td>\n      <td>NaN</td>\n      <td>NaN</td>\n      <td>NaN</td>\n    </tr>\n    <tr>\n      <th>100292</th>\n      <td>NaN</td>\n      <td>NaN</td>\n      <td>NaN</td>\n      <td>NaN</td>\n      <td>NaN</td>\n      <td>NaN</td>\n      <td>NaN</td>\n      <td>NaN</td>\n      <td>NaN</td>\n      <td>NaN</td>\n    </tr>\n    <tr>\n      <th>100583</th>\n      <td>NaN</td>\n      <td>NaN</td>\n      <td>NaN</td>\n      <td>NaN</td>\n      <td>NaN</td>\n      <td>NaN</td>\n      <td>NaN</td>\n      <td>NaN</td>\n      <td>NaN</td>\n      <td>NaN</td>\n    </tr>\n    <tr>\n      <th>...</th>\n      <td>...</td>\n      <td>...</td>\n      <td>...</td>\n      <td>...</td>\n      <td>...</td>\n      <td>...</td>\n      <td>...</td>\n      <td>...</td>\n      <td>...</td>\n      <td>...</td>\n    </tr>\n    <tr>\n      <th>999291</th>\n      <td>NaN</td>\n      <td>NaN</td>\n      <td>NaN</td>\n      <td>NaN</td>\n      <td>NaN</td>\n      <td>NaN</td>\n      <td>NaN</td>\n      <td>NaN</td>\n      <td>NaN</td>\n      <td>NaN</td>\n    </tr>\n    <tr>\n      <th>999406</th>\n      <td>NaN</td>\n      <td>NaN</td>\n      <td>NaN</td>\n      <td>NaN</td>\n      <td>NaN</td>\n      <td>NaN</td>\n      <td>NaN</td>\n      <td>NaN</td>\n      <td>NaN</td>\n      <td>NaN</td>\n    </tr>\n    <tr>\n      <th>999543</th>\n      <td>NaN</td>\n      <td>NaN</td>\n      <td>NaN</td>\n      <td>NaN</td>\n      <td>NaN</td>\n      <td>NaN</td>\n      <td>NaN</td>\n      <td>NaN</td>\n      <td>NaN</td>\n      <td>NaN</td>\n    </tr>\n    <tr>\n      <th>999698</th>\n      <td>NaN</td>\n      <td>NaN</td>\n      <td>NaN</td>\n      <td>NaN</td>\n      <td>NaN</td>\n      <td>NaN</td>\n      <td>NaN</td>\n      <td>NaN</td>\n      <td>NaN</td>\n      <td>NaN</td>\n    </tr>\n    <tr>\n      <th>999963</th>\n      <td>NaN</td>\n      <td>NaN</td>\n      <td>NaN</td>\n      <td>NaN</td>\n      <td>NaN</td>\n      <td>NaN</td>\n      <td>NaN</td>\n      <td>NaN</td>\n      <td>NaN</td>\n      <td>NaN</td>\n    </tr>\n  </tbody>\n</table>\n<p>8984 rows × 10 columns</p>\n</div>"
     },
     "execution_count": 42,
     "metadata": {},
     "output_type": "execute_result"
    }
   ],
   "source": [
    "nls97.filter(like='gov')"
   ],
   "metadata": {
    "collapsed": false,
    "pycharm": {
     "name": "#%%\n"
    }
   }
  },
  {
   "cell_type": "code",
   "execution_count": 45,
   "outputs": [
    {
     "data": {
      "text/plain": "                   govprovidejobs  govpricecontrols  govhealthcare  \\\n1. Definitely            0.173315          0.459864       0.564450   \n2. Probably              0.328748          0.380952       0.359566   \n3. Probably not          0.314993          0.112925       0.051560   \n4. Definitely not        0.182944          0.046259       0.024423   \n\n                   govelderliving  govindhelp  govunemp  govincomediff  \\\n1. Definitely            0.632293    0.372549  0.147265       0.258890   \n2. Probably              0.310719    0.445378  0.395512       0.273115   \n3. Probably not          0.037992    0.142857  0.328191       0.284495   \n4. Definitely not        0.018996    0.039216  0.129032       0.183499   \n\n                   govcollegefinance  govdecenthousing  govprotectenvironment  \n1. Definitely               0.695418          0.356354               0.644505  \n2. Probably                 0.261456          0.493094               0.313433  \n3. Probably not             0.033693          0.120166               0.028494  \n4. Definitely not           0.009434          0.030387               0.013569  ",
      "text/html": "<div>\n<style scoped>\n    .dataframe tbody tr th:only-of-type {\n        vertical-align: middle;\n    }\n\n    .dataframe tbody tr th {\n        vertical-align: top;\n    }\n\n    .dataframe thead th {\n        text-align: right;\n    }\n</style>\n<table border=\"1\" class=\"dataframe\">\n  <thead>\n    <tr style=\"text-align: right;\">\n      <th></th>\n      <th>govprovidejobs</th>\n      <th>govpricecontrols</th>\n      <th>govhealthcare</th>\n      <th>govelderliving</th>\n      <th>govindhelp</th>\n      <th>govunemp</th>\n      <th>govincomediff</th>\n      <th>govcollegefinance</th>\n      <th>govdecenthousing</th>\n      <th>govprotectenvironment</th>\n    </tr>\n  </thead>\n  <tbody>\n    <tr>\n      <th>1. Definitely</th>\n      <td>0.173315</td>\n      <td>0.459864</td>\n      <td>0.564450</td>\n      <td>0.632293</td>\n      <td>0.372549</td>\n      <td>0.147265</td>\n      <td>0.258890</td>\n      <td>0.695418</td>\n      <td>0.356354</td>\n      <td>0.644505</td>\n    </tr>\n    <tr>\n      <th>2. Probably</th>\n      <td>0.328748</td>\n      <td>0.380952</td>\n      <td>0.359566</td>\n      <td>0.310719</td>\n      <td>0.445378</td>\n      <td>0.395512</td>\n      <td>0.273115</td>\n      <td>0.261456</td>\n      <td>0.493094</td>\n      <td>0.313433</td>\n    </tr>\n    <tr>\n      <th>3. Probably not</th>\n      <td>0.314993</td>\n      <td>0.112925</td>\n      <td>0.051560</td>\n      <td>0.037992</td>\n      <td>0.142857</td>\n      <td>0.328191</td>\n      <td>0.284495</td>\n      <td>0.033693</td>\n      <td>0.120166</td>\n      <td>0.028494</td>\n    </tr>\n    <tr>\n      <th>4. Definitely not</th>\n      <td>0.182944</td>\n      <td>0.046259</td>\n      <td>0.024423</td>\n      <td>0.018996</td>\n      <td>0.039216</td>\n      <td>0.129032</td>\n      <td>0.183499</td>\n      <td>0.009434</td>\n      <td>0.030387</td>\n      <td>0.013569</td>\n    </tr>\n  </tbody>\n</table>\n</div>"
     },
     "execution_count": 45,
     "metadata": {},
     "output_type": "execute_result"
    }
   ],
   "source": [
    "nls97[nls97.maritalstatus == 'Married'].filter(like='gov').apply(pd.Series.value_counts, normalize=True)"
   ],
   "metadata": {
    "collapsed": false,
    "pycharm": {
     "name": "#%%\n"
    }
   }
  },
  {
   "cell_type": "code",
   "execution_count": 48,
   "outputs": [],
   "source": [
    "# Find frequencies and save to file\n",
    "freqout = open('views/frequencies.txt', 'w')\n",
    "\n",
    "for col in nls97.select_dtypes(include=[\"category\"]):\n",
    "    print(col, \"----------------\", \"frequencies\",\n",
    "          nls97[col].value_counts(sort=False), \"percentages\",\n",
    "          nls97[col].value_counts(sort=False, normalize=True),\n",
    "          sep='\\n\\n', end='\\n\\n', file=freqout)\n",
    "freqout.close()"
   ],
   "metadata": {
    "collapsed": false,
    "pycharm": {
     "name": "#%%\n"
    }
   }
  },
  {
   "cell_type": "markdown",
   "source": [
    "# Generating summary statistics for continous variables"
   ],
   "metadata": {
    "collapsed": false,
    "pycharm": {
     "name": "#%% md\n"
    }
   }
  },
  {
   "cell_type": "code",
   "execution_count": 12,
   "outputs": [],
   "source": [
    "import matplotlib.pyplot as plt"
   ],
   "metadata": {
    "collapsed": false,
    "pycharm": {
     "name": "#%%\n"
    }
   }
  },
  {
   "cell_type": "code",
   "execution_count": 1,
   "outputs": [
    {
     "data": {
      "text/plain": "           lastdate        location  total_cases  total_deaths  \\\niso_code                                                         \nAFG      2020-06-01     Afghanistan        15205           257   \nALB      2020-06-01         Albania         1137            33   \nDZA      2020-06-01         Algeria         9394           653   \nAND      2020-06-01         Andorra          764            51   \nAGO      2020-06-01          Angola           86             4   \n...             ...             ...          ...           ...   \nVNM      2020-06-01         Vietnam          328             0   \nESH      2020-06-01  Western Sahara           23             1   \nYEM      2020-06-01           Yemen          323            80   \nZMB      2020-06-01          Zambia         1057             7   \nZWE      2020-06-01        Zimbabwe          178             4   \n\n          total_cases_pm  total_deaths_pm  population  pop_density  \\\niso_code                                                             \nAFG              390.589            6.602  38928341.0       54.422   \nALB              395.093           11.467   2877800.0      104.871   \nDZA              214.225           14.891  43851043.0       17.348   \nAND             9888.048          660.066     77265.0      163.755   \nAGO                2.617            0.122  32866268.0       23.890   \n...                  ...              ...         ...          ...   \nVNM                3.370            0.000  97338583.0      308.127   \nESH               38.505            1.674    597330.0          NaN   \nYEM               10.829            2.682  29825968.0       53.508   \nZMB               57.496            0.381  18383956.0       22.995   \nZWE               11.976            0.269  14862927.0       42.729   \n\n          median_age  gdp_per_capita  hosp_beds  \niso_code                                         \nAFG             18.6        1803.987       0.50  \nALB             38.0       11803.431       2.89  \nDZA             29.1       13913.839       1.90  \nAND              NaN             NaN        NaN  \nAGO             16.8        5819.495        NaN  \n...              ...             ...        ...  \nVNM             32.6        6171.884       2.60  \nESH             28.4             NaN        NaN  \nYEM             20.3        1479.147       0.70  \nZMB             17.7        3689.251       2.00  \nZWE             19.6        1899.775       1.70  \n\n[210 rows x 11 columns]",
      "text/html": "<div>\n<style scoped>\n    .dataframe tbody tr th:only-of-type {\n        vertical-align: middle;\n    }\n\n    .dataframe tbody tr th {\n        vertical-align: top;\n    }\n\n    .dataframe thead th {\n        text-align: right;\n    }\n</style>\n<table border=\"1\" class=\"dataframe\">\n  <thead>\n    <tr style=\"text-align: right;\">\n      <th></th>\n      <th>lastdate</th>\n      <th>location</th>\n      <th>total_cases</th>\n      <th>total_deaths</th>\n      <th>total_cases_pm</th>\n      <th>total_deaths_pm</th>\n      <th>population</th>\n      <th>pop_density</th>\n      <th>median_age</th>\n      <th>gdp_per_capita</th>\n      <th>hosp_beds</th>\n    </tr>\n    <tr>\n      <th>iso_code</th>\n      <th></th>\n      <th></th>\n      <th></th>\n      <th></th>\n      <th></th>\n      <th></th>\n      <th></th>\n      <th></th>\n      <th></th>\n      <th></th>\n      <th></th>\n    </tr>\n  </thead>\n  <tbody>\n    <tr>\n      <th>AFG</th>\n      <td>2020-06-01</td>\n      <td>Afghanistan</td>\n      <td>15205</td>\n      <td>257</td>\n      <td>390.589</td>\n      <td>6.602</td>\n      <td>38928341.0</td>\n      <td>54.422</td>\n      <td>18.6</td>\n      <td>1803.987</td>\n      <td>0.50</td>\n    </tr>\n    <tr>\n      <th>ALB</th>\n      <td>2020-06-01</td>\n      <td>Albania</td>\n      <td>1137</td>\n      <td>33</td>\n      <td>395.093</td>\n      <td>11.467</td>\n      <td>2877800.0</td>\n      <td>104.871</td>\n      <td>38.0</td>\n      <td>11803.431</td>\n      <td>2.89</td>\n    </tr>\n    <tr>\n      <th>DZA</th>\n      <td>2020-06-01</td>\n      <td>Algeria</td>\n      <td>9394</td>\n      <td>653</td>\n      <td>214.225</td>\n      <td>14.891</td>\n      <td>43851043.0</td>\n      <td>17.348</td>\n      <td>29.1</td>\n      <td>13913.839</td>\n      <td>1.90</td>\n    </tr>\n    <tr>\n      <th>AND</th>\n      <td>2020-06-01</td>\n      <td>Andorra</td>\n      <td>764</td>\n      <td>51</td>\n      <td>9888.048</td>\n      <td>660.066</td>\n      <td>77265.0</td>\n      <td>163.755</td>\n      <td>NaN</td>\n      <td>NaN</td>\n      <td>NaN</td>\n    </tr>\n    <tr>\n      <th>AGO</th>\n      <td>2020-06-01</td>\n      <td>Angola</td>\n      <td>86</td>\n      <td>4</td>\n      <td>2.617</td>\n      <td>0.122</td>\n      <td>32866268.0</td>\n      <td>23.890</td>\n      <td>16.8</td>\n      <td>5819.495</td>\n      <td>NaN</td>\n    </tr>\n    <tr>\n      <th>...</th>\n      <td>...</td>\n      <td>...</td>\n      <td>...</td>\n      <td>...</td>\n      <td>...</td>\n      <td>...</td>\n      <td>...</td>\n      <td>...</td>\n      <td>...</td>\n      <td>...</td>\n      <td>...</td>\n    </tr>\n    <tr>\n      <th>VNM</th>\n      <td>2020-06-01</td>\n      <td>Vietnam</td>\n      <td>328</td>\n      <td>0</td>\n      <td>3.370</td>\n      <td>0.000</td>\n      <td>97338583.0</td>\n      <td>308.127</td>\n      <td>32.6</td>\n      <td>6171.884</td>\n      <td>2.60</td>\n    </tr>\n    <tr>\n      <th>ESH</th>\n      <td>2020-06-01</td>\n      <td>Western Sahara</td>\n      <td>23</td>\n      <td>1</td>\n      <td>38.505</td>\n      <td>1.674</td>\n      <td>597330.0</td>\n      <td>NaN</td>\n      <td>28.4</td>\n      <td>NaN</td>\n      <td>NaN</td>\n    </tr>\n    <tr>\n      <th>YEM</th>\n      <td>2020-06-01</td>\n      <td>Yemen</td>\n      <td>323</td>\n      <td>80</td>\n      <td>10.829</td>\n      <td>2.682</td>\n      <td>29825968.0</td>\n      <td>53.508</td>\n      <td>20.3</td>\n      <td>1479.147</td>\n      <td>0.70</td>\n    </tr>\n    <tr>\n      <th>ZMB</th>\n      <td>2020-06-01</td>\n      <td>Zambia</td>\n      <td>1057</td>\n      <td>7</td>\n      <td>57.496</td>\n      <td>0.381</td>\n      <td>18383956.0</td>\n      <td>22.995</td>\n      <td>17.7</td>\n      <td>3689.251</td>\n      <td>2.00</td>\n    </tr>\n    <tr>\n      <th>ZWE</th>\n      <td>2020-06-01</td>\n      <td>Zimbabwe</td>\n      <td>178</td>\n      <td>4</td>\n      <td>11.976</td>\n      <td>0.269</td>\n      <td>14862927.0</td>\n      <td>42.729</td>\n      <td>19.6</td>\n      <td>1899.775</td>\n      <td>1.70</td>\n    </tr>\n  </tbody>\n</table>\n<p>210 rows × 11 columns</p>\n</div>"
     },
     "execution_count": 1,
     "metadata": {},
     "output_type": "execute_result"
    }
   ],
   "source": [
    "import pandas as pd\n",
    "import numpy as np\n",
    "covidtotals = pd.read_csv('data/covidtotals.csv', parse_dates=['lastdate'])\n",
    "covidtotals.set_index(\"iso_code\", inplace=True)\n",
    "covidtotals"
   ],
   "metadata": {
    "collapsed": false,
    "pycharm": {
     "name": "#%%\n"
    }
   }
  },
  {
   "cell_type": "code",
   "execution_count": 4,
   "outputs": [
    {
     "data": {
      "text/plain": "iso_code                         COG                  THA\nlastdate         2020-06-01 00:00:00  2020-06-01 00:00:00\nlocation                       Congo             Thailand\ntotal_cases                      611                 3081\ntotal_deaths                      20                   57\ntotal_cases_pm               110.727                44.14\ntotal_deaths_pm                3.624                0.817\npopulation                 5518092.0           69799978.0\npop_density                   15.405              135.132\nmedian_age                      19.0                 40.1\ngdp_per_capita              4881.406            16277.671\nhosp_beds                        NaN                  2.1",
      "text/html": "<div>\n<style scoped>\n    .dataframe tbody tr th:only-of-type {\n        vertical-align: middle;\n    }\n\n    .dataframe tbody tr th {\n        vertical-align: top;\n    }\n\n    .dataframe thead th {\n        text-align: right;\n    }\n</style>\n<table border=\"1\" class=\"dataframe\">\n  <thead>\n    <tr style=\"text-align: right;\">\n      <th>iso_code</th>\n      <th>COG</th>\n      <th>THA</th>\n    </tr>\n  </thead>\n  <tbody>\n    <tr>\n      <th>lastdate</th>\n      <td>2020-06-01 00:00:00</td>\n      <td>2020-06-01 00:00:00</td>\n    </tr>\n    <tr>\n      <th>location</th>\n      <td>Congo</td>\n      <td>Thailand</td>\n    </tr>\n    <tr>\n      <th>total_cases</th>\n      <td>611</td>\n      <td>3081</td>\n    </tr>\n    <tr>\n      <th>total_deaths</th>\n      <td>20</td>\n      <td>57</td>\n    </tr>\n    <tr>\n      <th>total_cases_pm</th>\n      <td>110.727</td>\n      <td>44.14</td>\n    </tr>\n    <tr>\n      <th>total_deaths_pm</th>\n      <td>3.624</td>\n      <td>0.817</td>\n    </tr>\n    <tr>\n      <th>population</th>\n      <td>5518092.0</td>\n      <td>69799978.0</td>\n    </tr>\n    <tr>\n      <th>pop_density</th>\n      <td>15.405</td>\n      <td>135.132</td>\n    </tr>\n    <tr>\n      <th>median_age</th>\n      <td>19.0</td>\n      <td>40.1</td>\n    </tr>\n    <tr>\n      <th>gdp_per_capita</th>\n      <td>4881.406</td>\n      <td>16277.671</td>\n    </tr>\n    <tr>\n      <th>hosp_beds</th>\n      <td>NaN</td>\n      <td>2.1</td>\n    </tr>\n  </tbody>\n</table>\n</div>"
     },
     "execution_count": 4,
     "metadata": {},
     "output_type": "execute_result"
    }
   ],
   "source": [
    "covidtotals.sample(2, random_state=1).T"
   ],
   "metadata": {
    "collapsed": false,
    "pycharm": {
     "name": "#%%\n"
    }
   }
  },
  {
   "cell_type": "code",
   "execution_count": 7,
   "outputs": [],
   "source": [
    "pd.options.display.float_format = '{:,.2f}'.format"
   ],
   "metadata": {
    "collapsed": false,
    "pycharm": {
     "name": "#%%\n"
    }
   }
  },
  {
   "cell_type": "code",
   "execution_count": 8,
   "outputs": [
    {
     "data": {
      "text/plain": "       total_cases  total_deaths  total_cases_pm  total_deaths_pm  \\\ncount       210.00        210.00          209.00           209.00   \nmean     29,216.14      1,770.71        1,361.84            55.93   \nstd     136,397.80      8,705.57        2,629.89           145.08   \nmin           0.00          0.00            0.89             0.00   \n25%         175.75          4.00           96.78             0.89   \n50%       1,242.50         25.50          282.00             6.21   \n75%      10,117.00        241.25        1,803.32            32.16   \nmax   1,790,191.00    104,383.00       19,771.35         1,237.55   \n\n            population  pop_density  median_age  gdp_per_capita  hosp_beds  \ncount           210.00       198.00      186.00          182.00     164.00  \nmean     36,942,762.36       362.87       30.63       19,539.15       3.01  \nstd     142,509,205.13     1,581.44        9.13       19,862.35       2.46  \nmin             809.00         0.14       15.10          661.24       0.10  \n25%       1,031,042.50        37.42       22.25        4,485.33       1.30  \n50%       6,909,866.00        87.25       30.25       13,183.08       2.36  \n75%      26,158,676.50       214.12       39.00       28,556.53       3.90  \nmax   1,439,323,774.00    19,347.50       48.20      116,935.60      13.80  ",
      "text/html": "<div>\n<style scoped>\n    .dataframe tbody tr th:only-of-type {\n        vertical-align: middle;\n    }\n\n    .dataframe tbody tr th {\n        vertical-align: top;\n    }\n\n    .dataframe thead th {\n        text-align: right;\n    }\n</style>\n<table border=\"1\" class=\"dataframe\">\n  <thead>\n    <tr style=\"text-align: right;\">\n      <th></th>\n      <th>total_cases</th>\n      <th>total_deaths</th>\n      <th>total_cases_pm</th>\n      <th>total_deaths_pm</th>\n      <th>population</th>\n      <th>pop_density</th>\n      <th>median_age</th>\n      <th>gdp_per_capita</th>\n      <th>hosp_beds</th>\n    </tr>\n  </thead>\n  <tbody>\n    <tr>\n      <th>count</th>\n      <td>210.00</td>\n      <td>210.00</td>\n      <td>209.00</td>\n      <td>209.00</td>\n      <td>210.00</td>\n      <td>198.00</td>\n      <td>186.00</td>\n      <td>182.00</td>\n      <td>164.00</td>\n    </tr>\n    <tr>\n      <th>mean</th>\n      <td>29,216.14</td>\n      <td>1,770.71</td>\n      <td>1,361.84</td>\n      <td>55.93</td>\n      <td>36,942,762.36</td>\n      <td>362.87</td>\n      <td>30.63</td>\n      <td>19,539.15</td>\n      <td>3.01</td>\n    </tr>\n    <tr>\n      <th>std</th>\n      <td>136,397.80</td>\n      <td>8,705.57</td>\n      <td>2,629.89</td>\n      <td>145.08</td>\n      <td>142,509,205.13</td>\n      <td>1,581.44</td>\n      <td>9.13</td>\n      <td>19,862.35</td>\n      <td>2.46</td>\n    </tr>\n    <tr>\n      <th>min</th>\n      <td>0.00</td>\n      <td>0.00</td>\n      <td>0.89</td>\n      <td>0.00</td>\n      <td>809.00</td>\n      <td>0.14</td>\n      <td>15.10</td>\n      <td>661.24</td>\n      <td>0.10</td>\n    </tr>\n    <tr>\n      <th>25%</th>\n      <td>175.75</td>\n      <td>4.00</td>\n      <td>96.78</td>\n      <td>0.89</td>\n      <td>1,031,042.50</td>\n      <td>37.42</td>\n      <td>22.25</td>\n      <td>4,485.33</td>\n      <td>1.30</td>\n    </tr>\n    <tr>\n      <th>50%</th>\n      <td>1,242.50</td>\n      <td>25.50</td>\n      <td>282.00</td>\n      <td>6.21</td>\n      <td>6,909,866.00</td>\n      <td>87.25</td>\n      <td>30.25</td>\n      <td>13,183.08</td>\n      <td>2.36</td>\n    </tr>\n    <tr>\n      <th>75%</th>\n      <td>10,117.00</td>\n      <td>241.25</td>\n      <td>1,803.32</td>\n      <td>32.16</td>\n      <td>26,158,676.50</td>\n      <td>214.12</td>\n      <td>39.00</td>\n      <td>28,556.53</td>\n      <td>3.90</td>\n    </tr>\n    <tr>\n      <th>max</th>\n      <td>1,790,191.00</td>\n      <td>104,383.00</td>\n      <td>19,771.35</td>\n      <td>1,237.55</td>\n      <td>1,439,323,774.00</td>\n      <td>19,347.50</td>\n      <td>48.20</td>\n      <td>116,935.60</td>\n      <td>13.80</td>\n    </tr>\n  </tbody>\n</table>\n</div>"
     },
     "execution_count": 8,
     "metadata": {},
     "output_type": "execute_result"
    }
   ],
   "source": [
    "covidtotals.describe()\n",
    "\n"
   ],
   "metadata": {
    "collapsed": false,
    "pycharm": {
     "name": "#%%\n"
    }
   }
  },
  {
   "cell_type": "code",
   "execution_count": 9,
   "outputs": [
    {
     "name": "stdout",
     "output_type": "stream",
     "text": [
      "<class 'pandas.core.frame.DataFrame'>\n",
      "Index: 210 entries, AFG to ZWE\n",
      "Data columns (total 11 columns):\n",
      " #   Column           Non-Null Count  Dtype         \n",
      "---  ------           --------------  -----         \n",
      " 0   lastdate         210 non-null    datetime64[ns]\n",
      " 1   location         210 non-null    object        \n",
      " 2   total_cases      210 non-null    int64         \n",
      " 3   total_deaths     210 non-null    int64         \n",
      " 4   total_cases_pm   209 non-null    float64       \n",
      " 5   total_deaths_pm  209 non-null    float64       \n",
      " 6   population       210 non-null    float64       \n",
      " 7   pop_density      198 non-null    float64       \n",
      " 8   median_age       186 non-null    float64       \n",
      " 9   gdp_per_capita   182 non-null    float64       \n",
      " 10  hosp_beds        164 non-null    float64       \n",
      "dtypes: datetime64[ns](1), float64(7), int64(2), object(1)\n",
      "memory usage: 19.7+ KB\n"
     ]
    }
   ],
   "source": [
    "covidtotals.info()"
   ],
   "metadata": {
    "collapsed": false,
    "pycharm": {
     "name": "#%%\n"
    }
   }
  },
  {
   "cell_type": "code",
   "execution_count": 10,
   "outputs": [
    {
     "data": {
      "text/plain": "      total_cases  total_deaths  total_cases_pm  total_deaths_pm  \\\n0.00         0.00          0.00            0.89             0.00   \n0.10        22.90          0.00           18.49             0.00   \n0.20       105.20          2.00           56.74             0.40   \n0.30       302.00          6.70          118.23             1.73   \n0.40       762.00         12.00          214.92             3.97   \n0.50     1,242.50         25.50          282.00             6.21   \n0.60     2,514.60         54.60          546.05            12.56   \n0.70     6,959.80        137.20        1,074.03            26.06   \n0.80    16,847.20        323.20        2,208.74            50.29   \n0.90    46,513.10      1,616.90        3,772.00           139.53   \n\n        population  pop_density  median_age  gdp_per_capita  hosp_beds  \n0.00        809.00         0.14       15.10          661.24       0.10  \n0.10     84,255.30        15.28       18.70        1,705.78       0.70  \n0.20    552,898.80        25.08       20.30        3,419.58       1.08  \n0.30  2,045,651.80        46.33       24.65        6,187.09       1.40  \n0.40  4,297,086.00        69.60       28.10        8,740.19       1.92  \n0.50  6,909,866.00        87.25       30.25       13,183.08       2.36  \n0.60 10,764,550.80       112.39       32.60       16,884.85       2.90  \n0.70 18,501,781.30       194.14       37.50       24,732.48       3.60  \n0.80 33,071,316.60       262.73       41.00       34,890.21       4.50  \n0.90 65,534,761.20       441.27       43.05       46,378.33       6.20  ",
      "text/html": "<div>\n<style scoped>\n    .dataframe tbody tr th:only-of-type {\n        vertical-align: middle;\n    }\n\n    .dataframe tbody tr th {\n        vertical-align: top;\n    }\n\n    .dataframe thead th {\n        text-align: right;\n    }\n</style>\n<table border=\"1\" class=\"dataframe\">\n  <thead>\n    <tr style=\"text-align: right;\">\n      <th></th>\n      <th>total_cases</th>\n      <th>total_deaths</th>\n      <th>total_cases_pm</th>\n      <th>total_deaths_pm</th>\n      <th>population</th>\n      <th>pop_density</th>\n      <th>median_age</th>\n      <th>gdp_per_capita</th>\n      <th>hosp_beds</th>\n    </tr>\n  </thead>\n  <tbody>\n    <tr>\n      <th>0.00</th>\n      <td>0.00</td>\n      <td>0.00</td>\n      <td>0.89</td>\n      <td>0.00</td>\n      <td>809.00</td>\n      <td>0.14</td>\n      <td>15.10</td>\n      <td>661.24</td>\n      <td>0.10</td>\n    </tr>\n    <tr>\n      <th>0.10</th>\n      <td>22.90</td>\n      <td>0.00</td>\n      <td>18.49</td>\n      <td>0.00</td>\n      <td>84,255.30</td>\n      <td>15.28</td>\n      <td>18.70</td>\n      <td>1,705.78</td>\n      <td>0.70</td>\n    </tr>\n    <tr>\n      <th>0.20</th>\n      <td>105.20</td>\n      <td>2.00</td>\n      <td>56.74</td>\n      <td>0.40</td>\n      <td>552,898.80</td>\n      <td>25.08</td>\n      <td>20.30</td>\n      <td>3,419.58</td>\n      <td>1.08</td>\n    </tr>\n    <tr>\n      <th>0.30</th>\n      <td>302.00</td>\n      <td>6.70</td>\n      <td>118.23</td>\n      <td>1.73</td>\n      <td>2,045,651.80</td>\n      <td>46.33</td>\n      <td>24.65</td>\n      <td>6,187.09</td>\n      <td>1.40</td>\n    </tr>\n    <tr>\n      <th>0.40</th>\n      <td>762.00</td>\n      <td>12.00</td>\n      <td>214.92</td>\n      <td>3.97</td>\n      <td>4,297,086.00</td>\n      <td>69.60</td>\n      <td>28.10</td>\n      <td>8,740.19</td>\n      <td>1.92</td>\n    </tr>\n    <tr>\n      <th>0.50</th>\n      <td>1,242.50</td>\n      <td>25.50</td>\n      <td>282.00</td>\n      <td>6.21</td>\n      <td>6,909,866.00</td>\n      <td>87.25</td>\n      <td>30.25</td>\n      <td>13,183.08</td>\n      <td>2.36</td>\n    </tr>\n    <tr>\n      <th>0.60</th>\n      <td>2,514.60</td>\n      <td>54.60</td>\n      <td>546.05</td>\n      <td>12.56</td>\n      <td>10,764,550.80</td>\n      <td>112.39</td>\n      <td>32.60</td>\n      <td>16,884.85</td>\n      <td>2.90</td>\n    </tr>\n    <tr>\n      <th>0.70</th>\n      <td>6,959.80</td>\n      <td>137.20</td>\n      <td>1,074.03</td>\n      <td>26.06</td>\n      <td>18,501,781.30</td>\n      <td>194.14</td>\n      <td>37.50</td>\n      <td>24,732.48</td>\n      <td>3.60</td>\n    </tr>\n    <tr>\n      <th>0.80</th>\n      <td>16,847.20</td>\n      <td>323.20</td>\n      <td>2,208.74</td>\n      <td>50.29</td>\n      <td>33,071,316.60</td>\n      <td>262.73</td>\n      <td>41.00</td>\n      <td>34,890.21</td>\n      <td>4.50</td>\n    </tr>\n    <tr>\n      <th>0.90</th>\n      <td>46,513.10</td>\n      <td>1,616.90</td>\n      <td>3,772.00</td>\n      <td>139.53</td>\n      <td>65,534,761.20</td>\n      <td>441.27</td>\n      <td>43.05</td>\n      <td>46,378.33</td>\n      <td>6.20</td>\n    </tr>\n  </tbody>\n</table>\n</div>"
     },
     "execution_count": 10,
     "metadata": {},
     "output_type": "execute_result"
    }
   ],
   "source": [
    "covidtotals.quantile(np.arange(0, 1, 0.1))"
   ],
   "metadata": {
    "collapsed": false,
    "pycharm": {
     "name": "#%%\n"
    }
   }
  },
  {
   "cell_type": "code",
   "execution_count": 13,
   "outputs": [
    {
     "data": {
      "text/plain": "<function matplotlib.pyplot.show(close=None, block=None)>"
     },
     "execution_count": 13,
     "metadata": {},
     "output_type": "execute_result"
    },
    {
     "data": {
      "text/plain": "<Figure size 432x288 with 1 Axes>",
      "image/png": "[encoded data removed]"
     },
     "metadata": {
      "needs_background": "light"
     },
     "output_type": "display_data"
    }
   ],
   "source": [
    "plt.hist(covidtotals['total_cases']/1000, bins=12)\n",
    "plt.title(\"Total Covid Cases\")\n",
    "plt.xlabel(\"Cases\")\n",
    "plt.ylabel(\"Number of Countries\")\n",
    "plt.show"
   ],
   "metadata": {
    "collapsed": false,
    "pycharm": {
     "name": "#%%\n"
    }
   }
  },
  {
   "cell_type": "markdown",
   "source": [
    "# Missing Values and Outliers"
   ],
   "metadata": {
    "collapsed": false,
    "pycharm": {
     "name": "#%% md\n"
    }
   }
  },
  {
   "cell_type": "code",
   "execution_count": null,
   "outputs": [],
   "source": [
    "\n"
   ],
   "metadata": {
    "collapsed": false,
    "pycharm": {
     "name": "#%%\n"
    }
   }
  }
 ],
 "metadata": {
  "kernelspec": {
   "display_name": "Python 3",
   "language": "python",
   "name": "python3"
  },
  "language_info": {
   "codemirror_mode": {
    "name": "ipython",
    "version": 2
   },
   "file_extension": ".py",
   "mimetype": "text/x-python",
   "name": "python",
   "nbconvert_exporter": "python",
   "pygments_lexer": "ipython2",
   "version": "2.7.6"
  }
 },
 "nbformat": 4,
 "nbformat_minor": 0
}