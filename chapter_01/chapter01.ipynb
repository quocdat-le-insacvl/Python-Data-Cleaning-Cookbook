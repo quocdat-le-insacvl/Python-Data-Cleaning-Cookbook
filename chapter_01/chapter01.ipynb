{
 "cells": [
  {
   "cell_type": "code",
   "execution_count": 1,
   "metadata": {
    "collapsed": true
   },
   "outputs": [],
   "source": [
    "import pandas as pd\n",
    "pd.options.display.float_format = '{:,.2f}'.format\n",
    "pd.set_option('display.width', 85)\n",
    "pd.set_option('display.max_columns', 8)\n",
    "landtemps"
   ]
  },
  {
   "cell_type": "code",
   "execution_count": 2,
   "outputs": [],
   "source": [
    "landtemps = pd.read_csv('data/landtempssample.csv',\n",
    "                        names=['stationid', 'year', 'month', 'avgtemp', 'latitude',\n",
    "                               'longitude', 'elevation', 'station', 'countryid', 'country'],\n",
    "                        # skip the header\n",
    "                        skiprows=1,\n",
    "                        parse_dates=[['month', 'year']],\n",
    "                        # reduce the usage of memory during import process\n",
    "                        # but finally, the data will be read into RAM\n",
    "                        low_memory=False)"
   ],
   "metadata": {
    "collapsed": false,
    "pycharm": {
     "name": "#%%\n"
    }
   }
  },
  {
   "cell_type": "code",
   "execution_count": 5,
   "outputs": [
    {
     "data": {
      "text/plain": "  month_year    stationid  avgtemp  latitude  ...  elevation           station  \\\n0 2000-04-01  USS0010K01S     5.27     39.90  ...   2,773.70     INDIAN_CANYON   \n1 1940-05-01  CI000085406    18.04    -18.35  ...      58.00             ARICA   \n2 2013-12-01  USC00036376     6.22     34.37  ...      61.00     SAINT_CHARLES   \n3 1963-02-01  ASN00024002    22.93    -34.28  ...      65.50  BERRI_IRRIGATION   \n4 2001-11-01  ASN00028007      NaN    -14.78  ...      79.40          MUSGRAVE   \n5 1991-04-01  USW00024151     5.59     42.15  ...   1,362.50        MALAD_CITY   \n6 1993-12-01  RSM00022641   -10.17     63.90  ...      13.00             ONEGA   \n\n  countryid        country  \n0        US  United States  \n1        CI          Chile  \n2        US  United States  \n3        AS      Australia  \n4        AS      Australia  \n5        US  United States  \n6        RS         Russia  \n\n[7 rows x 9 columns]",
      "text/html": "<div>\n<style scoped>\n    .dataframe tbody tr th:only-of-type {\n        vertical-align: middle;\n    }\n\n    .dataframe tbody tr th {\n        vertical-align: top;\n    }\n\n    .dataframe thead th {\n        text-align: right;\n    }\n</style>\n<table border=\"1\" class=\"dataframe\">\n  <thead>\n    <tr style=\"text-align: right;\">\n      <th></th>\n      <th>month_year</th>\n      <th>stationid</th>\n      <th>avgtemp</th>\n      <th>latitude</th>\n      <th>...</th>\n      <th>elevation</th>\n      <th>station</th>\n      <th>countryid</th>\n      <th>country</th>\n    </tr>\n  </thead>\n  <tbody>\n    <tr>\n      <th>0</th>\n      <td>2000-04-01</td>\n      <td>USS0010K01S</td>\n      <td>5.27</td>\n      <td>39.90</td>\n      <td>...</td>\n      <td>2,773.70</td>\n      <td>INDIAN_CANYON</td>\n      <td>US</td>\n      <td>United States</td>\n    </tr>\n    <tr>\n      <th>1</th>\n      <td>1940-05-01</td>\n      <td>CI000085406</td>\n      <td>18.04</td>\n      <td>-18.35</td>\n      <td>...</td>\n      <td>58.00</td>\n      <td>ARICA</td>\n      <td>CI</td>\n      <td>Chile</td>\n    </tr>\n    <tr>\n      <th>2</th>\n      <td>2013-12-01</td>\n      <td>USC00036376</td>\n      <td>6.22</td>\n      <td>34.37</td>\n      <td>...</td>\n      <td>61.00</td>\n      <td>SAINT_CHARLES</td>\n      <td>US</td>\n      <td>United States</td>\n    </tr>\n    <tr>\n      <th>3</th>\n      <td>1963-02-01</td>\n      <td>ASN00024002</td>\n      <td>22.93</td>\n      <td>-34.28</td>\n      <td>...</td>\n      <td>65.50</td>\n      <td>BERRI_IRRIGATION</td>\n      <td>AS</td>\n      <td>Australia</td>\n    </tr>\n    <tr>\n      <th>4</th>\n      <td>2001-11-01</td>\n      <td>ASN00028007</td>\n      <td>NaN</td>\n      <td>-14.78</td>\n      <td>...</td>\n      <td>79.40</td>\n      <td>MUSGRAVE</td>\n      <td>AS</td>\n      <td>Australia</td>\n    </tr>\n    <tr>\n      <th>5</th>\n      <td>1991-04-01</td>\n      <td>USW00024151</td>\n      <td>5.59</td>\n      <td>42.15</td>\n      <td>...</td>\n      <td>1,362.50</td>\n      <td>MALAD_CITY</td>\n      <td>US</td>\n      <td>United States</td>\n    </tr>\n    <tr>\n      <th>6</th>\n      <td>1993-12-01</td>\n      <td>RSM00022641</td>\n      <td>-10.17</td>\n      <td>63.90</td>\n      <td>...</td>\n      <td>13.00</td>\n      <td>ONEGA</td>\n      <td>RS</td>\n      <td>Russia</td>\n    </tr>\n  </tbody>\n</table>\n<p>7 rows × 9 columns</p>\n</div>"
     },
     "execution_count": 5,
     "metadata": {},
     "output_type": "execute_result"
    }
   ],
   "source": [
    "landtemps.head(7)"
   ],
   "metadata": {
    "collapsed": false,
    "pycharm": {
     "name": "#%%\n"
    }
   }
  },
  {
   "cell_type": "code",
   "execution_count": 6,
   "outputs": [
    {
     "data": {
      "text/plain": "month_year    datetime64[ns]\nstationid             object\navgtemp              float64\nlatitude             float64\nlongitude            float64\nelevation            float64\nstation               object\ncountryid             object\ncountry               object\ndtype: object"
     },
     "execution_count": 6,
     "metadata": {},
     "output_type": "execute_result"
    }
   ],
   "source": [
    "landtemps.dtypes"
   ],
   "metadata": {
    "collapsed": false,
    "pycharm": {
     "name": "#%%\n"
    }
   }
  },
  {
   "cell_type": "code",
   "execution_count": 8,
   "outputs": [],
   "source": [
    "# Give a better name\n",
    "landtemps.rename(columns={'month_year':'mesureday'}, inplace=True)"
   ],
   "metadata": {
    "collapsed": false,
    "pycharm": {
     "name": "#%%\n"
    }
   }
  },
  {
   "cell_type": "code",
   "execution_count": 9,
   "outputs": [
    {
     "data": {
      "text/plain": "mesureday    datetime64[ns]\nstationid            object\navgtemp             float64\nlatitude            float64\nlongitude           float64\nelevation           float64\nstation              object\ncountryid            object\ncountry              object\ndtype: object"
     },
     "execution_count": 9,
     "metadata": {},
     "output_type": "execute_result"
    }
   ],
   "source": [
    "landtemps.dtypes"
   ],
   "metadata": {
    "collapsed": false,
    "pycharm": {
     "name": "#%%\n"
    }
   }
  },
  {
   "cell_type": "code",
   "execution_count": 11,
   "outputs": [
    {
     "data": {
      "text/plain": "count   85,554.00\nmean        10.92\nstd         11.52\nmin        -70.70\n25%          3.46\n50%         12.22\n75%         19.57\nmax         39.95\nName: avgtemp, dtype: float64"
     },
     "execution_count": 11,
     "metadata": {},
     "output_type": "execute_result"
    }
   ],
   "source": [
    "landtemps.avgtemp.describe()"
   ],
   "metadata": {
    "collapsed": false,
    "pycharm": {
     "name": "#%%\n"
    }
   }
  },
  {
   "cell_type": "code",
   "execution_count": 14,
   "outputs": [
    {
     "name": "stdout",
     "output_type": "stream",
     "text": [
      "mesureday    0\n",
      "stationid    0\n",
      "avgtemp      0\n",
      "latitude     0\n",
      "longitude    0\n",
      "elevation    0\n",
      "station      0\n",
      "countryid    0\n",
      "country      2\n",
      "dtype: int64\n",
      "(85554, 9)\n"
     ]
    },
    {
     "data": {
      "text/plain": "(85554, 9)"
     },
     "execution_count": 14,
     "metadata": {},
     "output_type": "execute_result"
    }
   ],
   "source": [
    "# Looking for missing value\n",
    "# this is an example of chaining methods\n",
    "# there is no rules about when to use or not to use chaining methods\n",
    "# but it's helpful cause it's may be interpreted like a single step\n",
    "# Chaining has also a side benefit : not creating extra objects\n",
    "print(landtemps.isnull().sum())\n",
    "print(landtemps.shape)\n",
    "# Drop rows which have Nan\n",
    "# subset is used to indicate which column to check for Nan value\n",
    "landtemps.dropna(subset=['avgtemp'], inplace=True)\n",
    "landtemps.shape"
   ],
   "metadata": {
    "collapsed": false,
    "pycharm": {
     "name": "#%%\n"
    }
   }
  },
  {
   "cell_type": "code",
   "execution_count": 15,
   "outputs": [
    {
     "data": {
      "text/plain": "      month_year    stationid  avgtemp  latitude  ...  elevation  \\\n0     2000-04-01  USS0010K01S     5.27     39.90  ...   2,773.70   \n1     1940-05-01  CI000085406    18.04    -18.35  ...      58.00   \n2     2013-12-01  USC00036376     6.22     34.37  ...      61.00   \n3     1963-02-01  ASN00024002    22.93    -34.28  ...      65.50   \n4     2001-11-01  ASN00028007      NaN    -14.78  ...      79.40   \n...          ...          ...      ...       ...  ...        ...   \n99995 1991-04-01  MXXLT347415    29.02     17.78  ...      65.00   \n99996 1991-11-01  RSM00032287    -2.81     57.08  ...       3.00   \n99997 1937-04-01  ARM00087166    19.42    -27.45  ...      61.90   \n99998 1958-10-01  CA006137361    10.02     42.78  ...     236.00   \n99999 1966-01-01  CA006137361    -7.85     42.78  ...     236.00   \n\n                    station countryid        country  \n0             INDIAN_CANYON        US  United States  \n1                     ARICA        CI          Chile  \n2             SAINT_CHARLES        US  United States  \n3          BERRI_IRRIGATION        AS      Australia  \n4                  MUSGRAVE        AS      Australia  \n...                     ...       ...            ...  \n99995  VALLE_NACIONAL_VALLE        MX         Mexico  \n99996        UST_HAIRYUZOVO        RS         Russia  \n99997            CORRIENTES        AR      Argentina  \n99998             ST_THOMAS        CA         Canada  \n99999             ST_THOMAS        CA         Canada  \n\n[100000 rows x 9 columns]",
      "text/html": "<div>\n<style scoped>\n    .dataframe tbody tr th:only-of-type {\n        vertical-align: middle;\n    }\n\n    .dataframe tbody tr th {\n        vertical-align: top;\n    }\n\n    .dataframe thead th {\n        text-align: right;\n    }\n</style>\n<table border=\"1\" class=\"dataframe\">\n  <thead>\n    <tr style=\"text-align: right;\">\n      <th></th>\n      <th>month_year</th>\n      <th>stationid</th>\n      <th>avgtemp</th>\n      <th>latitude</th>\n      <th>...</th>\n      <th>elevation</th>\n      <th>station</th>\n      <th>countryid</th>\n      <th>country</th>\n    </tr>\n  </thead>\n  <tbody>\n    <tr>\n      <th>0</th>\n      <td>2000-04-01</td>\n      <td>USS0010K01S</td>\n      <td>5.27</td>\n      <td>39.90</td>\n      <td>...</td>\n      <td>2,773.70</td>\n      <td>INDIAN_CANYON</td>\n      <td>US</td>\n      <td>United States</td>\n    </tr>\n    <tr>\n      <th>1</th>\n      <td>1940-05-01</td>\n      <td>CI000085406</td>\n      <td>18.04</td>\n      <td>-18.35</td>\n      <td>...</td>\n      <td>58.00</td>\n      <td>ARICA</td>\n      <td>CI</td>\n      <td>Chile</td>\n    </tr>\n    <tr>\n      <th>2</th>\n      <td>2013-12-01</td>\n      <td>USC00036376</td>\n      <td>6.22</td>\n      <td>34.37</td>\n      <td>...</td>\n      <td>61.00</td>\n      <td>SAINT_CHARLES</td>\n      <td>US</td>\n      <td>United States</td>\n    </tr>\n    <tr>\n      <th>3</th>\n      <td>1963-02-01</td>\n      <td>ASN00024002</td>\n      <td>22.93</td>\n      <td>-34.28</td>\n      <td>...</td>\n      <td>65.50</td>\n      <td>BERRI_IRRIGATION</td>\n      <td>AS</td>\n      <td>Australia</td>\n    </tr>\n    <tr>\n      <th>4</th>\n      <td>2001-11-01</td>\n      <td>ASN00028007</td>\n      <td>NaN</td>\n      <td>-14.78</td>\n      <td>...</td>\n      <td>79.40</td>\n      <td>MUSGRAVE</td>\n      <td>AS</td>\n      <td>Australia</td>\n    </tr>\n    <tr>\n      <th>...</th>\n      <td>...</td>\n      <td>...</td>\n      <td>...</td>\n      <td>...</td>\n      <td>...</td>\n      <td>...</td>\n      <td>...</td>\n      <td>...</td>\n      <td>...</td>\n    </tr>\n    <tr>\n      <th>99995</th>\n      <td>1991-04-01</td>\n      <td>MXXLT347415</td>\n      <td>29.02</td>\n      <td>17.78</td>\n      <td>...</td>\n      <td>65.00</td>\n      <td>VALLE_NACIONAL_VALLE</td>\n      <td>MX</td>\n      <td>Mexico</td>\n    </tr>\n    <tr>\n      <th>99996</th>\n      <td>1991-11-01</td>\n      <td>RSM00032287</td>\n      <td>-2.81</td>\n      <td>57.08</td>\n      <td>...</td>\n      <td>3.00</td>\n      <td>UST_HAIRYUZOVO</td>\n      <td>RS</td>\n      <td>Russia</td>\n    </tr>\n    <tr>\n      <th>99997</th>\n      <td>1937-04-01</td>\n      <td>ARM00087166</td>\n      <td>19.42</td>\n      <td>-27.45</td>\n      <td>...</td>\n      <td>61.90</td>\n      <td>CORRIENTES</td>\n      <td>AR</td>\n      <td>Argentina</td>\n    </tr>\n    <tr>\n      <th>99998</th>\n      <td>1958-10-01</td>\n      <td>CA006137361</td>\n      <td>10.02</td>\n      <td>42.78</td>\n      <td>...</td>\n      <td>236.00</td>\n      <td>ST_THOMAS</td>\n      <td>CA</td>\n      <td>Canada</td>\n    </tr>\n    <tr>\n      <th>99999</th>\n      <td>1966-01-01</td>\n      <td>CA006137361</td>\n      <td>-7.85</td>\n      <td>42.78</td>\n      <td>...</td>\n      <td>236.00</td>\n      <td>ST_THOMAS</td>\n      <td>CA</td>\n      <td>Canada</td>\n    </tr>\n  </tbody>\n</table>\n<p>100000 rows × 9 columns</p>\n</div>"
     },
     "execution_count": 15,
     "metadata": {},
     "output_type": "execute_result"
    }
   ],
   "source": [
    "# read_csv can read a compressed file ZIP\n",
    "landtemps = pd.read_csv('data/landtempssample.zip',\n",
    "                        compression='zip',\n",
    "                        names=['stationid', 'year', 'month', 'avgtemp', 'latitude',\n",
    "                               'longitude', 'elevation', 'station', 'countryid', 'country'],\n",
    "                        # skip the header\n",
    "                        skiprows=1,\n",
    "                        parse_dates=[['month', 'year']],\n",
    "                        # reduce the usage of memory during import process\n",
    "                        # but finally, the data will be read into RAM\n",
    "                        low_memory=False)\n",
    "landtemps"
   ],
   "metadata": {
    "collapsed": false,
    "pycharm": {
     "name": "#%%\n"
    }
   }
  },
  {
   "cell_type": "code",
   "execution_count": null,
   "outputs": [],
   "source": [],
   "metadata": {
    "collapsed": false,
    "pycharm": {
     "name": "#%%\n"
    }
   }
  }
 ],
 "metadata": {
  "kernelspec": {
   "display_name": "Python 3",
   "language": "python",
   "name": "python3"
  },
  "language_info": {
   "codemirror_mode": {
    "name": "ipython",
    "version": 2
   },
   "file_extension": ".py",
   "mimetype": "text/x-python",
   "name": "python",
   "nbconvert_exporter": "python",
   "pygments_lexer": "ipython2",
   "version": "2.7.6"
  }
 },
 "nbformat": 4,
 "nbformat_minor": 0
}