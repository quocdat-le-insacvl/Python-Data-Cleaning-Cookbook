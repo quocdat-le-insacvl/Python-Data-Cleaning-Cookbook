{
 "cells": [
  {
   "cell_type": "markdown",
   "metadata": {
    "heading_collapsed": true
   },
   "source": [
    "# CSV"
   ]
  },
  {
   "cell_type": "code",
   "execution_count": 1,
   "metadata": {
    "collapsed": true,
    "hidden": true
   },
   "outputs": [],
   "source": [
    "import pandas as pd\n",
    "\n",
    "pd.options.display.float_format = '{:,.2f}'.format\n",
    "pd.set_option('display.width', 85)\n",
    "pd.set_option('display.max_columns', 8)\n",
    "landtemps"
   ]
  },
  {
   "cell_type": "code",
   "execution_count": 2,
   "metadata": {
    "hidden": true,
    "pycharm": {
     "name": "#%%\n"
    }
   },
   "outputs": [],
   "source": [
    "landtemps = pd.read_csv('data/landtempssample.csv',\n",
    "                        names=['stationid', 'year', 'month', 'avgtemp', 'latitude',\n",
    "                               'longitude', 'elevation', 'station', 'countryid', 'country'],\n",
    "                        # skip the header\n",
    "                        skiprows=1,\n",
    "                        parse_dates=[['month', 'year']],\n",
    "                        # reduce the usage of memory during import process\n",
    "                        # but finally, the data will be read into RAM\n",
    "                        low_memory=False)"
   ]
  },
  {
   "cell_type": "code",
   "execution_count": 5,
   "metadata": {
    "hidden": true,
    "pycharm": {
     "name": "#%%\n"
    }
   },
   "outputs": [
    {
     "data": {
      "text/html": [
       "<div>\n",
       "<style scoped>\n",
       "    .dataframe tbody tr th:only-of-type {\n",
       "        vertical-align: middle;\n",
       "    }\n",
       "\n",
       "    .dataframe tbody tr th {\n",
       "        vertical-align: top;\n",
       "    }\n",
       "\n",
       "    .dataframe thead th {\n",
       "        text-align: right;\n",
       "    }\n",
       "</style>\n",
       "<table border=\"1\" class=\"dataframe\">\n",
       "  <thead>\n",
       "    <tr style=\"text-align: right;\">\n",
       "      <th></th>\n",
       "      <th>month_year</th>\n",
       "      <th>stationid</th>\n",
       "      <th>avgtemp</th>\n",
       "      <th>latitude</th>\n",
       "      <th>...</th>\n",
       "      <th>elevation</th>\n",
       "      <th>station</th>\n",
       "      <th>countryid</th>\n",
       "      <th>country</th>\n",
       "    </tr>\n",
       "  </thead>\n",
       "  <tbody>\n",
       "    <tr>\n",
       "      <th>0</th>\n",
       "      <td>2000-04-01</td>\n",
       "      <td>USS0010K01S</td>\n",
       "      <td>5.27</td>\n",
       "      <td>39.90</td>\n",
       "      <td>...</td>\n",
       "      <td>2,773.70</td>\n",
       "      <td>INDIAN_CANYON</td>\n",
       "      <td>US</td>\n",
       "      <td>United States</td>\n",
       "    </tr>\n",
       "    <tr>\n",
       "      <th>1</th>\n",
       "      <td>1940-05-01</td>\n",
       "      <td>CI000085406</td>\n",
       "      <td>18.04</td>\n",
       "      <td>-18.35</td>\n",
       "      <td>...</td>\n",
       "      <td>58.00</td>\n",
       "      <td>ARICA</td>\n",
       "      <td>CI</td>\n",
       "      <td>Chile</td>\n",
       "    </tr>\n",
       "    <tr>\n",
       "      <th>2</th>\n",
       "      <td>2013-12-01</td>\n",
       "      <td>USC00036376</td>\n",
       "      <td>6.22</td>\n",
       "      <td>34.37</td>\n",
       "      <td>...</td>\n",
       "      <td>61.00</td>\n",
       "      <td>SAINT_CHARLES</td>\n",
       "      <td>US</td>\n",
       "      <td>United States</td>\n",
       "    </tr>\n",
       "    <tr>\n",
       "      <th>3</th>\n",
       "      <td>1963-02-01</td>\n",
       "      <td>ASN00024002</td>\n",
       "      <td>22.93</td>\n",
       "      <td>-34.28</td>\n",
       "      <td>...</td>\n",
       "      <td>65.50</td>\n",
       "      <td>BERRI_IRRIGATION</td>\n",
       "      <td>AS</td>\n",
       "      <td>Australia</td>\n",
       "    </tr>\n",
       "    <tr>\n",
       "      <th>4</th>\n",
       "      <td>2001-11-01</td>\n",
       "      <td>ASN00028007</td>\n",
       "      <td>NaN</td>\n",
       "      <td>-14.78</td>\n",
       "      <td>...</td>\n",
       "      <td>79.40</td>\n",
       "      <td>MUSGRAVE</td>\n",
       "      <td>AS</td>\n",
       "      <td>Australia</td>\n",
       "    </tr>\n",
       "    <tr>\n",
       "      <th>5</th>\n",
       "      <td>1991-04-01</td>\n",
       "      <td>USW00024151</td>\n",
       "      <td>5.59</td>\n",
       "      <td>42.15</td>\n",
       "      <td>...</td>\n",
       "      <td>1,362.50</td>\n",
       "      <td>MALAD_CITY</td>\n",
       "      <td>US</td>\n",
       "      <td>United States</td>\n",
       "    </tr>\n",
       "    <tr>\n",
       "      <th>6</th>\n",
       "      <td>1993-12-01</td>\n",
       "      <td>RSM00022641</td>\n",
       "      <td>-10.17</td>\n",
       "      <td>63.90</td>\n",
       "      <td>...</td>\n",
       "      <td>13.00</td>\n",
       "      <td>ONEGA</td>\n",
       "      <td>RS</td>\n",
       "      <td>Russia</td>\n",
       "    </tr>\n",
       "  </tbody>\n",
       "</table>\n",
       "<p>7 rows × 9 columns</p>\n",
       "</div>"
      ],
      "text/plain": [
       "  month_year    stationid  avgtemp  latitude  ...  elevation           station  \\\n",
       "0 2000-04-01  USS0010K01S     5.27     39.90  ...   2,773.70     INDIAN_CANYON   \n",
       "1 1940-05-01  CI000085406    18.04    -18.35  ...      58.00             ARICA   \n",
       "2 2013-12-01  USC00036376     6.22     34.37  ...      61.00     SAINT_CHARLES   \n",
       "3 1963-02-01  ASN00024002    22.93    -34.28  ...      65.50  BERRI_IRRIGATION   \n",
       "4 2001-11-01  ASN00028007      NaN    -14.78  ...      79.40          MUSGRAVE   \n",
       "5 1991-04-01  USW00024151     5.59     42.15  ...   1,362.50        MALAD_CITY   \n",
       "6 1993-12-01  RSM00022641   -10.17     63.90  ...      13.00             ONEGA   \n",
       "\n",
       "  countryid        country  \n",
       "0        US  United States  \n",
       "1        CI          Chile  \n",
       "2        US  United States  \n",
       "3        AS      Australia  \n",
       "4        AS      Australia  \n",
       "5        US  United States  \n",
       "6        RS         Russia  \n",
       "\n",
       "[7 rows x 9 columns]"
      ]
     },
     "execution_count": 5,
     "metadata": {},
     "output_type": "execute_result"
    }
   ],
   "source": [
    "landtemps.head(7)"
   ]
  },
  {
   "cell_type": "code",
   "execution_count": 6,
   "metadata": {
    "hidden": true,
    "pycharm": {
     "name": "#%%\n"
    }
   },
   "outputs": [
    {
     "data": {
      "text/plain": [
       "month_year    datetime64[ns]\n",
       "stationid             object\n",
       "avgtemp              float64\n",
       "latitude             float64\n",
       "longitude            float64\n",
       "elevation            float64\n",
       "station               object\n",
       "countryid             object\n",
       "country               object\n",
       "dtype: object"
      ]
     },
     "execution_count": 6,
     "metadata": {},
     "output_type": "execute_result"
    }
   ],
   "source": [
    "landtemps.dtypes"
   ]
  },
  {
   "cell_type": "code",
   "execution_count": 8,
   "metadata": {
    "hidden": true,
    "pycharm": {
     "name": "#%%\n"
    }
   },
   "outputs": [],
   "source": [
    "# Give a better name\n",
    "landtemps.rename(columns={'month_year': 'mesureday'}, inplace=True)"
   ]
  },
  {
   "cell_type": "code",
   "execution_count": 9,
   "metadata": {
    "hidden": true,
    "pycharm": {
     "name": "#%%\n"
    }
   },
   "outputs": [
    {
     "data": {
      "text/plain": [
       "mesureday    datetime64[ns]\n",
       "stationid            object\n",
       "avgtemp             float64\n",
       "latitude            float64\n",
       "longitude           float64\n",
       "elevation           float64\n",
       "station              object\n",
       "countryid            object\n",
       "country              object\n",
       "dtype: object"
      ]
     },
     "execution_count": 9,
     "metadata": {},
     "output_type": "execute_result"
    }
   ],
   "source": [
    "landtemps.dtypes"
   ]
  },
  {
   "cell_type": "code",
   "execution_count": 11,
   "metadata": {
    "hidden": true,
    "pycharm": {
     "name": "#%%\n"
    }
   },
   "outputs": [
    {
     "data": {
      "text/plain": [
       "count   85,554.00\n",
       "mean        10.92\n",
       "std         11.52\n",
       "min        -70.70\n",
       "25%          3.46\n",
       "50%         12.22\n",
       "75%         19.57\n",
       "max         39.95\n",
       "Name: avgtemp, dtype: float64"
      ]
     },
     "execution_count": 11,
     "metadata": {},
     "output_type": "execute_result"
    }
   ],
   "source": [
    "landtemps.avgtemp.describe()"
   ]
  },
  {
   "cell_type": "code",
   "execution_count": 14,
   "metadata": {
    "hidden": true,
    "pycharm": {
     "name": "#%%\n"
    }
   },
   "outputs": [
    {
     "name": "stdout",
     "output_type": "stream",
     "text": [
      "mesureday    0\n",
      "stationid    0\n",
      "avgtemp      0\n",
      "latitude     0\n",
      "longitude    0\n",
      "elevation    0\n",
      "station      0\n",
      "countryid    0\n",
      "country      2\n",
      "dtype: int64\n",
      "(85554, 9)\n"
     ]
    },
    {
     "data": {
      "text/plain": [
       "(85554, 9)"
      ]
     },
     "execution_count": 14,
     "metadata": {},
     "output_type": "execute_result"
    }
   ],
   "source": [
    "# Looking for missing value\n",
    "# this is an example of chaining methods\n",
    "# there is no rules about when to use or not to use chaining methods\n",
    "# but it's helpful cause it's may be interpreted like a single step\n",
    "# Chaining has also a side benefit : not creating extra objects\n",
    "print(landtemps.isnull().sum())\n",
    "print(landtemps.shape)\n",
    "# Drop rows which have Nan\n",
    "# subset is used to indicate which column to check for Nan value\n",
    "landtemps.dropna(subset=['avgtemp'], inplace=True)\n",
    "landtemps.shape"
   ]
  },
  {
   "cell_type": "code",
   "execution_count": 15,
   "metadata": {
    "hidden": true,
    "pycharm": {
     "name": "#%%\n"
    },
    "scrolled": true
   },
   "outputs": [
    {
     "data": {
      "text/html": [
       "<div>\n",
       "<style scoped>\n",
       "    .dataframe tbody tr th:only-of-type {\n",
       "        vertical-align: middle;\n",
       "    }\n",
       "\n",
       "    .dataframe tbody tr th {\n",
       "        vertical-align: top;\n",
       "    }\n",
       "\n",
       "    .dataframe thead th {\n",
       "        text-align: right;\n",
       "    }\n",
       "</style>\n",
       "<table border=\"1\" class=\"dataframe\">\n",
       "  <thead>\n",
       "    <tr style=\"text-align: right;\">\n",
       "      <th></th>\n",
       "      <th>month_year</th>\n",
       "      <th>stationid</th>\n",
       "      <th>avgtemp</th>\n",
       "      <th>latitude</th>\n",
       "      <th>...</th>\n",
       "      <th>elevation</th>\n",
       "      <th>station</th>\n",
       "      <th>countryid</th>\n",
       "      <th>country</th>\n",
       "    </tr>\n",
       "  </thead>\n",
       "  <tbody>\n",
       "    <tr>\n",
       "      <th>0</th>\n",
       "      <td>2000-04-01</td>\n",
       "      <td>USS0010K01S</td>\n",
       "      <td>5.27</td>\n",
       "      <td>39.90</td>\n",
       "      <td>...</td>\n",
       "      <td>2,773.70</td>\n",
       "      <td>INDIAN_CANYON</td>\n",
       "      <td>US</td>\n",
       "      <td>United States</td>\n",
       "    </tr>\n",
       "    <tr>\n",
       "      <th>1</th>\n",
       "      <td>1940-05-01</td>\n",
       "      <td>CI000085406</td>\n",
       "      <td>18.04</td>\n",
       "      <td>-18.35</td>\n",
       "      <td>...</td>\n",
       "      <td>58.00</td>\n",
       "      <td>ARICA</td>\n",
       "      <td>CI</td>\n",
       "      <td>Chile</td>\n",
       "    </tr>\n",
       "    <tr>\n",
       "      <th>2</th>\n",
       "      <td>2013-12-01</td>\n",
       "      <td>USC00036376</td>\n",
       "      <td>6.22</td>\n",
       "      <td>34.37</td>\n",
       "      <td>...</td>\n",
       "      <td>61.00</td>\n",
       "      <td>SAINT_CHARLES</td>\n",
       "      <td>US</td>\n",
       "      <td>United States</td>\n",
       "    </tr>\n",
       "    <tr>\n",
       "      <th>3</th>\n",
       "      <td>1963-02-01</td>\n",
       "      <td>ASN00024002</td>\n",
       "      <td>22.93</td>\n",
       "      <td>-34.28</td>\n",
       "      <td>...</td>\n",
       "      <td>65.50</td>\n",
       "      <td>BERRI_IRRIGATION</td>\n",
       "      <td>AS</td>\n",
       "      <td>Australia</td>\n",
       "    </tr>\n",
       "    <tr>\n",
       "      <th>4</th>\n",
       "      <td>2001-11-01</td>\n",
       "      <td>ASN00028007</td>\n",
       "      <td>NaN</td>\n",
       "      <td>-14.78</td>\n",
       "      <td>...</td>\n",
       "      <td>79.40</td>\n",
       "      <td>MUSGRAVE</td>\n",
       "      <td>AS</td>\n",
       "      <td>Australia</td>\n",
       "    </tr>\n",
       "    <tr>\n",
       "      <th>...</th>\n",
       "      <td>...</td>\n",
       "      <td>...</td>\n",
       "      <td>...</td>\n",
       "      <td>...</td>\n",
       "      <td>...</td>\n",
       "      <td>...</td>\n",
       "      <td>...</td>\n",
       "      <td>...</td>\n",
       "      <td>...</td>\n",
       "    </tr>\n",
       "    <tr>\n",
       "      <th>99995</th>\n",
       "      <td>1991-04-01</td>\n",
       "      <td>MXXLT347415</td>\n",
       "      <td>29.02</td>\n",
       "      <td>17.78</td>\n",
       "      <td>...</td>\n",
       "      <td>65.00</td>\n",
       "      <td>VALLE_NACIONAL_VALLE</td>\n",
       "      <td>MX</td>\n",
       "      <td>Mexico</td>\n",
       "    </tr>\n",
       "    <tr>\n",
       "      <th>99996</th>\n",
       "      <td>1991-11-01</td>\n",
       "      <td>RSM00032287</td>\n",
       "      <td>-2.81</td>\n",
       "      <td>57.08</td>\n",
       "      <td>...</td>\n",
       "      <td>3.00</td>\n",
       "      <td>UST_HAIRYUZOVO</td>\n",
       "      <td>RS</td>\n",
       "      <td>Russia</td>\n",
       "    </tr>\n",
       "    <tr>\n",
       "      <th>99997</th>\n",
       "      <td>1937-04-01</td>\n",
       "      <td>ARM00087166</td>\n",
       "      <td>19.42</td>\n",
       "      <td>-27.45</td>\n",
       "      <td>...</td>\n",
       "      <td>61.90</td>\n",
       "      <td>CORRIENTES</td>\n",
       "      <td>AR</td>\n",
       "      <td>Argentina</td>\n",
       "    </tr>\n",
       "    <tr>\n",
       "      <th>99998</th>\n",
       "      <td>1958-10-01</td>\n",
       "      <td>CA006137361</td>\n",
       "      <td>10.02</td>\n",
       "      <td>42.78</td>\n",
       "      <td>...</td>\n",
       "      <td>236.00</td>\n",
       "      <td>ST_THOMAS</td>\n",
       "      <td>CA</td>\n",
       "      <td>Canada</td>\n",
       "    </tr>\n",
       "    <tr>\n",
       "      <th>99999</th>\n",
       "      <td>1966-01-01</td>\n",
       "      <td>CA006137361</td>\n",
       "      <td>-7.85</td>\n",
       "      <td>42.78</td>\n",
       "      <td>...</td>\n",
       "      <td>236.00</td>\n",
       "      <td>ST_THOMAS</td>\n",
       "      <td>CA</td>\n",
       "      <td>Canada</td>\n",
       "    </tr>\n",
       "  </tbody>\n",
       "</table>\n",
       "<p>100000 rows × 9 columns</p>\n",
       "</div>"
      ],
      "text/plain": [
       "      month_year    stationid  avgtemp  latitude  ...  elevation  \\\n",
       "0     2000-04-01  USS0010K01S     5.27     39.90  ...   2,773.70   \n",
       "1     1940-05-01  CI000085406    18.04    -18.35  ...      58.00   \n",
       "2     2013-12-01  USC00036376     6.22     34.37  ...      61.00   \n",
       "3     1963-02-01  ASN00024002    22.93    -34.28  ...      65.50   \n",
       "4     2001-11-01  ASN00028007      NaN    -14.78  ...      79.40   \n",
       "...          ...          ...      ...       ...  ...        ...   \n",
       "99995 1991-04-01  MXXLT347415    29.02     17.78  ...      65.00   \n",
       "99996 1991-11-01  RSM00032287    -2.81     57.08  ...       3.00   \n",
       "99997 1937-04-01  ARM00087166    19.42    -27.45  ...      61.90   \n",
       "99998 1958-10-01  CA006137361    10.02     42.78  ...     236.00   \n",
       "99999 1966-01-01  CA006137361    -7.85     42.78  ...     236.00   \n",
       "\n",
       "                    station countryid        country  \n",
       "0             INDIAN_CANYON        US  United States  \n",
       "1                     ARICA        CI          Chile  \n",
       "2             SAINT_CHARLES        US  United States  \n",
       "3          BERRI_IRRIGATION        AS      Australia  \n",
       "4                  MUSGRAVE        AS      Australia  \n",
       "...                     ...       ...            ...  \n",
       "99995  VALLE_NACIONAL_VALLE        MX         Mexico  \n",
       "99996        UST_HAIRYUZOVO        RS         Russia  \n",
       "99997            CORRIENTES        AR      Argentina  \n",
       "99998             ST_THOMAS        CA         Canada  \n",
       "99999             ST_THOMAS        CA         Canada  \n",
       "\n",
       "[100000 rows x 9 columns]"
      ]
     },
     "execution_count": 15,
     "metadata": {},
     "output_type": "execute_result"
    }
   ],
   "source": [
    "# read_csv can read a compressed file ZIP\n",
    "landtemps = pd.read_csv('data/landtempssample.zip',\n",
    "                        compression='zip',\n",
    "                        names=['stationid', 'year', 'month', 'avgtemp', 'latitude',\n",
    "                               'longitude', 'elevation', 'station', 'countryid', 'country'],\n",
    "                        # skip the header\n",
    "                        skiprows=1,\n",
    "                        parse_dates=[['month', 'year']],\n",
    "                        # reduce the usage of memory during import process\n",
    "                        # but finally, the data will be read into RAM\n",
    "                        low_memory=False)\n",
    "landtemps"
   ]
  },
  {
   "cell_type": "markdown",
   "metadata": {},
   "source": [
    "# Excel"
   ]
  },
  {
   "cell_type": "code",
   "execution_count": 2,
   "metadata": {
    "ExecuteTime": {
     "end_time": "2022-04-11T07:41:15.144967Z",
     "start_time": "2022-04-11T07:41:15.130945Z"
    }
   },
   "outputs": [],
   "source": [
    "import pandas as pd"
   ]
  },
  {
   "cell_type": "code",
   "execution_count": 5,
   "metadata": {},
   "outputs": [
    {
     "data": {
      "text/plain": "                           Year   2001   2002   2003   2004   2005   2006  \\\n0            Metropolitan areas    NaN    NaN    NaN    NaN    NaN    NaN   \n1                AUS: Australia     ..     ..     ..     ..     ..     ..   \n2         AUS01: Greater Sydney  43313  44008  45424  45837  45423  45547   \n3      AUS02: Greater Melbourne  40125  40894  41602  42188  41484  41589   \n4       AUS03: Greater Brisbane  37580  37564  39080  40762  42976  44475   \n..                          ...    ...    ...    ...    ...    ...    ...   \n697                USA164: Linn  53047  51751  54894  58660  60195  58244   \n698      USA165: Lafayette (IN)  38057  38723  39173  40412  40285  40879   \n699               USA167: Weber  34592  34997  35587  35776  37613  41213   \n700                USA169: Cass  44597  46856  49043  49134  49584  50417   \n701         USA170: Benton (AR)  41988  44687  45296  47799  49260  47329   \n\n      2007   2008   2009   2010   2011   2012   2013   2014   2015   2016  \\\n0      NaN    NaN    NaN    NaN    NaN    NaN    NaN    NaN    NaN    NaN   \n1       ..     ..     ..     ..     ..     ..     ..     ..     ..     ..   \n2    45880  45225  45900  45672  46535  47350  47225  48510  50075  50519   \n3    42316  40975  41384  40943  41165  41264  41157  42114  42928  42671   \n4    44635  46192  43507  42774  44166  43764  43379  43754  44388  45723   \n..     ...    ...    ...    ...    ...    ...    ...    ...    ...    ...   \n697  61742  60002  63176  66241  66516  66029  64187  67125  69490  69645   \n698  41717  41232  37789  40621  41822  40280  41341  41680  41763  42370   \n699  41554  39321  38819  38171  37716  37141  36816  37418  39144  39950   \n700  51596  52285  49945  51396  53001  57056  56906  57475  57402  56600   \n701  45503  44040  42369  43366  43168  44525  47191  48526  49483  48955   \n\n      2017   2018  \n0      NaN    NaN  \n1       ..     ..  \n2    50578  49860  \n3    43025  42674  \n4    46876  46640  \n..     ...    ...  \n697  67553  68683  \n698  42562  44206  \n699  40846  40930  \n700  55201  56094  \n701  49987  49872  \n\n[702 rows x 19 columns]",
      "text/html": "<div>\n<style scoped>\n    .dataframe tbody tr th:only-of-type {\n        vertical-align: middle;\n    }\n\n    .dataframe tbody tr th {\n        vertical-align: top;\n    }\n\n    .dataframe thead th {\n        text-align: right;\n    }\n</style>\n<table border=\"1\" class=\"dataframe\">\n  <thead>\n    <tr style=\"text-align: right;\">\n      <th></th>\n      <th>Year</th>\n      <th>2001</th>\n      <th>2002</th>\n      <th>2003</th>\n      <th>2004</th>\n      <th>2005</th>\n      <th>2006</th>\n      <th>2007</th>\n      <th>2008</th>\n      <th>2009</th>\n      <th>2010</th>\n      <th>2011</th>\n      <th>2012</th>\n      <th>2013</th>\n      <th>2014</th>\n      <th>2015</th>\n      <th>2016</th>\n      <th>2017</th>\n      <th>2018</th>\n    </tr>\n  </thead>\n  <tbody>\n    <tr>\n      <th>0</th>\n      <td>Metropolitan areas</td>\n      <td>NaN</td>\n      <td>NaN</td>\n      <td>NaN</td>\n      <td>NaN</td>\n      <td>NaN</td>\n      <td>NaN</td>\n      <td>NaN</td>\n      <td>NaN</td>\n      <td>NaN</td>\n      <td>NaN</td>\n      <td>NaN</td>\n      <td>NaN</td>\n      <td>NaN</td>\n      <td>NaN</td>\n      <td>NaN</td>\n      <td>NaN</td>\n      <td>NaN</td>\n      <td>NaN</td>\n    </tr>\n    <tr>\n      <th>1</th>\n      <td>AUS: Australia</td>\n      <td>..</td>\n      <td>..</td>\n      <td>..</td>\n      <td>..</td>\n      <td>..</td>\n      <td>..</td>\n      <td>..</td>\n      <td>..</td>\n      <td>..</td>\n      <td>..</td>\n      <td>..</td>\n      <td>..</td>\n      <td>..</td>\n      <td>..</td>\n      <td>..</td>\n      <td>..</td>\n      <td>..</td>\n      <td>..</td>\n    </tr>\n    <tr>\n      <th>2</th>\n      <td>AUS01: Greater Sydney</td>\n      <td>43313</td>\n      <td>44008</td>\n      <td>45424</td>\n      <td>45837</td>\n      <td>45423</td>\n      <td>45547</td>\n      <td>45880</td>\n      <td>45225</td>\n      <td>45900</td>\n      <td>45672</td>\n      <td>46535</td>\n      <td>47350</td>\n      <td>47225</td>\n      <td>48510</td>\n      <td>50075</td>\n      <td>50519</td>\n      <td>50578</td>\n      <td>49860</td>\n    </tr>\n    <tr>\n      <th>3</th>\n      <td>AUS02: Greater Melbourne</td>\n      <td>40125</td>\n      <td>40894</td>\n      <td>41602</td>\n      <td>42188</td>\n      <td>41484</td>\n      <td>41589</td>\n      <td>42316</td>\n      <td>40975</td>\n      <td>41384</td>\n      <td>40943</td>\n      <td>41165</td>\n      <td>41264</td>\n      <td>41157</td>\n      <td>42114</td>\n      <td>42928</td>\n      <td>42671</td>\n      <td>43025</td>\n      <td>42674</td>\n    </tr>\n    <tr>\n      <th>4</th>\n      <td>AUS03: Greater Brisbane</td>\n      <td>37580</td>\n      <td>37564</td>\n      <td>39080</td>\n      <td>40762</td>\n      <td>42976</td>\n      <td>44475</td>\n      <td>44635</td>\n      <td>46192</td>\n      <td>43507</td>\n      <td>42774</td>\n      <td>44166</td>\n      <td>43764</td>\n      <td>43379</td>\n      <td>43754</td>\n      <td>44388</td>\n      <td>45723</td>\n      <td>46876</td>\n      <td>46640</td>\n    </tr>\n    <tr>\n      <th>...</th>\n      <td>...</td>\n      <td>...</td>\n      <td>...</td>\n      <td>...</td>\n      <td>...</td>\n      <td>...</td>\n      <td>...</td>\n      <td>...</td>\n      <td>...</td>\n      <td>...</td>\n      <td>...</td>\n      <td>...</td>\n      <td>...</td>\n      <td>...</td>\n      <td>...</td>\n      <td>...</td>\n      <td>...</td>\n      <td>...</td>\n      <td>...</td>\n    </tr>\n    <tr>\n      <th>697</th>\n      <td>USA164: Linn</td>\n      <td>53047</td>\n      <td>51751</td>\n      <td>54894</td>\n      <td>58660</td>\n      <td>60195</td>\n      <td>58244</td>\n      <td>61742</td>\n      <td>60002</td>\n      <td>63176</td>\n      <td>66241</td>\n      <td>66516</td>\n      <td>66029</td>\n      <td>64187</td>\n      <td>67125</td>\n      <td>69490</td>\n      <td>69645</td>\n      <td>67553</td>\n      <td>68683</td>\n    </tr>\n    <tr>\n      <th>698</th>\n      <td>USA165: Lafayette (IN)</td>\n      <td>38057</td>\n      <td>38723</td>\n      <td>39173</td>\n      <td>40412</td>\n      <td>40285</td>\n      <td>40879</td>\n      <td>41717</td>\n      <td>41232</td>\n      <td>37789</td>\n      <td>40621</td>\n      <td>41822</td>\n      <td>40280</td>\n      <td>41341</td>\n      <td>41680</td>\n      <td>41763</td>\n      <td>42370</td>\n      <td>42562</td>\n      <td>44206</td>\n    </tr>\n    <tr>\n      <th>699</th>\n      <td>USA167: Weber</td>\n      <td>34592</td>\n      <td>34997</td>\n      <td>35587</td>\n      <td>35776</td>\n      <td>37613</td>\n      <td>41213</td>\n      <td>41554</td>\n      <td>39321</td>\n      <td>38819</td>\n      <td>38171</td>\n      <td>37716</td>\n      <td>37141</td>\n      <td>36816</td>\n      <td>37418</td>\n      <td>39144</td>\n      <td>39950</td>\n      <td>40846</td>\n      <td>40930</td>\n    </tr>\n    <tr>\n      <th>700</th>\n      <td>USA169: Cass</td>\n      <td>44597</td>\n      <td>46856</td>\n      <td>49043</td>\n      <td>49134</td>\n      <td>49584</td>\n      <td>50417</td>\n      <td>51596</td>\n      <td>52285</td>\n      <td>49945</td>\n      <td>51396</td>\n      <td>53001</td>\n      <td>57056</td>\n      <td>56906</td>\n      <td>57475</td>\n      <td>57402</td>\n      <td>56600</td>\n      <td>55201</td>\n      <td>56094</td>\n    </tr>\n    <tr>\n      <th>701</th>\n      <td>USA170: Benton (AR)</td>\n      <td>41988</td>\n      <td>44687</td>\n      <td>45296</td>\n      <td>47799</td>\n      <td>49260</td>\n      <td>47329</td>\n      <td>45503</td>\n      <td>44040</td>\n      <td>42369</td>\n      <td>43366</td>\n      <td>43168</td>\n      <td>44525</td>\n      <td>47191</td>\n      <td>48526</td>\n      <td>49483</td>\n      <td>48955</td>\n      <td>49987</td>\n      <td>49872</td>\n    </tr>\n  </tbody>\n</table>\n<p>702 rows × 19 columns</p>\n</div>"
     },
     "execution_count": 5,
     "metadata": {},
     "output_type": "execute_result"
    }
   ],
   "source": [
    "percapitaGDP = pd.read_excel(\"data/GDPpercapita.xlsx\",\n",
    "                             sheet_name=\"OECD.Stat export\",\n",
    "                             skiprows=4,\n",
    "                             skipfooter=1,\n",
    "                             usecols=\"A,C:T\")\n",
    "percapitaGDP"
   ]
  },
  {
   "cell_type": "code",
   "execution_count": 6,
   "outputs": [
    {
     "name": "stdout",
     "output_type": "stream",
     "text": [
      "<class 'pandas.core.frame.DataFrame'>\n",
      "RangeIndex: 702 entries, 0 to 701\n",
      "Data columns (total 19 columns):\n",
      " #   Column  Non-Null Count  Dtype \n",
      "---  ------  --------------  ----- \n",
      " 0   Year    702 non-null    object\n",
      " 1   2001    701 non-null    object\n",
      " 2   2002    701 non-null    object\n",
      " 3   2003    701 non-null    object\n",
      " 4   2004    701 non-null    object\n",
      " 5   2005    701 non-null    object\n",
      " 6   2006    701 non-null    object\n",
      " 7   2007    701 non-null    object\n",
      " 8   2008    701 non-null    object\n",
      " 9   2009    701 non-null    object\n",
      " 10  2010    701 non-null    object\n",
      " 11  2011    701 non-null    object\n",
      " 12  2012    701 non-null    object\n",
      " 13  2013    701 non-null    object\n",
      " 14  2014    701 non-null    object\n",
      " 15  2015    701 non-null    object\n",
      " 16  2016    701 non-null    object\n",
      " 17  2017    701 non-null    object\n",
      " 18  2018    701 non-null    object\n",
      "dtypes: object(19)\n",
      "memory usage: 104.3+ KB\n"
     ]
    }
   ],
   "source": [
    "# View data types and non-null count :\n",
    "percapitaGDP.info()"
   ],
   "metadata": {
    "collapsed": false,
    "pycharm": {
     "name": "#%%\n"
    }
   }
  },
  {
   "cell_type": "code",
   "execution_count": 7,
   "outputs": [],
   "source": [
    "# Rename columns and remove leading spaces\n",
    "percapitaGDP.rename(columns={'Year': 'metro'}, inplace=True)"
   ],
   "metadata": {
    "collapsed": false,
    "pycharm": {
     "name": "#%%\n"
    }
   }
  },
  {
   "cell_type": "code",
   "execution_count": 15,
   "outputs": [
    {
     "data": {
      "text/plain": "False"
     },
     "execution_count": 15,
     "metadata": {},
     "output_type": "execute_result"
    }
   ],
   "source": [
    "percapitaGDP.metro.str.startswith(' ').any()"
   ],
   "metadata": {
    "collapsed": false,
    "pycharm": {
     "name": "#%%\n"
    }
   }
  },
  {
   "cell_type": "code",
   "execution_count": 14,
   "outputs": [
    {
     "data": {
      "text/plain": "False"
     },
     "execution_count": 14,
     "metadata": {},
     "output_type": "execute_result"
    }
   ],
   "source": [
    "percapitaGDP.metro.str.endswith(' ').any()"
   ],
   "metadata": {
    "collapsed": false,
    "pycharm": {
     "name": "#%%\n"
    }
   }
  },
  {
   "cell_type": "code",
   "execution_count": 13,
   "outputs": [],
   "source": [
    "percapitaGDP.metro = percapitaGDP.metro.str.strip()"
   ],
   "metadata": {
    "collapsed": false,
    "pycharm": {
     "name": "#%%\n"
    }
   }
  },
  {
   "cell_type": "code",
   "execution_count": 18,
   "outputs": [
    {
     "data": {
      "text/plain": "                      metro  pcGDP2001  pcGDP2002  pcGDP2003  pcGDP2004  \\\n0        Metropolitan areas        NaN        NaN        NaN        NaN   \n1            AUS: Australia        NaN        NaN        NaN        NaN   \n2     AUS01: Greater Sydney    43313.0    44008.0    45424.0    45837.0   \n3  AUS02: Greater Melbourne    40125.0    40894.0    41602.0    42188.0   \n4   AUS03: Greater Brisbane    37580.0    37564.0    39080.0    40762.0   \n\n   pcGDP2005  pcGDP2006  pcGDP2007  pcGDP2008  pcGDP2009  pcGDP2010  \\\n0        NaN        NaN        NaN        NaN        NaN        NaN   \n1        NaN        NaN        NaN        NaN        NaN        NaN   \n2    45423.0    45547.0    45880.0    45225.0    45900.0    45672.0   \n3    41484.0    41589.0    42316.0    40975.0    41384.0    40943.0   \n4    42976.0    44475.0    44635.0    46192.0    43507.0    42774.0   \n\n   pcGDP2011  pcGDP2012  pcGDP2013  pcGDP2014  pcGDP2015  pcGDP2016  \\\n0        NaN        NaN        NaN        NaN        NaN        NaN   \n1        NaN        NaN        NaN        NaN        NaN        NaN   \n2    46535.0    47350.0    47225.0    48510.0    50075.0    50519.0   \n3    41165.0    41264.0    41157.0    42114.0    42928.0    42671.0   \n4    44166.0    43764.0    43379.0    43754.0    44388.0    45723.0   \n\n   pcGDP2017  pcGDP2018  \n0        NaN        NaN  \n1        NaN        NaN  \n2    50578.0    49860.0  \n3    43025.0    42674.0  \n4    46876.0    46640.0  ",
      "text/html": "<div>\n<style scoped>\n    .dataframe tbody tr th:only-of-type {\n        vertical-align: middle;\n    }\n\n    .dataframe tbody tr th {\n        vertical-align: top;\n    }\n\n    .dataframe thead th {\n        text-align: right;\n    }\n</style>\n<table border=\"1\" class=\"dataframe\">\n  <thead>\n    <tr style=\"text-align: right;\">\n      <th></th>\n      <th>metro</th>\n      <th>pcGDP2001</th>\n      <th>pcGDP2002</th>\n      <th>pcGDP2003</th>\n      <th>pcGDP2004</th>\n      <th>pcGDP2005</th>\n      <th>pcGDP2006</th>\n      <th>pcGDP2007</th>\n      <th>pcGDP2008</th>\n      <th>pcGDP2009</th>\n      <th>pcGDP2010</th>\n      <th>pcGDP2011</th>\n      <th>pcGDP2012</th>\n      <th>pcGDP2013</th>\n      <th>pcGDP2014</th>\n      <th>pcGDP2015</th>\n      <th>pcGDP2016</th>\n      <th>pcGDP2017</th>\n      <th>pcGDP2018</th>\n    </tr>\n  </thead>\n  <tbody>\n    <tr>\n      <th>0</th>\n      <td>Metropolitan areas</td>\n      <td>NaN</td>\n      <td>NaN</td>\n      <td>NaN</td>\n      <td>NaN</td>\n      <td>NaN</td>\n      <td>NaN</td>\n      <td>NaN</td>\n      <td>NaN</td>\n      <td>NaN</td>\n      <td>NaN</td>\n      <td>NaN</td>\n      <td>NaN</td>\n      <td>NaN</td>\n      <td>NaN</td>\n      <td>NaN</td>\n      <td>NaN</td>\n      <td>NaN</td>\n      <td>NaN</td>\n    </tr>\n    <tr>\n      <th>1</th>\n      <td>AUS: Australia</td>\n      <td>NaN</td>\n      <td>NaN</td>\n      <td>NaN</td>\n      <td>NaN</td>\n      <td>NaN</td>\n      <td>NaN</td>\n      <td>NaN</td>\n      <td>NaN</td>\n      <td>NaN</td>\n      <td>NaN</td>\n      <td>NaN</td>\n      <td>NaN</td>\n      <td>NaN</td>\n      <td>NaN</td>\n      <td>NaN</td>\n      <td>NaN</td>\n      <td>NaN</td>\n      <td>NaN</td>\n    </tr>\n    <tr>\n      <th>2</th>\n      <td>AUS01: Greater Sydney</td>\n      <td>43313.0</td>\n      <td>44008.0</td>\n      <td>45424.0</td>\n      <td>45837.0</td>\n      <td>45423.0</td>\n      <td>45547.0</td>\n      <td>45880.0</td>\n      <td>45225.0</td>\n      <td>45900.0</td>\n      <td>45672.0</td>\n      <td>46535.0</td>\n      <td>47350.0</td>\n      <td>47225.0</td>\n      <td>48510.0</td>\n      <td>50075.0</td>\n      <td>50519.0</td>\n      <td>50578.0</td>\n      <td>49860.0</td>\n    </tr>\n    <tr>\n      <th>3</th>\n      <td>AUS02: Greater Melbourne</td>\n      <td>40125.0</td>\n      <td>40894.0</td>\n      <td>41602.0</td>\n      <td>42188.0</td>\n      <td>41484.0</td>\n      <td>41589.0</td>\n      <td>42316.0</td>\n      <td>40975.0</td>\n      <td>41384.0</td>\n      <td>40943.0</td>\n      <td>41165.0</td>\n      <td>41264.0</td>\n      <td>41157.0</td>\n      <td>42114.0</td>\n      <td>42928.0</td>\n      <td>42671.0</td>\n      <td>43025.0</td>\n      <td>42674.0</td>\n    </tr>\n    <tr>\n      <th>4</th>\n      <td>AUS03: Greater Brisbane</td>\n      <td>37580.0</td>\n      <td>37564.0</td>\n      <td>39080.0</td>\n      <td>40762.0</td>\n      <td>42976.0</td>\n      <td>44475.0</td>\n      <td>44635.0</td>\n      <td>46192.0</td>\n      <td>43507.0</td>\n      <td>42774.0</td>\n      <td>44166.0</td>\n      <td>43764.0</td>\n      <td>43379.0</td>\n      <td>43754.0</td>\n      <td>44388.0</td>\n      <td>45723.0</td>\n      <td>46876.0</td>\n      <td>46640.0</td>\n    </tr>\n  </tbody>\n</table>\n</div>"
     },
     "execution_count": 18,
     "metadata": {},
     "output_type": "execute_result"
    }
   ],
   "source": [
    "# try to force convert data type from object to numeric\n",
    "# if the data is ... -> it'll turn to Nan value\n",
    "# Coerce = by force\n",
    "for col in percapitaGDP.columns[1:]:\n",
    "    percapitaGDP[col] = pd.to_numeric(percapitaGDP[col], errors='coerce')\n",
    "    percapitaGDP.rename(columns={col: 'pcGDP' + col}, inplace=True)\n",
    "percapitaGDP.head()"
   ],
   "metadata": {
    "collapsed": false,
    "pycharm": {
     "name": "#%%\n"
    }
   }
  },
  {
   "cell_type": "code",
   "execution_count": 20,
   "outputs": [
    {
     "data": {
      "text/plain": "metro         object\npcGDP2001    float64\npcGDP2002    float64\npcGDP2003    float64\npcGDP2004    float64\npcGDP2005    float64\npcGDP2006    float64\npcGDP2007    float64\npcGDP2008    float64\npcGDP2009    float64\npcGDP2010    float64\npcGDP2011    float64\npcGDP2012    float64\npcGDP2013    float64\npcGDP2014    float64\npcGDP2015    float64\npcGDP2016    float64\npcGDP2017    float64\npcGDP2018    float64\ndtype: object"
     },
     "execution_count": 20,
     "metadata": {},
     "output_type": "execute_result"
    }
   ],
   "source": [
    "percapitaGDP.dtypes"
   ],
   "metadata": {
    "collapsed": false,
    "pycharm": {
     "name": "#%%\n"
    }
   }
  },
  {
   "cell_type": "code",
   "execution_count": 21,
   "outputs": [
    {
     "data": {
      "text/plain": "          pcGDP2001     pcGDP2002     pcGDP2003     pcGDP2004      pcGDP2005  \\\ncount    424.000000    440.000000    440.000000    440.000000     447.000000   \nmean   41263.658019  41015.070455  41553.361364  42473.022727   42881.143177   \nstd    11877.960193  12536.516772  12456.583153  12621.901150   13172.229181   \nmin    10988.000000  11435.000000  11969.000000  12777.000000   13062.000000   \n25%    33139.250000  32636.000000  33284.750000  33864.500000   33735.500000   \n50%    39543.500000  39683.500000  40390.500000  41200.500000   41609.000000   \n75%    47971.750000  48611.000000  49354.750000  50468.250000   51025.000000   \nmax    91488.000000  93566.000000  98123.000000  96242.000000  101084.000000   \n\n           pcGDP2006      pcGDP2007      pcGDP2008      pcGDP2009  \\\ncount     447.000000     447.000000     455.000000     471.000000   \nmean    43987.762864   44786.760626   44533.958242   42724.316348   \nstd     13450.431995   13693.732714   14082.871703   13602.723246   \nmin     13855.000000   13937.000000    2236.000000    2202.000000   \n25%     34540.000000   35226.000000   35094.000000   33730.000000   \n50%     42929.000000   43461.000000   43287.000000   41250.000000   \n75%     52304.000000   53043.500000   53132.000000   50739.500000   \nmax    121053.000000  122897.000000  120158.000000  114486.000000   \n\n           pcGDP2010      pcGDP2011      pcGDP2012      pcGDP2013  \\\ncount     471.000000     480.000000     480.000000     480.000000   \nmean    43433.511677   43946.966667   44075.937500   44302.154167   \nstd     13896.775080   14018.472002   14170.164166   14251.392256   \nmin      2227.000000    2363.000000    2572.000000    2700.000000   \n25%     34294.500000   34582.750000   34808.750000   35113.750000   \n50%     41627.000000   42345.000000   42131.500000   42154.500000   \n75%     51428.500000   52568.750000   52569.750000   53087.500000   \nmax    119658.000000  119965.000000  117348.000000  123709.000000   \n\n           pcGDP2014      pcGDP2015      pcGDP2016      pcGDP2017  \\\ncount     480.000000     480.000000     480.000000     445.000000   \nmean    44942.493750   45802.220833   46243.666667   47489.089888   \nstd     14421.619849   14948.683819   14938.549380   15463.803389   \nmin      2683.000000    2761.000000    2796.000000    2745.000000   \n25%     35766.250000   36128.500000   36584.750000   37316.000000   \n50%     42777.500000   43237.500000   43931.500000   45385.000000   \n75%     53737.250000   54134.250000   54449.750000   56023.000000   \nmax    121011.000000  121623.000000  117879.000000  122242.000000   \n\n           pcGDP2018  \ncount     441.000000  \nmean    48032.668934  \nstd     15719.725615  \nmin      2832.000000  \n25%     37908.000000  \n50%     46057.000000  \n75%     56638.000000  \nmax    127468.000000  ",
      "text/html": "<div>\n<style scoped>\n    .dataframe tbody tr th:only-of-type {\n        vertical-align: middle;\n    }\n\n    .dataframe tbody tr th {\n        vertical-align: top;\n    }\n\n    .dataframe thead th {\n        text-align: right;\n    }\n</style>\n<table border=\"1\" class=\"dataframe\">\n  <thead>\n    <tr style=\"text-align: right;\">\n      <th></th>\n      <th>pcGDP2001</th>\n      <th>pcGDP2002</th>\n      <th>pcGDP2003</th>\n      <th>pcGDP2004</th>\n      <th>pcGDP2005</th>\n      <th>pcGDP2006</th>\n      <th>pcGDP2007</th>\n      <th>pcGDP2008</th>\n      <th>pcGDP2009</th>\n      <th>pcGDP2010</th>\n      <th>pcGDP2011</th>\n      <th>pcGDP2012</th>\n      <th>pcGDP2013</th>\n      <th>pcGDP2014</th>\n      <th>pcGDP2015</th>\n      <th>pcGDP2016</th>\n      <th>pcGDP2017</th>\n      <th>pcGDP2018</th>\n    </tr>\n  </thead>\n  <tbody>\n    <tr>\n      <th>count</th>\n      <td>424.000000</td>\n      <td>440.000000</td>\n      <td>440.000000</td>\n      <td>440.000000</td>\n      <td>447.000000</td>\n      <td>447.000000</td>\n      <td>447.000000</td>\n      <td>455.000000</td>\n      <td>471.000000</td>\n      <td>471.000000</td>\n      <td>480.000000</td>\n      <td>480.000000</td>\n      <td>480.000000</td>\n      <td>480.000000</td>\n      <td>480.000000</td>\n      <td>480.000000</td>\n      <td>445.000000</td>\n      <td>441.000000</td>\n    </tr>\n    <tr>\n      <th>mean</th>\n      <td>41263.658019</td>\n      <td>41015.070455</td>\n      <td>41553.361364</td>\n      <td>42473.022727</td>\n      <td>42881.143177</td>\n      <td>43987.762864</td>\n      <td>44786.760626</td>\n      <td>44533.958242</td>\n      <td>42724.316348</td>\n      <td>43433.511677</td>\n      <td>43946.966667</td>\n      <td>44075.937500</td>\n      <td>44302.154167</td>\n      <td>44942.493750</td>\n      <td>45802.220833</td>\n      <td>46243.666667</td>\n      <td>47489.089888</td>\n      <td>48032.668934</td>\n    </tr>\n    <tr>\n      <th>std</th>\n      <td>11877.960193</td>\n      <td>12536.516772</td>\n      <td>12456.583153</td>\n      <td>12621.901150</td>\n      <td>13172.229181</td>\n      <td>13450.431995</td>\n      <td>13693.732714</td>\n      <td>14082.871703</td>\n      <td>13602.723246</td>\n      <td>13896.775080</td>\n      <td>14018.472002</td>\n      <td>14170.164166</td>\n      <td>14251.392256</td>\n      <td>14421.619849</td>\n      <td>14948.683819</td>\n      <td>14938.549380</td>\n      <td>15463.803389</td>\n      <td>15719.725615</td>\n    </tr>\n    <tr>\n      <th>min</th>\n      <td>10988.000000</td>\n      <td>11435.000000</td>\n      <td>11969.000000</td>\n      <td>12777.000000</td>\n      <td>13062.000000</td>\n      <td>13855.000000</td>\n      <td>13937.000000</td>\n      <td>2236.000000</td>\n      <td>2202.000000</td>\n      <td>2227.000000</td>\n      <td>2363.000000</td>\n      <td>2572.000000</td>\n      <td>2700.000000</td>\n      <td>2683.000000</td>\n      <td>2761.000000</td>\n      <td>2796.000000</td>\n      <td>2745.000000</td>\n      <td>2832.000000</td>\n    </tr>\n    <tr>\n      <th>25%</th>\n      <td>33139.250000</td>\n      <td>32636.000000</td>\n      <td>33284.750000</td>\n      <td>33864.500000</td>\n      <td>33735.500000</td>\n      <td>34540.000000</td>\n      <td>35226.000000</td>\n      <td>35094.000000</td>\n      <td>33730.000000</td>\n      <td>34294.500000</td>\n      <td>34582.750000</td>\n      <td>34808.750000</td>\n      <td>35113.750000</td>\n      <td>35766.250000</td>\n      <td>36128.500000</td>\n      <td>36584.750000</td>\n      <td>37316.000000</td>\n      <td>37908.000000</td>\n    </tr>\n    <tr>\n      <th>50%</th>\n      <td>39543.500000</td>\n      <td>39683.500000</td>\n      <td>40390.500000</td>\n      <td>41200.500000</td>\n      <td>41609.000000</td>\n      <td>42929.000000</td>\n      <td>43461.000000</td>\n      <td>43287.000000</td>\n      <td>41250.000000</td>\n      <td>41627.000000</td>\n      <td>42345.000000</td>\n      <td>42131.500000</td>\n      <td>42154.500000</td>\n      <td>42777.500000</td>\n      <td>43237.500000</td>\n      <td>43931.500000</td>\n      <td>45385.000000</td>\n      <td>46057.000000</td>\n    </tr>\n    <tr>\n      <th>75%</th>\n      <td>47971.750000</td>\n      <td>48611.000000</td>\n      <td>49354.750000</td>\n      <td>50468.250000</td>\n      <td>51025.000000</td>\n      <td>52304.000000</td>\n      <td>53043.500000</td>\n      <td>53132.000000</td>\n      <td>50739.500000</td>\n      <td>51428.500000</td>\n      <td>52568.750000</td>\n      <td>52569.750000</td>\n      <td>53087.500000</td>\n      <td>53737.250000</td>\n      <td>54134.250000</td>\n      <td>54449.750000</td>\n      <td>56023.000000</td>\n      <td>56638.000000</td>\n    </tr>\n    <tr>\n      <th>max</th>\n      <td>91488.000000</td>\n      <td>93566.000000</td>\n      <td>98123.000000</td>\n      <td>96242.000000</td>\n      <td>101084.000000</td>\n      <td>121053.000000</td>\n      <td>122897.000000</td>\n      <td>120158.000000</td>\n      <td>114486.000000</td>\n      <td>119658.000000</td>\n      <td>119965.000000</td>\n      <td>117348.000000</td>\n      <td>123709.000000</td>\n      <td>121011.000000</td>\n      <td>121623.000000</td>\n      <td>117879.000000</td>\n      <td>122242.000000</td>\n      <td>127468.000000</td>\n    </tr>\n  </tbody>\n</table>\n</div>"
     },
     "execution_count": 21,
     "metadata": {},
     "output_type": "execute_result"
    }
   ],
   "source": [
    "percapitaGDP.describe()"
   ],
   "metadata": {
    "collapsed": false,
    "pycharm": {
     "name": "#%%\n"
    }
   }
  },
  {
   "cell_type": "code",
   "execution_count": 22,
   "outputs": [
    {
     "name": "stdout",
     "output_type": "stream",
     "text": [
      "(702, 19)\n",
      "(480, 19)\n"
     ]
    }
   ],
   "source": [
    "# how=\"all\" : if all the columns is Nan -> delete ; else : keep\n",
    "print(percapitaGDP.shape)\n",
    "percapitaGDP.dropna(subset=percapitaGDP.columns[1:], how=\"all\", inplace=True)\n",
    "print(percapitaGDP.shape)"
   ],
   "metadata": {
    "collapsed": false,
    "pycharm": {
     "name": "#%%\n"
    }
   }
  },
  {
   "cell_type": "code",
   "execution_count": 23,
   "outputs": [
    {
     "data": {
      "text/plain": "True"
     },
     "execution_count": 23,
     "metadata": {},
     "output_type": "execute_result"
    }
   ],
   "source": [
    "# set the index for data frame using metropolitan area column\n",
    "# confirm the data of column is unique\n",
    "percapitaGDP.metro.count() == percapitaGDP.metro.nunique()"
   ],
   "metadata": {
    "collapsed": false,
    "pycharm": {
     "name": "#%%\n"
    }
   }
  },
  {
   "cell_type": "code",
   "execution_count": 24,
   "outputs": [
    {
     "data": {
      "text/plain": "                          pcGDP2001  pcGDP2002  pcGDP2003  pcGDP2004  \\\nmetro                                                                  \nAUS01: Greater Sydney       43313.0    44008.0    45424.0    45837.0   \nAUS02: Greater Melbourne    40125.0    40894.0    41602.0    42188.0   \nAUS03: Greater Brisbane     37580.0    37564.0    39080.0    40762.0   \nAUS04: Greater Perth        45713.0    47371.0    48719.0    51020.0   \nAUS05: Greater Adelaide     36505.0    37194.0    37634.0    37399.0   \n\n                          pcGDP2005  pcGDP2006  pcGDP2007  pcGDP2008  \\\nmetro                                                                  \nAUS01: Greater Sydney       45423.0    45547.0    45880.0    45225.0   \nAUS02: Greater Melbourne    41484.0    41589.0    42316.0    40975.0   \nAUS03: Greater Brisbane     42976.0    44475.0    44635.0    46192.0   \nAUS04: Greater Perth        55278.0    60142.0    62551.0    63899.0   \nAUS05: Greater Adelaide     37604.0    38151.0    39049.0    38502.0   \n\n                          pcGDP2009  pcGDP2010  pcGDP2011  pcGDP2012  \\\nmetro                                                                  \nAUS01: Greater Sydney       45900.0    45672.0    46535.0    47350.0   \nAUS02: Greater Melbourne    41384.0    40943.0    41165.0    41264.0   \nAUS03: Greater Brisbane     43507.0    42774.0    44166.0    43764.0   \nAUS04: Greater Perth        63616.0    70111.0    73715.0    72679.0   \nAUS05: Greater Adelaide     39538.0    39309.0    39223.0    39812.0   \n\n                          pcGDP2013  pcGDP2014  pcGDP2015  pcGDP2016  \\\nmetro                                                                  \nAUS01: Greater Sydney       47225.0    48510.0    50075.0    50519.0   \nAUS02: Greater Melbourne    41157.0    42114.0    42928.0    42671.0   \nAUS03: Greater Brisbane     43379.0    43754.0    44388.0    45723.0   \nAUS04: Greater Perth        76153.0    70395.0    66544.0    66032.0   \nAUS05: Greater Adelaide     39855.0    40306.0    40295.0    39737.0   \n\n                          pcGDP2017  pcGDP2018  \nmetro                                           \nAUS01: Greater Sydney       50578.0    49860.0  \nAUS02: Greater Melbourne    43025.0    42674.0  \nAUS03: Greater Brisbane     46876.0    46640.0  \nAUS04: Greater Perth        66424.0    70390.0  \nAUS05: Greater Adelaide     40115.0    39924.0  ",
      "text/html": "<div>\n<style scoped>\n    .dataframe tbody tr th:only-of-type {\n        vertical-align: middle;\n    }\n\n    .dataframe tbody tr th {\n        vertical-align: top;\n    }\n\n    .dataframe thead th {\n        text-align: right;\n    }\n</style>\n<table border=\"1\" class=\"dataframe\">\n  <thead>\n    <tr style=\"text-align: right;\">\n      <th></th>\n      <th>pcGDP2001</th>\n      <th>pcGDP2002</th>\n      <th>pcGDP2003</th>\n      <th>pcGDP2004</th>\n      <th>pcGDP2005</th>\n      <th>pcGDP2006</th>\n      <th>pcGDP2007</th>\n      <th>pcGDP2008</th>\n      <th>pcGDP2009</th>\n      <th>pcGDP2010</th>\n      <th>pcGDP2011</th>\n      <th>pcGDP2012</th>\n      <th>pcGDP2013</th>\n      <th>pcGDP2014</th>\n      <th>pcGDP2015</th>\n      <th>pcGDP2016</th>\n      <th>pcGDP2017</th>\n      <th>pcGDP2018</th>\n    </tr>\n    <tr>\n      <th>metro</th>\n      <th></th>\n      <th></th>\n      <th></th>\n      <th></th>\n      <th></th>\n      <th></th>\n      <th></th>\n      <th></th>\n      <th></th>\n      <th></th>\n      <th></th>\n      <th></th>\n      <th></th>\n      <th></th>\n      <th></th>\n      <th></th>\n      <th></th>\n      <th></th>\n    </tr>\n  </thead>\n  <tbody>\n    <tr>\n      <th>AUS01: Greater Sydney</th>\n      <td>43313.0</td>\n      <td>44008.0</td>\n      <td>45424.0</td>\n      <td>45837.0</td>\n      <td>45423.0</td>\n      <td>45547.0</td>\n      <td>45880.0</td>\n      <td>45225.0</td>\n      <td>45900.0</td>\n      <td>45672.0</td>\n      <td>46535.0</td>\n      <td>47350.0</td>\n      <td>47225.0</td>\n      <td>48510.0</td>\n      <td>50075.0</td>\n      <td>50519.0</td>\n      <td>50578.0</td>\n      <td>49860.0</td>\n    </tr>\n    <tr>\n      <th>AUS02: Greater Melbourne</th>\n      <td>40125.0</td>\n      <td>40894.0</td>\n      <td>41602.0</td>\n      <td>42188.0</td>\n      <td>41484.0</td>\n      <td>41589.0</td>\n      <td>42316.0</td>\n      <td>40975.0</td>\n      <td>41384.0</td>\n      <td>40943.0</td>\n      <td>41165.0</td>\n      <td>41264.0</td>\n      <td>41157.0</td>\n      <td>42114.0</td>\n      <td>42928.0</td>\n      <td>42671.0</td>\n      <td>43025.0</td>\n      <td>42674.0</td>\n    </tr>\n    <tr>\n      <th>AUS03: Greater Brisbane</th>\n      <td>37580.0</td>\n      <td>37564.0</td>\n      <td>39080.0</td>\n      <td>40762.0</td>\n      <td>42976.0</td>\n      <td>44475.0</td>\n      <td>44635.0</td>\n      <td>46192.0</td>\n      <td>43507.0</td>\n      <td>42774.0</td>\n      <td>44166.0</td>\n      <td>43764.0</td>\n      <td>43379.0</td>\n      <td>43754.0</td>\n      <td>44388.0</td>\n      <td>45723.0</td>\n      <td>46876.0</td>\n      <td>46640.0</td>\n    </tr>\n    <tr>\n      <th>AUS04: Greater Perth</th>\n      <td>45713.0</td>\n      <td>47371.0</td>\n      <td>48719.0</td>\n      <td>51020.0</td>\n      <td>55278.0</td>\n      <td>60142.0</td>\n      <td>62551.0</td>\n      <td>63899.0</td>\n      <td>63616.0</td>\n      <td>70111.0</td>\n      <td>73715.0</td>\n      <td>72679.0</td>\n      <td>76153.0</td>\n      <td>70395.0</td>\n      <td>66544.0</td>\n      <td>66032.0</td>\n      <td>66424.0</td>\n      <td>70390.0</td>\n    </tr>\n    <tr>\n      <th>AUS05: Greater Adelaide</th>\n      <td>36505.0</td>\n      <td>37194.0</td>\n      <td>37634.0</td>\n      <td>37399.0</td>\n      <td>37604.0</td>\n      <td>38151.0</td>\n      <td>39049.0</td>\n      <td>38502.0</td>\n      <td>39538.0</td>\n      <td>39309.0</td>\n      <td>39223.0</td>\n      <td>39812.0</td>\n      <td>39855.0</td>\n      <td>40306.0</td>\n      <td>40295.0</td>\n      <td>39737.0</td>\n      <td>40115.0</td>\n      <td>39924.0</td>\n    </tr>\n  </tbody>\n</table>\n</div>"
     },
     "execution_count": 24,
     "metadata": {},
     "output_type": "execute_result"
    }
   ],
   "source": [
    "percapitaGDP.set_index('metro', inplace=True)\n",
    "percapitaGDP.head()"
   ],
   "metadata": {
    "collapsed": false,
    "pycharm": {
     "name": "#%%\n"
    }
   }
  },
  {
   "cell_type": "code",
   "execution_count": 25,
   "outputs": [
    {
     "data": {
      "text/plain": "pcGDP2001    40125.0\npcGDP2002    40894.0\npcGDP2003    41602.0\npcGDP2004    42188.0\npcGDP2005    41484.0\npcGDP2006    41589.0\npcGDP2007    42316.0\npcGDP2008    40975.0\npcGDP2009    41384.0\npcGDP2010    40943.0\npcGDP2011    41165.0\npcGDP2012    41264.0\npcGDP2013    41157.0\npcGDP2014    42114.0\npcGDP2015    42928.0\npcGDP2016    42671.0\npcGDP2017    43025.0\npcGDP2018    42674.0\nName: AUS02: Greater Melbourne, dtype: float64"
     },
     "execution_count": 25,
     "metadata": {},
     "output_type": "execute_result"
    }
   ],
   "source": [
    "#test\n",
    "percapitaGDP.loc['AUS02: Greater Melbourne']"
   ],
   "metadata": {
    "collapsed": false,
    "pycharm": {
     "name": "#%%\n"
    }
   }
  },
  {
   "cell_type": "markdown",
   "source": [
    "# SQL databases"
   ],
   "metadata": {
    "collapsed": false,
    "pycharm": {
     "name": "#%% md\n"
    }
   }
  },
  {
   "cell_type": "code",
   "execution_count": null,
   "outputs": [],
   "source": [
    "!pip install pymssql mysql-connector-python"
   ],
   "metadata": {
    "collapsed": false,
    "pycharm": {
     "name": "#%%\n"
    }
   }
  },
  {
   "cell_type": "code",
   "execution_count": 27,
   "outputs": [],
   "source": [
    "import pandas as pd\n",
    "import numpy as np\n",
    "import pymssql\n",
    "import mysql.connector"
   ],
   "metadata": {
    "collapsed": false,
    "pycharm": {
     "name": "#%%\n"
    }
   }
  },
  {
   "cell_type": "code",
   "execution_count": 35,
   "outputs": [],
   "source": [
    "query = \"SELECT studentid, school, sex, age, famsize,\\\n",
    "         medu AS mothereducation, fedu AS fathereducation,\\\n",
    "         traveltime, studytime, failures, famrel, freetime,\\\n",
    "         goout, g1 AS gradeperiod1, g2 AS gradeperiod2,\\\n",
    "         g3 AS gradeperiod3 From studentmath\"\n",
    "server = \"pdcc.c9sqqzd5fulv.us-west-2.rds.amazonaws.com\"\n",
    "user = \"pdccuser\"\n",
    "password = \"pdccpass\"\n",
    "database = \"pdcctest\"\n",
    "\n",
    "conn = pymssql.connect(server=server, user=user, password=password,\n",
    "                       database=database)\n",
    "\n",
    "studentmath = pd.read_sql(query, conn)\n",
    "conn.close()"
   ],
   "metadata": {
    "collapsed": false,
    "pycharm": {
     "name": "#%%\n"
    }
   }
  },
  {
   "cell_type": "code",
   "execution_count": 36,
   "outputs": [
    {
     "data": {
      "text/plain": "studentid          object\nschool             object\nsex                object\nage                 int64\nfamsize            object\nmothereducation     int64\nfathereducation     int64\ntraveltime          int64\nstudytime           int64\nfailures            int64\nfamrel              int64\nfreetime            int64\ngoout               int64\ngradeperiod1        int64\ngradeperiod2        int64\ngradeperiod3        int64\ndtype: object"
     },
     "execution_count": 36,
     "metadata": {},
     "output_type": "execute_result"
    }
   ],
   "source": [
    "studentmath.dtypes"
   ],
   "metadata": {
    "collapsed": false,
    "pycharm": {
     "name": "#%%\n"
    }
   }
  },
  {
   "cell_type": "code",
   "execution_count": 37,
   "outputs": [
    {
     "data": {
      "text/plain": "  studentid school sex  age famsize  mothereducation  fathereducation  \\\n0       001     GP   F   18     GT3                4                4   \n1       002     GP   F   17     GT3                1                1   \n2       003     GP   F   15     LE3                1                1   \n3       004     GP   F   15     GT3                4                2   \n4       005     GP   F   16     GT3                3                3   \n\n   traveltime  studytime  failures  famrel  freetime  goout  gradeperiod1  \\\n0           2          2         0       4         3      4             5   \n1           1          2         0       5         3      3             5   \n2           1          2         3       4         3      2             7   \n3           1          3         0       3         2      2            15   \n4           1          2         0       4         3      2             6   \n\n   gradeperiod2  gradeperiod3  \n0             6             6  \n1             5             6  \n2             8            10  \n3            14            15  \n4            10            10  ",
      "text/html": "<div>\n<style scoped>\n    .dataframe tbody tr th:only-of-type {\n        vertical-align: middle;\n    }\n\n    .dataframe tbody tr th {\n        vertical-align: top;\n    }\n\n    .dataframe thead th {\n        text-align: right;\n    }\n</style>\n<table border=\"1\" class=\"dataframe\">\n  <thead>\n    <tr style=\"text-align: right;\">\n      <th></th>\n      <th>studentid</th>\n      <th>school</th>\n      <th>sex</th>\n      <th>age</th>\n      <th>famsize</th>\n      <th>mothereducation</th>\n      <th>fathereducation</th>\n      <th>traveltime</th>\n      <th>studytime</th>\n      <th>failures</th>\n      <th>famrel</th>\n      <th>freetime</th>\n      <th>goout</th>\n      <th>gradeperiod1</th>\n      <th>gradeperiod2</th>\n      <th>gradeperiod3</th>\n    </tr>\n  </thead>\n  <tbody>\n    <tr>\n      <th>0</th>\n      <td>001</td>\n      <td>GP</td>\n      <td>F</td>\n      <td>18</td>\n      <td>GT3</td>\n      <td>4</td>\n      <td>4</td>\n      <td>2</td>\n      <td>2</td>\n      <td>0</td>\n      <td>4</td>\n      <td>3</td>\n      <td>4</td>\n      <td>5</td>\n      <td>6</td>\n      <td>6</td>\n    </tr>\n    <tr>\n      <th>1</th>\n      <td>002</td>\n      <td>GP</td>\n      <td>F</td>\n      <td>17</td>\n      <td>GT3</td>\n      <td>1</td>\n      <td>1</td>\n      <td>1</td>\n      <td>2</td>\n      <td>0</td>\n      <td>5</td>\n      <td>3</td>\n      <td>3</td>\n      <td>5</td>\n      <td>5</td>\n      <td>6</td>\n    </tr>\n    <tr>\n      <th>2</th>\n      <td>003</td>\n      <td>GP</td>\n      <td>F</td>\n      <td>15</td>\n      <td>LE3</td>\n      <td>1</td>\n      <td>1</td>\n      <td>1</td>\n      <td>2</td>\n      <td>3</td>\n      <td>4</td>\n      <td>3</td>\n      <td>2</td>\n      <td>7</td>\n      <td>8</td>\n      <td>10</td>\n    </tr>\n    <tr>\n      <th>3</th>\n      <td>004</td>\n      <td>GP</td>\n      <td>F</td>\n      <td>15</td>\n      <td>GT3</td>\n      <td>4</td>\n      <td>2</td>\n      <td>1</td>\n      <td>3</td>\n      <td>0</td>\n      <td>3</td>\n      <td>2</td>\n      <td>2</td>\n      <td>15</td>\n      <td>14</td>\n      <td>15</td>\n    </tr>\n    <tr>\n      <th>4</th>\n      <td>005</td>\n      <td>GP</td>\n      <td>F</td>\n      <td>16</td>\n      <td>GT3</td>\n      <td>3</td>\n      <td>3</td>\n      <td>1</td>\n      <td>2</td>\n      <td>0</td>\n      <td>4</td>\n      <td>3</td>\n      <td>2</td>\n      <td>6</td>\n      <td>10</td>\n      <td>10</td>\n    </tr>\n  </tbody>\n</table>\n</div>"
     },
     "execution_count": 37,
     "metadata": {},
     "output_type": "execute_result"
    }
   ],
   "source": [
    "studentmath.head()"
   ],
   "metadata": {
    "collapsed": false,
    "pycharm": {
     "name": "#%%\n"
    }
   }
  },
  {
   "cell_type": "code",
   "execution_count": 41,
   "outputs": [],
   "source": [
    "# Rearrange columns\n",
    "new_col_order = ['studentid', 'gradeperiod1', 'gradeperiod2', 'gradeperiod3', 'school', 'sex', 'age', 'famsize',\n",
    "                 'mothereducation',\n",
    "                 'fathereducation', 'traveltime', 'studytime', 'freetime', 'failures', 'famrel',\n",
    "                 'goout']"
   ],
   "metadata": {
    "collapsed": false,
    "pycharm": {
     "name": "#%%\n"
    }
   }
  },
  {
   "cell_type": "code",
   "execution_count": 43,
   "outputs": [],
   "source": [
    "studentmath = studentmath[new_col_order]\n",
    "studentmath"
   ],
   "metadata": {
    "collapsed": false,
    "pycharm": {
     "name": "#%%\n"
    }
   }
  },
  {
   "cell_type": "code",
   "execution_count": 47,
   "outputs": [
    {
     "data": {
      "text/plain": "0"
     },
     "execution_count": 47,
     "metadata": {},
     "output_type": "execute_result"
    }
   ],
   "source": [
    "# Check nan-value in studentid\n",
    "studentmath.studentid.isna().sum()"
   ],
   "metadata": {
    "collapsed": false,
    "pycharm": {
     "name": "#%%\n"
    }
   }
  },
  {
   "cell_type": "code",
   "execution_count": 49,
   "outputs": [
    {
     "data": {
      "text/plain": "True"
     },
     "execution_count": 49,
     "metadata": {},
     "output_type": "execute_result"
    }
   ],
   "source": [
    "# Check studentid is unique\n",
    "studentmath.studentid.nunique() == studentmath.studentid.count()"
   ],
   "metadata": {
    "collapsed": false,
    "pycharm": {
     "name": "#%%\n"
    }
   }
  },
  {
   "cell_type": "code",
   "execution_count": 50,
   "outputs": [
    {
     "data": {
      "text/plain": "           gradeperiod1  gradeperiod2  gradeperiod3 school sex  age famsize  \\\nstudentid                                                                     \n001                   5             6             6     GP   F   18     GT3   \n002                   5             5             6     GP   F   17     GT3   \n003                   7             8            10     GP   F   15     LE3   \n004                  15            14            15     GP   F   15     GT3   \n005                   6            10            10     GP   F   16     GT3   \n...                 ...           ...           ...    ...  ..  ...     ...   \n391                   9             9             9     MS   M   20     LE3   \n392                  14            16            16     MS   M   17     LE3   \n393                  10             8             7     MS   M   21     GT3   \n394                  11            12            10     MS   M   18     LE3   \n395                   8             9             9     MS   M   19     LE3   \n\n           mothereducation  fathereducation  traveltime  studytime  freetime  \\\nstudentid                                                                      \n001                      4                4           2          2         3   \n002                      1                1           1          2         3   \n003                      1                1           1          2         3   \n004                      4                2           1          3         2   \n005                      3                3           1          2         3   \n...                    ...              ...         ...        ...       ...   \n391                      2                2           1          2         5   \n392                      3                1           2          1         4   \n393                      1                1           1          1         5   \n394                      3                2           3          1         4   \n395                      1                1           1          1         2   \n\n           failures  famrel  goout  \nstudentid                           \n001               0       4      4  \n002               0       5      3  \n003               3       4      2  \n004               0       3      2  \n005               0       4      2  \n...             ...     ...    ...  \n391               2       5      4  \n392               0       2      5  \n393               3       5      3  \n394               0       4      1  \n395               0       3      3  \n\n[395 rows x 15 columns]",
      "text/html": "<div>\n<style scoped>\n    .dataframe tbody tr th:only-of-type {\n        vertical-align: middle;\n    }\n\n    .dataframe tbody tr th {\n        vertical-align: top;\n    }\n\n    .dataframe thead th {\n        text-align: right;\n    }\n</style>\n<table border=\"1\" class=\"dataframe\">\n  <thead>\n    <tr style=\"text-align: right;\">\n      <th></th>\n      <th>gradeperiod1</th>\n      <th>gradeperiod2</th>\n      <th>gradeperiod3</th>\n      <th>school</th>\n      <th>sex</th>\n      <th>age</th>\n      <th>famsize</th>\n      <th>mothereducation</th>\n      <th>fathereducation</th>\n      <th>traveltime</th>\n      <th>studytime</th>\n      <th>freetime</th>\n      <th>failures</th>\n      <th>famrel</th>\n      <th>goout</th>\n    </tr>\n    <tr>\n      <th>studentid</th>\n      <th></th>\n      <th></th>\n      <th></th>\n      <th></th>\n      <th></th>\n      <th></th>\n      <th></th>\n      <th></th>\n      <th></th>\n      <th></th>\n      <th></th>\n      <th></th>\n      <th></th>\n      <th></th>\n      <th></th>\n    </tr>\n  </thead>\n  <tbody>\n    <tr>\n      <th>001</th>\n      <td>5</td>\n      <td>6</td>\n      <td>6</td>\n      <td>GP</td>\n      <td>F</td>\n      <td>18</td>\n      <td>GT3</td>\n      <td>4</td>\n      <td>4</td>\n      <td>2</td>\n      <td>2</td>\n      <td>3</td>\n      <td>0</td>\n      <td>4</td>\n      <td>4</td>\n    </tr>\n    <tr>\n      <th>002</th>\n      <td>5</td>\n      <td>5</td>\n      <td>6</td>\n      <td>GP</td>\n      <td>F</td>\n      <td>17</td>\n      <td>GT3</td>\n      <td>1</td>\n      <td>1</td>\n      <td>1</td>\n      <td>2</td>\n      <td>3</td>\n      <td>0</td>\n      <td>5</td>\n      <td>3</td>\n    </tr>\n    <tr>\n      <th>003</th>\n      <td>7</td>\n      <td>8</td>\n      <td>10</td>\n      <td>GP</td>\n      <td>F</td>\n      <td>15</td>\n      <td>LE3</td>\n      <td>1</td>\n      <td>1</td>\n      <td>1</td>\n      <td>2</td>\n      <td>3</td>\n      <td>3</td>\n      <td>4</td>\n      <td>2</td>\n    </tr>\n    <tr>\n      <th>004</th>\n      <td>15</td>\n      <td>14</td>\n      <td>15</td>\n      <td>GP</td>\n      <td>F</td>\n      <td>15</td>\n      <td>GT3</td>\n      <td>4</td>\n      <td>2</td>\n      <td>1</td>\n      <td>3</td>\n      <td>2</td>\n      <td>0</td>\n      <td>3</td>\n      <td>2</td>\n    </tr>\n    <tr>\n      <th>005</th>\n      <td>6</td>\n      <td>10</td>\n      <td>10</td>\n      <td>GP</td>\n      <td>F</td>\n      <td>16</td>\n      <td>GT3</td>\n      <td>3</td>\n      <td>3</td>\n      <td>1</td>\n      <td>2</td>\n      <td>3</td>\n      <td>0</td>\n      <td>4</td>\n      <td>2</td>\n    </tr>\n    <tr>\n      <th>...</th>\n      <td>...</td>\n      <td>...</td>\n      <td>...</td>\n      <td>...</td>\n      <td>...</td>\n      <td>...</td>\n      <td>...</td>\n      <td>...</td>\n      <td>...</td>\n      <td>...</td>\n      <td>...</td>\n      <td>...</td>\n      <td>...</td>\n      <td>...</td>\n      <td>...</td>\n    </tr>\n    <tr>\n      <th>391</th>\n      <td>9</td>\n      <td>9</td>\n      <td>9</td>\n      <td>MS</td>\n      <td>M</td>\n      <td>20</td>\n      <td>LE3</td>\n      <td>2</td>\n      <td>2</td>\n      <td>1</td>\n      <td>2</td>\n      <td>5</td>\n      <td>2</td>\n      <td>5</td>\n      <td>4</td>\n    </tr>\n    <tr>\n      <th>392</th>\n      <td>14</td>\n      <td>16</td>\n      <td>16</td>\n      <td>MS</td>\n      <td>M</td>\n      <td>17</td>\n      <td>LE3</td>\n      <td>3</td>\n      <td>1</td>\n      <td>2</td>\n      <td>1</td>\n      <td>4</td>\n      <td>0</td>\n      <td>2</td>\n      <td>5</td>\n    </tr>\n    <tr>\n      <th>393</th>\n      <td>10</td>\n      <td>8</td>\n      <td>7</td>\n      <td>MS</td>\n      <td>M</td>\n      <td>21</td>\n      <td>GT3</td>\n      <td>1</td>\n      <td>1</td>\n      <td>1</td>\n      <td>1</td>\n      <td>5</td>\n      <td>3</td>\n      <td>5</td>\n      <td>3</td>\n    </tr>\n    <tr>\n      <th>394</th>\n      <td>11</td>\n      <td>12</td>\n      <td>10</td>\n      <td>MS</td>\n      <td>M</td>\n      <td>18</td>\n      <td>LE3</td>\n      <td>3</td>\n      <td>2</td>\n      <td>3</td>\n      <td>1</td>\n      <td>4</td>\n      <td>0</td>\n      <td>4</td>\n      <td>1</td>\n    </tr>\n    <tr>\n      <th>395</th>\n      <td>8</td>\n      <td>9</td>\n      <td>9</td>\n      <td>MS</td>\n      <td>M</td>\n      <td>19</td>\n      <td>LE3</td>\n      <td>1</td>\n      <td>1</td>\n      <td>1</td>\n      <td>1</td>\n      <td>2</td>\n      <td>0</td>\n      <td>3</td>\n      <td>3</td>\n    </tr>\n  </tbody>\n</table>\n<p>395 rows × 15 columns</p>\n</div>"
     },
     "execution_count": 50,
     "metadata": {},
     "output_type": "execute_result"
    }
   ],
   "source": [
    "# set studentid to index\n",
    "studentmath.set_index(\"studentid\", inplace=True)\n",
    "studentmath"
   ],
   "metadata": {
    "collapsed": false,
    "pycharm": {
     "name": "#%%\n"
    }
   }
  },
  {
   "cell_type": "code",
   "execution_count": 51,
   "outputs": [
    {
     "data": {
      "text/plain": "gradeperiod1       395\ngradeperiod2       395\ngradeperiod3       395\nschool             395\nsex                395\nage                395\nfamsize            395\nmothereducation    395\nfathereducation    395\ntraveltime         395\nstudytime          395\nfreetime           395\nfailures           395\nfamrel             395\ngoout              395\ndtype: int64"
     },
     "execution_count": 51,
     "metadata": {},
     "output_type": "execute_result"
    }
   ],
   "source": [
    "# check for missing value\n",
    "studentmath.count()"
   ],
   "metadata": {
    "collapsed": false,
    "pycharm": {
     "name": "#%%\n"
    }
   }
  },
  {
   "cell_type": "code",
   "execution_count": 52,
   "outputs": [
    {
     "data": {
      "text/plain": "           gradeperiod1  gradeperiod2  gradeperiod3 school sex  age famsize  \\\nstudentid                                                                     \n001                   5             6             6     GP   F   18     GT3   \n002                   5             5             6     GP   F   17     GT3   \n003                   7             8            10     GP   F   15     LE3   \n004                  15            14            15     GP   F   15     GT3   \n005                   6            10            10     GP   F   16     GT3   \n...                 ...           ...           ...    ...  ..  ...     ...   \n391                   9             9             9     MS   M   20     LE3   \n392                  14            16            16     MS   M   17     LE3   \n393                  10             8             7     MS   M   21     GT3   \n394                  11            12            10     MS   M   18     LE3   \n395                   8             9             9     MS   M   19     LE3   \n\n          mothereducation fathereducation  traveltime  studytime     freetime  \\\nstudentid                                                                       \n001           4:higher ed     4:higher ed           2          2    3:neutral   \n002                 1:k-4           1:k-4           1          2    3:neutral   \n003                 1:k-4           1:k-4           1          2    3:neutral   \n004           4:higher ed           2:5-9           1          3        2:low   \n005        3:secondary ed  3:secondary ed           1          2    3:neutral   \n...                   ...             ...         ...        ...          ...   \n391                 2:5-9           2:5-9           1          2  5:very high   \n392        3:secondary ed           1:k-4           2          1       4:high   \n393                 1:k-4           1:k-4           1          1  5:very high   \n394        3:secondary ed           2:5-9           3          1       4:high   \n395                 1:k-4           1:k-4           1          1        2:low   \n\n           failures       famrel        goout  \nstudentid                                      \n001               0       4:good       4:high  \n002               0  5:excellent    3:neutral  \n003               3       4:good        2:low  \n004               0    3:neutral        2:low  \n005               0       4:good        2:low  \n...             ...          ...          ...  \n391               2  5:excellent       4:high  \n392               0        2:bad  5:very high  \n393               3  5:excellent    3:neutral  \n394               0       4:good   1:very low  \n395               0    3:neutral    3:neutral  \n\n[395 rows x 15 columns]",
      "text/html": "<div>\n<style scoped>\n    .dataframe tbody tr th:only-of-type {\n        vertical-align: middle;\n    }\n\n    .dataframe tbody tr th {\n        vertical-align: top;\n    }\n\n    .dataframe thead th {\n        text-align: right;\n    }\n</style>\n<table border=\"1\" class=\"dataframe\">\n  <thead>\n    <tr style=\"text-align: right;\">\n      <th></th>\n      <th>gradeperiod1</th>\n      <th>gradeperiod2</th>\n      <th>gradeperiod3</th>\n      <th>school</th>\n      <th>sex</th>\n      <th>age</th>\n      <th>famsize</th>\n      <th>mothereducation</th>\n      <th>fathereducation</th>\n      <th>traveltime</th>\n      <th>studytime</th>\n      <th>freetime</th>\n      <th>failures</th>\n      <th>famrel</th>\n      <th>goout</th>\n    </tr>\n    <tr>\n      <th>studentid</th>\n      <th></th>\n      <th></th>\n      <th></th>\n      <th></th>\n      <th></th>\n      <th></th>\n      <th></th>\n      <th></th>\n      <th></th>\n      <th></th>\n      <th></th>\n      <th></th>\n      <th></th>\n      <th></th>\n      <th></th>\n    </tr>\n  </thead>\n  <tbody>\n    <tr>\n      <th>001</th>\n      <td>5</td>\n      <td>6</td>\n      <td>6</td>\n      <td>GP</td>\n      <td>F</td>\n      <td>18</td>\n      <td>GT3</td>\n      <td>4:higher ed</td>\n      <td>4:higher ed</td>\n      <td>2</td>\n      <td>2</td>\n      <td>3:neutral</td>\n      <td>0</td>\n      <td>4:good</td>\n      <td>4:high</td>\n    </tr>\n    <tr>\n      <th>002</th>\n      <td>5</td>\n      <td>5</td>\n      <td>6</td>\n      <td>GP</td>\n      <td>F</td>\n      <td>17</td>\n      <td>GT3</td>\n      <td>1:k-4</td>\n      <td>1:k-4</td>\n      <td>1</td>\n      <td>2</td>\n      <td>3:neutral</td>\n      <td>0</td>\n      <td>5:excellent</td>\n      <td>3:neutral</td>\n    </tr>\n    <tr>\n      <th>003</th>\n      <td>7</td>\n      <td>8</td>\n      <td>10</td>\n      <td>GP</td>\n      <td>F</td>\n      <td>15</td>\n      <td>LE3</td>\n      <td>1:k-4</td>\n      <td>1:k-4</td>\n      <td>1</td>\n      <td>2</td>\n      <td>3:neutral</td>\n      <td>3</td>\n      <td>4:good</td>\n      <td>2:low</td>\n    </tr>\n    <tr>\n      <th>004</th>\n      <td>15</td>\n      <td>14</td>\n      <td>15</td>\n      <td>GP</td>\n      <td>F</td>\n      <td>15</td>\n      <td>GT3</td>\n      <td>4:higher ed</td>\n      <td>2:5-9</td>\n      <td>1</td>\n      <td>3</td>\n      <td>2:low</td>\n      <td>0</td>\n      <td>3:neutral</td>\n      <td>2:low</td>\n    </tr>\n    <tr>\n      <th>005</th>\n      <td>6</td>\n      <td>10</td>\n      <td>10</td>\n      <td>GP</td>\n      <td>F</td>\n      <td>16</td>\n      <td>GT3</td>\n      <td>3:secondary ed</td>\n      <td>3:secondary ed</td>\n      <td>1</td>\n      <td>2</td>\n      <td>3:neutral</td>\n      <td>0</td>\n      <td>4:good</td>\n      <td>2:low</td>\n    </tr>\n    <tr>\n      <th>...</th>\n      <td>...</td>\n      <td>...</td>\n      <td>...</td>\n      <td>...</td>\n      <td>...</td>\n      <td>...</td>\n      <td>...</td>\n      <td>...</td>\n      <td>...</td>\n      <td>...</td>\n      <td>...</td>\n      <td>...</td>\n      <td>...</td>\n      <td>...</td>\n      <td>...</td>\n    </tr>\n    <tr>\n      <th>391</th>\n      <td>9</td>\n      <td>9</td>\n      <td>9</td>\n      <td>MS</td>\n      <td>M</td>\n      <td>20</td>\n      <td>LE3</td>\n      <td>2:5-9</td>\n      <td>2:5-9</td>\n      <td>1</td>\n      <td>2</td>\n      <td>5:very high</td>\n      <td>2</td>\n      <td>5:excellent</td>\n      <td>4:high</td>\n    </tr>\n    <tr>\n      <th>392</th>\n      <td>14</td>\n      <td>16</td>\n      <td>16</td>\n      <td>MS</td>\n      <td>M</td>\n      <td>17</td>\n      <td>LE3</td>\n      <td>3:secondary ed</td>\n      <td>1:k-4</td>\n      <td>2</td>\n      <td>1</td>\n      <td>4:high</td>\n      <td>0</td>\n      <td>2:bad</td>\n      <td>5:very high</td>\n    </tr>\n    <tr>\n      <th>393</th>\n      <td>10</td>\n      <td>8</td>\n      <td>7</td>\n      <td>MS</td>\n      <td>M</td>\n      <td>21</td>\n      <td>GT3</td>\n      <td>1:k-4</td>\n      <td>1:k-4</td>\n      <td>1</td>\n      <td>1</td>\n      <td>5:very high</td>\n      <td>3</td>\n      <td>5:excellent</td>\n      <td>3:neutral</td>\n    </tr>\n    <tr>\n      <th>394</th>\n      <td>11</td>\n      <td>12</td>\n      <td>10</td>\n      <td>MS</td>\n      <td>M</td>\n      <td>18</td>\n      <td>LE3</td>\n      <td>3:secondary ed</td>\n      <td>2:5-9</td>\n      <td>3</td>\n      <td>1</td>\n      <td>4:high</td>\n      <td>0</td>\n      <td>4:good</td>\n      <td>1:very low</td>\n    </tr>\n    <tr>\n      <th>395</th>\n      <td>8</td>\n      <td>9</td>\n      <td>9</td>\n      <td>MS</td>\n      <td>M</td>\n      <td>19</td>\n      <td>LE3</td>\n      <td>1:k-4</td>\n      <td>1:k-4</td>\n      <td>1</td>\n      <td>1</td>\n      <td>2:low</td>\n      <td>0</td>\n      <td>3:neutral</td>\n      <td>3:neutral</td>\n    </tr>\n  </tbody>\n</table>\n<p>395 rows × 15 columns</p>\n</div>"
     },
     "execution_count": 52,
     "metadata": {},
     "output_type": "execute_result"
    }
   ],
   "source": [
    "# add codes to data values\n",
    "setvalues = {\"famrel\": {1: \"1:very bad\", 2: \"2:bad\", 3: \"3:neutral\",\n",
    "                        4: \"4:good\", 5: \"5:excellent\"},\n",
    "             \"freetime\": {1: \"1:very low\", 2: \"2:low\", 3: \"3:neutral\",\n",
    "                          4: \"4:high\", 5: \"5:very high\"},\n",
    "             \"goout\": {1: \"1:very low\", 2: \"2:low\", 3: \"3:neutral\",\n",
    "                       4: \"4:high\", 5: \"5:very high\"},\n",
    "             \"mothereducation\": {0: np.nan, 1: \"1:k-4\", 2: \"2:5-9\",\n",
    "                                 3: \"3:secondary ed\", 4: \"4:higher ed\"},\n",
    "             \"fathereducation\": {0: np.nan, 1: \"1:k-4\", 2: \"2:5-9\",\n",
    "                                 3: \"3:secondary ed\", 4: \"4:higher ed\"}}\n",
    "studentmath.replace(setvalues, inplace=True)\n",
    "studentmath"
   ],
   "metadata": {
    "collapsed": false,
    "pycharm": {
     "name": "#%%\n"
    }
   }
  },
  {
   "cell_type": "code",
   "execution_count": 53,
   "outputs": [
    {
     "data": {
      "text/plain": "famrel             3160\nfreetime           3160\ngoout              3160\nmothereducation    3160\nfathereducation    3160\ndtype: int64"
     },
     "execution_count": 53,
     "metadata": {},
     "output_type": "execute_result"
    }
   ],
   "source": [
    "set_values_keys = [k for k in setvalues]\n",
    "# check for any change in memory usage :\n",
    "studentmath[set_values_keys].memory_usage(index=False)"
   ],
   "metadata": {
    "collapsed": false,
    "pycharm": {
     "name": "#%%\n"
    }
   }
  },
  {
   "cell_type": "code",
   "execution_count": 54,
   "outputs": [],
   "source": [
    "for col in set_values_keys:\n",
    "    studentmath[col] = studentmath[col].astype('category')"
   ],
   "metadata": {
    "collapsed": false,
    "pycharm": {
     "name": "#%%\n"
    }
   }
  },
  {
   "cell_type": "code",
   "execution_count": 55,
   "outputs": [
    {
     "data": {
      "text/plain": "famrel             607\nfreetime           607\ngoout              607\nmothereducation    599\nfathereducation    599\ndtype: int64"
     },
     "execution_count": 55,
     "metadata": {},
     "output_type": "execute_result"
    }
   ],
   "source": [
    "# check again\n",
    "studentmath[set_values_keys].memory_usage(index=False)"
   ],
   "metadata": {
    "collapsed": false,
    "pycharm": {
     "name": "#%%\n"
    }
   }
  },
  {
   "cell_type": "code",
   "execution_count": 56,
   "outputs": [
    {
     "data": {
      "text/plain": "1:very bad     0.020253\n2:bad          0.045570\n3:neutral      0.172152\n4:good         0.493671\n5:excellent    0.268354\nName: famrel, dtype: float64"
     },
     "execution_count": 56,
     "metadata": {},
     "output_type": "execute_result"
    }
   ],
   "source": [
    "# calculate %\n",
    "studentmath.famrel.value_counts(sort=False, normalize=True)"
   ],
   "metadata": {
    "collapsed": false,
    "pycharm": {
     "name": "#%%\n"
    }
   }
  },
  {
   "cell_type": "code",
   "execution_count": 60,
   "outputs": [
    {
     "data": {
      "text/plain": "                freetime     goout  fathereducation\n1:k-4                NaN       NaN         0.208651\n1:very low      0.048101  0.058228              NaN\n2:5-9                NaN       NaN         0.292621\n2:low           0.162025  0.260759              NaN\n3:neutral       0.397468  0.329114              NaN\n3:secondary ed       NaN       NaN         0.254453\n4:high          0.291139  0.217722              NaN\n4:higher ed          NaN       NaN         0.244275\n5:very high     0.101266  0.134177              NaN",
      "text/html": "<div>\n<style scoped>\n    .dataframe tbody tr th:only-of-type {\n        vertical-align: middle;\n    }\n\n    .dataframe tbody tr th {\n        vertical-align: top;\n    }\n\n    .dataframe thead th {\n        text-align: right;\n    }\n</style>\n<table border=\"1\" class=\"dataframe\">\n  <thead>\n    <tr style=\"text-align: right;\">\n      <th></th>\n      <th>freetime</th>\n      <th>goout</th>\n      <th>fathereducation</th>\n    </tr>\n  </thead>\n  <tbody>\n    <tr>\n      <th>1:k-4</th>\n      <td>NaN</td>\n      <td>NaN</td>\n      <td>0.208651</td>\n    </tr>\n    <tr>\n      <th>1:very low</th>\n      <td>0.048101</td>\n      <td>0.058228</td>\n      <td>NaN</td>\n    </tr>\n    <tr>\n      <th>2:5-9</th>\n      <td>NaN</td>\n      <td>NaN</td>\n      <td>0.292621</td>\n    </tr>\n    <tr>\n      <th>2:low</th>\n      <td>0.162025</td>\n      <td>0.260759</td>\n      <td>NaN</td>\n    </tr>\n    <tr>\n      <th>3:neutral</th>\n      <td>0.397468</td>\n      <td>0.329114</td>\n      <td>NaN</td>\n    </tr>\n    <tr>\n      <th>3:secondary ed</th>\n      <td>NaN</td>\n      <td>NaN</td>\n      <td>0.254453</td>\n    </tr>\n    <tr>\n      <th>4:high</th>\n      <td>0.291139</td>\n      <td>0.217722</td>\n      <td>NaN</td>\n    </tr>\n    <tr>\n      <th>4:higher ed</th>\n      <td>NaN</td>\n      <td>NaN</td>\n      <td>0.244275</td>\n    </tr>\n    <tr>\n      <th>5:very high</th>\n      <td>0.101266</td>\n      <td>0.134177</td>\n      <td>NaN</td>\n    </tr>\n  </tbody>\n</table>\n</div>"
     },
     "execution_count": 60,
     "metadata": {},
     "output_type": "execute_result"
    }
   ],
   "source": [
    "# use apply to calculate percentage for multi-columns\n",
    "# this works because freetime and goout share a subset of values\n",
    "studentmath[['freetime','goout']].apply(pd.Series.value_counts, sort=False, normalize=True)"
   ],
   "metadata": {
    "collapsed": false,
    "pycharm": {
     "name": "#%%\n"
    }
   }
  },
  {
   "cell_type": "code",
   "execution_count": 59,
   "outputs": [
    {
     "data": {
      "text/plain": "                mothereducation  fathereducation\n1:k-4                  0.150510         0.208651\n2:5-9                  0.262755         0.292621\n3:secondary ed         0.252551         0.254453\n4:higher ed            0.334184         0.244275",
      "text/html": "<div>\n<style scoped>\n    .dataframe tbody tr th:only-of-type {\n        vertical-align: middle;\n    }\n\n    .dataframe tbody tr th {\n        vertical-align: top;\n    }\n\n    .dataframe thead th {\n        text-align: right;\n    }\n</style>\n<table border=\"1\" class=\"dataframe\">\n  <thead>\n    <tr style=\"text-align: right;\">\n      <th></th>\n      <th>mothereducation</th>\n      <th>fathereducation</th>\n    </tr>\n  </thead>\n  <tbody>\n    <tr>\n      <th>1:k-4</th>\n      <td>0.150510</td>\n      <td>0.208651</td>\n    </tr>\n    <tr>\n      <th>2:5-9</th>\n      <td>0.262755</td>\n      <td>0.292621</td>\n    </tr>\n    <tr>\n      <th>3:secondary ed</th>\n      <td>0.252551</td>\n      <td>0.254453</td>\n    </tr>\n    <tr>\n      <th>4:higher ed</th>\n      <td>0.334184</td>\n      <td>0.244275</td>\n    </tr>\n  </tbody>\n</table>\n</div>"
     },
     "execution_count": 59,
     "metadata": {},
     "output_type": "execute_result"
    }
   ],
   "source": [
    "studentmath[['mothereducation','fathereducation']].apply(pd.Series.value_counts, sort=False, normalize=True)"
   ],
   "metadata": {
    "collapsed": false,
    "pycharm": {
     "name": "#%%\n"
    }
   }
  },
  {
   "cell_type": "code",
   "execution_count": null,
   "outputs": [],
   "source": [
    "\"\"\"\n",
    "Notes:\n",
    "- For SQL databases, normally, data is well-structured.\n",
    "- There's usually a lot of columns than what we need.\n",
    "- Column's name is usually not very clear to understand.\n",
    "- To pull the data from a SQL server, we have to create a connection, a query,\n",
    "then we passe it to read_sql to retrieve data and load it to the data frame.\n",
    "- Check if the column doesn't contain Null or Nan value and Unique before set index.\n",
    "- Use count() function to check for missing value (it's very good).\n",
    "- To replace a value, we need to create a dictionary, then passe it to replace method.\n",
    "- To reduce the amount of storage, use 'category'.\n",
    "- Some columns have 0 value, but it means that we don't have data at these rows. So\n",
    "we may map it to Nan-value, then delete it.\n",
    "- Map is more efficiently than Replace.\n",
    "\"\"\""
   ],
   "metadata": {
    "collapsed": false,
    "pycharm": {
     "name": "#%%\n"
    }
   }
  },
  {
   "cell_type": "markdown",
   "source": [
    "# SPSS, Stata, SAS data\n",
    "## SPSS"
   ],
   "metadata": {
    "collapsed": false,
    "pycharm": {
     "name": "#%% md\n"
    }
   }
  },
  {
   "cell_type": "code",
   "execution_count": 61,
   "outputs": [
    {
     "name": "stdout",
     "output_type": "stream",
     "text": [
      "Collecting pyreadstat\n",
      "  Downloading pyreadstat-1.1.4-cp310-cp310-win_amd64.whl (1.3 MB)\n",
      "Requirement already satisfied: pandas>=1.2.0 in c:\\users\\quocd\\appdata\\local\\programs\\python\\python310\\lib\\site-packages (from pyreadstat) (1.3.4)\n",
      "Requirement already satisfied: python-dateutil>=2.7.3 in c:\\users\\quocd\\appdata\\local\\programs\\python\\python310\\lib\\site-packages (from pandas>=1.2.0->pyreadstat) (2.8.2)\n",
      "Requirement already satisfied: pytz>=2017.3 in c:\\users\\quocd\\appdata\\local\\programs\\python\\python310\\lib\\site-packages (from pandas>=1.2.0->pyreadstat) (2021.3)\n",
      "Requirement already satisfied: numpy>=1.21.0 in c:\\users\\quocd\\appdata\\local\\programs\\python\\python310\\lib\\site-packages (from pandas>=1.2.0->pyreadstat) (1.21.4)\n",
      "Requirement already satisfied: six>=1.5 in c:\\users\\quocd\\appdata\\local\\programs\\python\\python310\\lib\\site-packages (from python-dateutil>=2.7.3->pandas>=1.2.0->pyreadstat) (1.16.0)\n",
      "Installing collected packages: pyreadstat\n",
      "Successfully installed pyreadstat-1.1.4\n"
     ]
    },
    {
     "name": "stderr",
     "output_type": "stream",
     "text": [
      "WARNING: You are using pip version 21.3.1; however, version 22.0.4 is available.\n",
      "You should consider upgrading via the 'C:\\Users\\quocd\\AppData\\Local\\Programs\\Python\\Python310\\python.exe -m pip install --upgrade pip' command.\n"
     ]
    }
   ],
   "source": [
    "!pip install pyreadstat"
   ],
   "metadata": {
    "collapsed": false,
    "pycharm": {
     "name": "#%%\n"
    }
   }
  },
  {
   "cell_type": "code",
   "execution_count": 62,
   "outputs": [],
   "source": [
    "import pandas as pd\n",
    "import numpy as np\n",
    "import pyreadstat"
   ],
   "metadata": {
    "collapsed": false,
    "pycharm": {
     "name": "#%%\n"
    }
   }
  },
  {
   "cell_type": "code",
   "execution_count": 63,
   "outputs": [
    {
     "data": {
      "text/plain": "R0000100    float64\nR0536300    float64\nR0536401    float64\nR0536402    float64\nR1235800    float64\nR1482600    float64\nR9793800    float64\nR9793900    float64\nR9871900    float64\nR9872000    float64\nR9872200    float64\nR9872400    float64\nS8646900    float64\nS8647000    float64\nS8647100    float64\nS8647200    float64\nS8647300    float64\nS8647400    float64\nS8647500    float64\nS8647600    float64\nS8647700    float64\nS8647800    float64\nT6651700    float64\nU1836800    float64\nU1836900    float64\nU1837000    float64\nU1837100    float64\nU1837200    float64\nU1837300    float64\nU1845400    float64\nU1852400    float64\nU1852600    float64\nU1852700    float64\nU2166200    float64\nU2166300    float64\nU2166400    float64\nU2166500    float64\nU2857300    float64\nU2962800    float64\nU2962900    float64\nU2963000    float64\nZ9063900    float64\ndtype: object"
     },
     "execution_count": 63,
     "metadata": {},
     "output_type": "execute_result"
    }
   ],
   "source": [
    "nls97spss, metaspss = pyreadstat.read_sav('data/nls97.sav')\n",
    "nls97spss.dtypes"
   ],
   "metadata": {
    "collapsed": false,
    "pycharm": {
     "name": "#%%\n"
    }
   }
  },
  {
   "cell_type": "code",
   "execution_count": 64,
   "outputs": [
    {
     "data": {
      "text/plain": "   R0000100  R0536300  R0536401  R0536402  R1235800  R1482600  R9793800  \\\n0       1.0       2.0       9.0    1981.0       1.0       4.0     350.0   \n1       2.0       1.0       7.0    1982.0       1.0       2.0     460.0   \n2       3.0       2.0       9.0    1983.0       1.0       2.0       NaN   \n3       4.0       2.0       2.0    1981.0       1.0       2.0       NaN   \n4       5.0       1.0      10.0    1982.0       1.0       2.0       NaN   \n\n   R9793900  R9871900  R9872000  ...  U1852700  U2166200  U2166300  U2166400  \\\n0     470.0     309.0     310.0  ...       NaN       NaN       NaN       NaN   \n1     440.0     217.0     280.0  ...       NaN       NaN       NaN       NaN   \n2       NaN       NaN       NaN  ...       0.0       NaN       NaN       NaN   \n3       NaN     253.0     216.0  ...       1.0       NaN       NaN       NaN   \n4       NaN     243.0     235.0  ...       0.0       NaN       NaN       NaN   \n\n   U2166500  U2857300  U2962800  U2962900  U2963000  Z9063900  \n0       NaN       NaN       NaN       NaN       NaN      52.0  \n1       NaN       NaN       4.0       2.0       6.0       0.0  \n2       NaN       NaN       6.0       2.0       6.0       0.0  \n3       NaN       NaN       3.0       2.0       6.0       4.0  \n4       NaN       NaN       2.0       2.0       5.0      12.0  \n\n[5 rows x 42 columns]",
      "text/html": "<div>\n<style scoped>\n    .dataframe tbody tr th:only-of-type {\n        vertical-align: middle;\n    }\n\n    .dataframe tbody tr th {\n        vertical-align: top;\n    }\n\n    .dataframe thead th {\n        text-align: right;\n    }\n</style>\n<table border=\"1\" class=\"dataframe\">\n  <thead>\n    <tr style=\"text-align: right;\">\n      <th></th>\n      <th>R0000100</th>\n      <th>R0536300</th>\n      <th>R0536401</th>\n      <th>R0536402</th>\n      <th>R1235800</th>\n      <th>R1482600</th>\n      <th>R9793800</th>\n      <th>R9793900</th>\n      <th>R9871900</th>\n      <th>R9872000</th>\n      <th>...</th>\n      <th>U1852700</th>\n      <th>U2166200</th>\n      <th>U2166300</th>\n      <th>U2166400</th>\n      <th>U2166500</th>\n      <th>U2857300</th>\n      <th>U2962800</th>\n      <th>U2962900</th>\n      <th>U2963000</th>\n      <th>Z9063900</th>\n    </tr>\n  </thead>\n  <tbody>\n    <tr>\n      <th>0</th>\n      <td>1.0</td>\n      <td>2.0</td>\n      <td>9.0</td>\n      <td>1981.0</td>\n      <td>1.0</td>\n      <td>4.0</td>\n      <td>350.0</td>\n      <td>470.0</td>\n      <td>309.0</td>\n      <td>310.0</td>\n      <td>...</td>\n      <td>NaN</td>\n      <td>NaN</td>\n      <td>NaN</td>\n      <td>NaN</td>\n      <td>NaN</td>\n      <td>NaN</td>\n      <td>NaN</td>\n      <td>NaN</td>\n      <td>NaN</td>\n      <td>52.0</td>\n    </tr>\n    <tr>\n      <th>1</th>\n      <td>2.0</td>\n      <td>1.0</td>\n      <td>7.0</td>\n      <td>1982.0</td>\n      <td>1.0</td>\n      <td>2.0</td>\n      <td>460.0</td>\n      <td>440.0</td>\n      <td>217.0</td>\n      <td>280.0</td>\n      <td>...</td>\n      <td>NaN</td>\n      <td>NaN</td>\n      <td>NaN</td>\n      <td>NaN</td>\n      <td>NaN</td>\n      <td>NaN</td>\n      <td>4.0</td>\n      <td>2.0</td>\n      <td>6.0</td>\n      <td>0.0</td>\n    </tr>\n    <tr>\n      <th>2</th>\n      <td>3.0</td>\n      <td>2.0</td>\n      <td>9.0</td>\n      <td>1983.0</td>\n      <td>1.0</td>\n      <td>2.0</td>\n      <td>NaN</td>\n      <td>NaN</td>\n      <td>NaN</td>\n      <td>NaN</td>\n      <td>...</td>\n      <td>0.0</td>\n      <td>NaN</td>\n      <td>NaN</td>\n      <td>NaN</td>\n      <td>NaN</td>\n      <td>NaN</td>\n      <td>6.0</td>\n      <td>2.0</td>\n      <td>6.0</td>\n      <td>0.0</td>\n    </tr>\n    <tr>\n      <th>3</th>\n      <td>4.0</td>\n      <td>2.0</td>\n      <td>2.0</td>\n      <td>1981.0</td>\n      <td>1.0</td>\n      <td>2.0</td>\n      <td>NaN</td>\n      <td>NaN</td>\n      <td>253.0</td>\n      <td>216.0</td>\n      <td>...</td>\n      <td>1.0</td>\n      <td>NaN</td>\n      <td>NaN</td>\n      <td>NaN</td>\n      <td>NaN</td>\n      <td>NaN</td>\n      <td>3.0</td>\n      <td>2.0</td>\n      <td>6.0</td>\n      <td>4.0</td>\n    </tr>\n    <tr>\n      <th>4</th>\n      <td>5.0</td>\n      <td>1.0</td>\n      <td>10.0</td>\n      <td>1982.0</td>\n      <td>1.0</td>\n      <td>2.0</td>\n      <td>NaN</td>\n      <td>NaN</td>\n      <td>243.0</td>\n      <td>235.0</td>\n      <td>...</td>\n      <td>0.0</td>\n      <td>NaN</td>\n      <td>NaN</td>\n      <td>NaN</td>\n      <td>NaN</td>\n      <td>NaN</td>\n      <td>2.0</td>\n      <td>2.0</td>\n      <td>5.0</td>\n      <td>12.0</td>\n    </tr>\n  </tbody>\n</table>\n<p>5 rows × 42 columns</p>\n</div>"
     },
     "execution_count": 64,
     "metadata": {},
     "output_type": "execute_result"
    }
   ],
   "source": [
    "nls97spss.head()"
   ],
   "metadata": {
    "collapsed": false,
    "pycharm": {
     "name": "#%%\n"
    }
   }
  },
  {
   "cell_type": "code",
   "execution_count": 66,
   "outputs": [
    {
     "data": {
      "text/plain": "{0.0: 'No Information', 1.0: 'Male', 2.0: 'Female'}"
     },
     "execution_count": 66,
     "metadata": {},
     "output_type": "execute_result"
    }
   ],
   "source": [
    "# Because the columns name and labels aren't descriptive,\n",
    "# we can use meta-data to know what does it mean.\n",
    "map_dictionary = metaspss.variable_value_labels['R0536300']\n",
    "map_dictionary"
   ],
   "metadata": {
    "collapsed": false,
    "pycharm": {
     "name": "#%%\n"
    }
   }
  },
  {
   "cell_type": "code",
   "execution_count": 67,
   "outputs": [
    {
     "data": {
      "text/plain": "Male      0.51191\nFemale    0.48809\nName: R0536300, dtype: float64"
     },
     "execution_count": 67,
     "metadata": {},
     "output_type": "execute_result"
    }
   ],
   "source": [
    "nls97spss['R0536300'].map(map_dictionary).value_counts(normalize=True)"
   ],
   "metadata": {
    "collapsed": false,
    "pycharm": {
     "name": "#%%\n"
    }
   }
  },
  {
   "cell_type": "code",
   "execution_count": 69,
   "outputs": [
    {
     "data": {
      "text/plain": "      R0000100 R0536300  R0536401  R0536402         R1235800  \\\n0          1.0   Female       9.0    1981.0  Cross-sectional   \n1          2.0     Male       7.0    1982.0  Cross-sectional   \n2          3.0   Female       9.0    1983.0  Cross-sectional   \n3          4.0   Female       2.0    1981.0  Cross-sectional   \n4          5.0     Male      10.0    1982.0  Cross-sectional   \n...        ...      ...       ...       ...              ...   \n8979    9018.0   Female       3.0    1980.0  Cross-sectional   \n8980    9019.0     Male       9.0    1984.0       Oversample   \n8981    9020.0     Male       7.0    1980.0  Cross-sectional   \n8982    9021.0     Male       7.0    1980.0  Cross-sectional   \n8983    9022.0   Female       1.0    1982.0  Cross-sectional   \n\n                      R1482600  R9793800  R9793900  R9871900  R9872000  ...  \\\n0     Non-Black / Non-Hispanic     350.0     470.0     309.0     310.0  ...   \n1                     Hispanic     460.0     440.0     217.0     280.0  ...   \n2                     Hispanic       NaN       NaN       NaN       NaN  ...   \n3                     Hispanic       NaN       NaN     253.0     216.0  ...   \n4                     Hispanic       NaN       NaN     243.0     235.0  ...   \n...                        ...       ...       ...       ...       ...  ...   \n8979  Non-Black / Non-Hispanic       NaN       NaN       NaN       NaN  ...   \n8980                  Hispanic       NaN       NaN       NaN       NaN  ...   \n8981  Non-Black / Non-Hispanic       NaN       NaN     322.0     290.0  ...   \n8982  Non-Black / Non-Hispanic       NaN       NaN     230.0     184.0  ...   \n8983  Non-Black / Non-Hispanic       NaN       NaN       NaN       NaN  ...   \n\n      U1852700  U2166200 U2166300 U2166400 U2166500 U2857300  \\\n0          NaN       NaN      NaN      NaN      NaN      NaN   \n1          NaN       NaN      NaN      NaN      NaN      NaN   \n2          0.0       NaN      NaN      NaN      NaN      NaN   \n3          1.0       NaN      NaN      NaN      NaN      NaN   \n4          0.0       NaN      NaN      NaN      NaN      NaN   \n...        ...       ...      ...      ...      ...      ...   \n8979       3.0       NaN      NaN      NaN      NaN      NaN   \n8980       4.0       NaN      NaN      NaN      NaN      NaN   \n8981       NaN       NaN      NaN      NaN      NaN      NaN   \n8982       0.0       NaN      NaN      NaN      NaN      NaN   \n8983       0.0       NaN      NaN      NaN      NaN      NaN   \n\n                     U2962800                    U2962900 U2963000 Z9063900  \n0                         NaN                         NaN      NaN     52.0  \n1         4 to 6 hours a week        3 to 10 hours a week      6.0      0.0  \n2     10 hours or more a week        3 to 10 hours a week      6.0      0.0  \n3         1 to 3 hours a week        3 to 10 hours a week      6.0      4.0  \n4     Less than 1 hour a week        3 to 10 hours a week      5.0     12.0  \n...                       ...                         ...      ...      ...  \n8979      4 to 6 hours a week        3 to 10 hours a week      4.0     49.0  \n8980  Less than 1 hour a week        3 to 10 hours a week      6.0      0.0  \n8981                      NaN                         NaN      NaN     15.0  \n8982  10 hours or more a week        3 to 10 hours a week      7.0     50.0  \n8983  10 hours or more a week  Less than 2 hours per week      7.0     20.0  \n\n[8984 rows x 42 columns]",
      "text/html": "<div>\n<style scoped>\n    .dataframe tbody tr th:only-of-type {\n        vertical-align: middle;\n    }\n\n    .dataframe tbody tr th {\n        vertical-align: top;\n    }\n\n    .dataframe thead th {\n        text-align: right;\n    }\n</style>\n<table border=\"1\" class=\"dataframe\">\n  <thead>\n    <tr style=\"text-align: right;\">\n      <th></th>\n      <th>R0000100</th>\n      <th>R0536300</th>\n      <th>R0536401</th>\n      <th>R0536402</th>\n      <th>R1235800</th>\n      <th>R1482600</th>\n      <th>R9793800</th>\n      <th>R9793900</th>\n      <th>R9871900</th>\n      <th>R9872000</th>\n      <th>...</th>\n      <th>U1852700</th>\n      <th>U2166200</th>\n      <th>U2166300</th>\n      <th>U2166400</th>\n      <th>U2166500</th>\n      <th>U2857300</th>\n      <th>U2962800</th>\n      <th>U2962900</th>\n      <th>U2963000</th>\n      <th>Z9063900</th>\n    </tr>\n  </thead>\n  <tbody>\n    <tr>\n      <th>0</th>\n      <td>1.0</td>\n      <td>Female</td>\n      <td>9.0</td>\n      <td>1981.0</td>\n      <td>Cross-sectional</td>\n      <td>Non-Black / Non-Hispanic</td>\n      <td>350.0</td>\n      <td>470.0</td>\n      <td>309.0</td>\n      <td>310.0</td>\n      <td>...</td>\n      <td>NaN</td>\n      <td>NaN</td>\n      <td>NaN</td>\n      <td>NaN</td>\n      <td>NaN</td>\n      <td>NaN</td>\n      <td>NaN</td>\n      <td>NaN</td>\n      <td>NaN</td>\n      <td>52.0</td>\n    </tr>\n    <tr>\n      <th>1</th>\n      <td>2.0</td>\n      <td>Male</td>\n      <td>7.0</td>\n      <td>1982.0</td>\n      <td>Cross-sectional</td>\n      <td>Hispanic</td>\n      <td>460.0</td>\n      <td>440.0</td>\n      <td>217.0</td>\n      <td>280.0</td>\n      <td>...</td>\n      <td>NaN</td>\n      <td>NaN</td>\n      <td>NaN</td>\n      <td>NaN</td>\n      <td>NaN</td>\n      <td>NaN</td>\n      <td>4 to 6 hours a week</td>\n      <td>3 to 10 hours a week</td>\n      <td>6.0</td>\n      <td>0.0</td>\n    </tr>\n    <tr>\n      <th>2</th>\n      <td>3.0</td>\n      <td>Female</td>\n      <td>9.0</td>\n      <td>1983.0</td>\n      <td>Cross-sectional</td>\n      <td>Hispanic</td>\n      <td>NaN</td>\n      <td>NaN</td>\n      <td>NaN</td>\n      <td>NaN</td>\n      <td>...</td>\n      <td>0.0</td>\n      <td>NaN</td>\n      <td>NaN</td>\n      <td>NaN</td>\n      <td>NaN</td>\n      <td>NaN</td>\n      <td>10 hours or more a week</td>\n      <td>3 to 10 hours a week</td>\n      <td>6.0</td>\n      <td>0.0</td>\n    </tr>\n    <tr>\n      <th>3</th>\n      <td>4.0</td>\n      <td>Female</td>\n      <td>2.0</td>\n      <td>1981.0</td>\n      <td>Cross-sectional</td>\n      <td>Hispanic</td>\n      <td>NaN</td>\n      <td>NaN</td>\n      <td>253.0</td>\n      <td>216.0</td>\n      <td>...</td>\n      <td>1.0</td>\n      <td>NaN</td>\n      <td>NaN</td>\n      <td>NaN</td>\n      <td>NaN</td>\n      <td>NaN</td>\n      <td>1 to 3 hours a week</td>\n      <td>3 to 10 hours a week</td>\n      <td>6.0</td>\n      <td>4.0</td>\n    </tr>\n    <tr>\n      <th>4</th>\n      <td>5.0</td>\n      <td>Male</td>\n      <td>10.0</td>\n      <td>1982.0</td>\n      <td>Cross-sectional</td>\n      <td>Hispanic</td>\n      <td>NaN</td>\n      <td>NaN</td>\n      <td>243.0</td>\n      <td>235.0</td>\n      <td>...</td>\n      <td>0.0</td>\n      <td>NaN</td>\n      <td>NaN</td>\n      <td>NaN</td>\n      <td>NaN</td>\n      <td>NaN</td>\n      <td>Less than 1 hour a week</td>\n      <td>3 to 10 hours a week</td>\n      <td>5.0</td>\n      <td>12.0</td>\n    </tr>\n    <tr>\n      <th>...</th>\n      <td>...</td>\n      <td>...</td>\n      <td>...</td>\n      <td>...</td>\n      <td>...</td>\n      <td>...</td>\n      <td>...</td>\n      <td>...</td>\n      <td>...</td>\n      <td>...</td>\n      <td>...</td>\n      <td>...</td>\n      <td>...</td>\n      <td>...</td>\n      <td>...</td>\n      <td>...</td>\n      <td>...</td>\n      <td>...</td>\n      <td>...</td>\n      <td>...</td>\n      <td>...</td>\n    </tr>\n    <tr>\n      <th>8979</th>\n      <td>9018.0</td>\n      <td>Female</td>\n      <td>3.0</td>\n      <td>1980.0</td>\n      <td>Cross-sectional</td>\n      <td>Non-Black / Non-Hispanic</td>\n      <td>NaN</td>\n      <td>NaN</td>\n      <td>NaN</td>\n      <td>NaN</td>\n      <td>...</td>\n      <td>3.0</td>\n      <td>NaN</td>\n      <td>NaN</td>\n      <td>NaN</td>\n      <td>NaN</td>\n      <td>NaN</td>\n      <td>4 to 6 hours a week</td>\n      <td>3 to 10 hours a week</td>\n      <td>4.0</td>\n      <td>49.0</td>\n    </tr>\n    <tr>\n      <th>8980</th>\n      <td>9019.0</td>\n      <td>Male</td>\n      <td>9.0</td>\n      <td>1984.0</td>\n      <td>Oversample</td>\n      <td>Hispanic</td>\n      <td>NaN</td>\n      <td>NaN</td>\n      <td>NaN</td>\n      <td>NaN</td>\n      <td>...</td>\n      <td>4.0</td>\n      <td>NaN</td>\n      <td>NaN</td>\n      <td>NaN</td>\n      <td>NaN</td>\n      <td>NaN</td>\n      <td>Less than 1 hour a week</td>\n      <td>3 to 10 hours a week</td>\n      <td>6.0</td>\n      <td>0.0</td>\n    </tr>\n    <tr>\n      <th>8981</th>\n      <td>9020.0</td>\n      <td>Male</td>\n      <td>7.0</td>\n      <td>1980.0</td>\n      <td>Cross-sectional</td>\n      <td>Non-Black / Non-Hispanic</td>\n      <td>NaN</td>\n      <td>NaN</td>\n      <td>322.0</td>\n      <td>290.0</td>\n      <td>...</td>\n      <td>NaN</td>\n      <td>NaN</td>\n      <td>NaN</td>\n      <td>NaN</td>\n      <td>NaN</td>\n      <td>NaN</td>\n      <td>NaN</td>\n      <td>NaN</td>\n      <td>NaN</td>\n      <td>15.0</td>\n    </tr>\n    <tr>\n      <th>8982</th>\n      <td>9021.0</td>\n      <td>Male</td>\n      <td>7.0</td>\n      <td>1980.0</td>\n      <td>Cross-sectional</td>\n      <td>Non-Black / Non-Hispanic</td>\n      <td>NaN</td>\n      <td>NaN</td>\n      <td>230.0</td>\n      <td>184.0</td>\n      <td>...</td>\n      <td>0.0</td>\n      <td>NaN</td>\n      <td>NaN</td>\n      <td>NaN</td>\n      <td>NaN</td>\n      <td>NaN</td>\n      <td>10 hours or more a week</td>\n      <td>3 to 10 hours a week</td>\n      <td>7.0</td>\n      <td>50.0</td>\n    </tr>\n    <tr>\n      <th>8983</th>\n      <td>9022.0</td>\n      <td>Female</td>\n      <td>1.0</td>\n      <td>1982.0</td>\n      <td>Cross-sectional</td>\n      <td>Non-Black / Non-Hispanic</td>\n      <td>NaN</td>\n      <td>NaN</td>\n      <td>NaN</td>\n      <td>NaN</td>\n      <td>...</td>\n      <td>0.0</td>\n      <td>NaN</td>\n      <td>NaN</td>\n      <td>NaN</td>\n      <td>NaN</td>\n      <td>NaN</td>\n      <td>10 hours or more a week</td>\n      <td>Less than 2 hours per week</td>\n      <td>7.0</td>\n      <td>20.0</td>\n    </tr>\n  </tbody>\n</table>\n<p>8984 rows × 42 columns</p>\n</div>"
     },
     "execution_count": 69,
     "metadata": {},
     "output_type": "execute_result"
    }
   ],
   "source": [
    "# use set_value_label to apply the description meta-data to the data frame\n",
    "nls97spss = pyreadstat.set_value_labels(nls97spss, metaspss, formats_as_category=True)\n",
    "nls97spss"
   ],
   "metadata": {
    "collapsed": false,
    "pycharm": {
     "name": "#%%\n"
    }
   }
  },
  {
   "cell_type": "code",
   "execution_count": 71,
   "outputs": [
    {
     "data": {
      "text/plain": "      PUBID - YTH ID CODE 1997 KEY!SEX (SYMBOL) 1997  \\\n0                          1.0                Female   \n1                          2.0                  Male   \n2                          3.0                Female   \n3                          4.0                Female   \n4                          5.0                  Male   \n...                        ...                   ...   \n8979                    9018.0                Female   \n8980                    9019.0                  Male   \n8981                    9020.0                  Male   \n8982                    9021.0                  Male   \n8983                    9022.0                Female   \n\n      KEY!BDATE M/Y (SYMBOL) 1997  KEY!BDATE M/Y (SYMBOL) 1997  \\\n0                             9.0                       1981.0   \n1                             7.0                       1982.0   \n2                             9.0                       1983.0   \n3                             2.0                       1981.0   \n4                            10.0                       1982.0   \n...                           ...                          ...   \n8979                          3.0                       1980.0   \n8980                          9.0                       1984.0   \n8981                          7.0                       1980.0   \n8982                          7.0                       1980.0   \n8983                          1.0                       1982.0   \n\n     CV_SAMPLE_TYPE 1997 KEY!RACE_ETHNICITY (SYMBOL) 1997  \\\n0        Cross-sectional         Non-Black / Non-Hispanic   \n1        Cross-sectional                         Hispanic   \n2        Cross-sectional                         Hispanic   \n3        Cross-sectional                         Hispanic   \n4        Cross-sectional                         Hispanic   \n...                  ...                              ...   \n8979     Cross-sectional         Non-Black / Non-Hispanic   \n8980          Oversample                         Hispanic   \n8981     Cross-sectional         Non-Black / Non-Hispanic   \n8982     Cross-sectional         Non-Black / Non-Hispanic   \n8983     Cross-sectional         Non-Black / Non-Hispanic   \n\n      TRANS_SAT_VERBAL HSTR  TRANS_SAT_MATH HSTR  TRANS CRD GPA OVERALL HSTR  \\\n0                     350.0                470.0                       309.0   \n1                     460.0                440.0                       217.0   \n2                       NaN                  NaN                         NaN   \n3                       NaN                  NaN                       253.0   \n4                       NaN                  NaN                       243.0   \n...                     ...                  ...                         ...   \n8979                    NaN                  NaN                         NaN   \n8980                    NaN                  NaN                         NaN   \n8981                    NaN                  NaN                       322.0   \n8982                    NaN                  NaN                       230.0   \n8983                    NaN                  NaN                         NaN   \n\n      TRANS CRD GPA ENG HSTR  ...  CV_BIO_CHILD_NR 2017  \\\n0                      310.0  ...                   NaN   \n1                      280.0  ...                   NaN   \n2                        NaN  ...                   0.0   \n3                      216.0  ...                   1.0   \n4                      235.0  ...                   0.0   \n...                      ...  ...                   ...   \n8979                     NaN  ...                   3.0   \n8980                     NaN  ...                   4.0   \n8981                   290.0  ...                   NaN   \n8982                   184.0  ...                   0.0   \n8983                     NaN  ...                   0.0   \n\n      DIPLOMA/DEGREE RCVD? L1 2017 DIPLOMA/DEGREE RCVD? L2 2017  \\\n0                              NaN                          NaN   \n1                              NaN                          NaN   \n2                              NaN                          NaN   \n3                              NaN                          NaN   \n4                              NaN                          NaN   \n...                            ...                          ...   \n8979                           NaN                          NaN   \n8980                           NaN                          NaN   \n8981                           NaN                          NaN   \n8982                           NaN                          NaN   \n8983                           NaN                          NaN   \n\n     DIPLOMA/DEGREE RCVD? L3 2017 DIPLOMA/DEGREE RCVD? L4 2017  \\\n0                             NaN                          NaN   \n1                             NaN                          NaN   \n2                             NaN                          NaN   \n3                             NaN                          NaN   \n4                             NaN                          NaN   \n...                           ...                          ...   \n8979                          NaN                          NaN   \n8980                          NaN                          NaN   \n8981                          NaN                          NaN   \n8982                          NaN                          NaN   \n8983                          NaN                          NaN   \n\n     EST INC WAGES, TIPS PAST YR 2017 HRS/WK R USES A COMPUTER 2017  \\\n0                                 NaN                           NaN   \n1                                 NaN           4 to 6 hours a week   \n2                                 NaN       10 hours or more a week   \n3                                 NaN           1 to 3 hours a week   \n4                                 NaN       Less than 1 hour a week   \n...                               ...                           ...   \n8979                              NaN           4 to 6 hours a week   \n8980                              NaN       Less than 1 hour a week   \n8981                              NaN                           NaN   \n8982                              NaN       10 hours or more a week   \n8983                              NaN       10 hours or more a week   \n\n     HRS/WK R WATCHES TELEVISION 2017 HRS/NIGHT R SLEEPS 2017  \\\n0                                 NaN                     NaN   \n1                3 to 10 hours a week                     6.0   \n2                3 to 10 hours a week                     6.0   \n3                3 to 10 hours a week                     6.0   \n4                3 to 10 hours a week                     5.0   \n...                               ...                     ...   \n8979             3 to 10 hours a week                     4.0   \n8980             3 to 10 hours a week                     6.0   \n8981                              NaN                     NaN   \n8982             3 to 10 hours a week                     7.0   \n8983       Less than 2 hours per week                     7.0   \n\n     CVC_WKSWK_YR_ALL L99  \n0                    52.0  \n1                     0.0  \n2                     0.0  \n3                     4.0  \n4                    12.0  \n...                   ...  \n8979                 49.0  \n8980                  0.0  \n8981                 15.0  \n8982                 50.0  \n8983                 20.0  \n\n[8984 rows x 42 columns]",
      "text/html": "<div>\n<style scoped>\n    .dataframe tbody tr th:only-of-type {\n        vertical-align: middle;\n    }\n\n    .dataframe tbody tr th {\n        vertical-align: top;\n    }\n\n    .dataframe thead th {\n        text-align: right;\n    }\n</style>\n<table border=\"1\" class=\"dataframe\">\n  <thead>\n    <tr style=\"text-align: right;\">\n      <th></th>\n      <th>PUBID - YTH ID CODE 1997</th>\n      <th>KEY!SEX (SYMBOL) 1997</th>\n      <th>KEY!BDATE M/Y (SYMBOL) 1997</th>\n      <th>KEY!BDATE M/Y (SYMBOL) 1997</th>\n      <th>CV_SAMPLE_TYPE 1997</th>\n      <th>KEY!RACE_ETHNICITY (SYMBOL) 1997</th>\n      <th>TRANS_SAT_VERBAL HSTR</th>\n      <th>TRANS_SAT_MATH HSTR</th>\n      <th>TRANS CRD GPA OVERALL HSTR</th>\n      <th>TRANS CRD GPA ENG HSTR</th>\n      <th>...</th>\n      <th>CV_BIO_CHILD_NR 2017</th>\n      <th>DIPLOMA/DEGREE RCVD? L1 2017</th>\n      <th>DIPLOMA/DEGREE RCVD? L2 2017</th>\n      <th>DIPLOMA/DEGREE RCVD? L3 2017</th>\n      <th>DIPLOMA/DEGREE RCVD? L4 2017</th>\n      <th>EST INC WAGES, TIPS PAST YR 2017</th>\n      <th>HRS/WK R USES A COMPUTER 2017</th>\n      <th>HRS/WK R WATCHES TELEVISION 2017</th>\n      <th>HRS/NIGHT R SLEEPS 2017</th>\n      <th>CVC_WKSWK_YR_ALL L99</th>\n    </tr>\n  </thead>\n  <tbody>\n    <tr>\n      <th>0</th>\n      <td>1.0</td>\n      <td>Female</td>\n      <td>9.0</td>\n      <td>1981.0</td>\n      <td>Cross-sectional</td>\n      <td>Non-Black / Non-Hispanic</td>\n      <td>350.0</td>\n      <td>470.0</td>\n      <td>309.0</td>\n      <td>310.0</td>\n      <td>...</td>\n      <td>NaN</td>\n      <td>NaN</td>\n      <td>NaN</td>\n      <td>NaN</td>\n      <td>NaN</td>\n      <td>NaN</td>\n      <td>NaN</td>\n      <td>NaN</td>\n      <td>NaN</td>\n      <td>52.0</td>\n    </tr>\n    <tr>\n      <th>1</th>\n      <td>2.0</td>\n      <td>Male</td>\n      <td>7.0</td>\n      <td>1982.0</td>\n      <td>Cross-sectional</td>\n      <td>Hispanic</td>\n      <td>460.0</td>\n      <td>440.0</td>\n      <td>217.0</td>\n      <td>280.0</td>\n      <td>...</td>\n      <td>NaN</td>\n      <td>NaN</td>\n      <td>NaN</td>\n      <td>NaN</td>\n      <td>NaN</td>\n      <td>NaN</td>\n      <td>4 to 6 hours a week</td>\n      <td>3 to 10 hours a week</td>\n      <td>6.0</td>\n      <td>0.0</td>\n    </tr>\n    <tr>\n      <th>2</th>\n      <td>3.0</td>\n      <td>Female</td>\n      <td>9.0</td>\n      <td>1983.0</td>\n      <td>Cross-sectional</td>\n      <td>Hispanic</td>\n      <td>NaN</td>\n      <td>NaN</td>\n      <td>NaN</td>\n      <td>NaN</td>\n      <td>...</td>\n      <td>0.0</td>\n      <td>NaN</td>\n      <td>NaN</td>\n      <td>NaN</td>\n      <td>NaN</td>\n      <td>NaN</td>\n      <td>10 hours or more a week</td>\n      <td>3 to 10 hours a week</td>\n      <td>6.0</td>\n      <td>0.0</td>\n    </tr>\n    <tr>\n      <th>3</th>\n      <td>4.0</td>\n      <td>Female</td>\n      <td>2.0</td>\n      <td>1981.0</td>\n      <td>Cross-sectional</td>\n      <td>Hispanic</td>\n      <td>NaN</td>\n      <td>NaN</td>\n      <td>253.0</td>\n      <td>216.0</td>\n      <td>...</td>\n      <td>1.0</td>\n      <td>NaN</td>\n      <td>NaN</td>\n      <td>NaN</td>\n      <td>NaN</td>\n      <td>NaN</td>\n      <td>1 to 3 hours a week</td>\n      <td>3 to 10 hours a week</td>\n      <td>6.0</td>\n      <td>4.0</td>\n    </tr>\n    <tr>\n      <th>4</th>\n      <td>5.0</td>\n      <td>Male</td>\n      <td>10.0</td>\n      <td>1982.0</td>\n      <td>Cross-sectional</td>\n      <td>Hispanic</td>\n      <td>NaN</td>\n      <td>NaN</td>\n      <td>243.0</td>\n      <td>235.0</td>\n      <td>...</td>\n      <td>0.0</td>\n      <td>NaN</td>\n      <td>NaN</td>\n      <td>NaN</td>\n      <td>NaN</td>\n      <td>NaN</td>\n      <td>Less than 1 hour a week</td>\n      <td>3 to 10 hours a week</td>\n      <td>5.0</td>\n      <td>12.0</td>\n    </tr>\n    <tr>\n      <th>...</th>\n      <td>...</td>\n      <td>...</td>\n      <td>...</td>\n      <td>...</td>\n      <td>...</td>\n      <td>...</td>\n      <td>...</td>\n      <td>...</td>\n      <td>...</td>\n      <td>...</td>\n      <td>...</td>\n      <td>...</td>\n      <td>...</td>\n      <td>...</td>\n      <td>...</td>\n      <td>...</td>\n      <td>...</td>\n      <td>...</td>\n      <td>...</td>\n      <td>...</td>\n      <td>...</td>\n    </tr>\n    <tr>\n      <th>8979</th>\n      <td>9018.0</td>\n      <td>Female</td>\n      <td>3.0</td>\n      <td>1980.0</td>\n      <td>Cross-sectional</td>\n      <td>Non-Black / Non-Hispanic</td>\n      <td>NaN</td>\n      <td>NaN</td>\n      <td>NaN</td>\n      <td>NaN</td>\n      <td>...</td>\n      <td>3.0</td>\n      <td>NaN</td>\n      <td>NaN</td>\n      <td>NaN</td>\n      <td>NaN</td>\n      <td>NaN</td>\n      <td>4 to 6 hours a week</td>\n      <td>3 to 10 hours a week</td>\n      <td>4.0</td>\n      <td>49.0</td>\n    </tr>\n    <tr>\n      <th>8980</th>\n      <td>9019.0</td>\n      <td>Male</td>\n      <td>9.0</td>\n      <td>1984.0</td>\n      <td>Oversample</td>\n      <td>Hispanic</td>\n      <td>NaN</td>\n      <td>NaN</td>\n      <td>NaN</td>\n      <td>NaN</td>\n      <td>...</td>\n      <td>4.0</td>\n      <td>NaN</td>\n      <td>NaN</td>\n      <td>NaN</td>\n      <td>NaN</td>\n      <td>NaN</td>\n      <td>Less than 1 hour a week</td>\n      <td>3 to 10 hours a week</td>\n      <td>6.0</td>\n      <td>0.0</td>\n    </tr>\n    <tr>\n      <th>8981</th>\n      <td>9020.0</td>\n      <td>Male</td>\n      <td>7.0</td>\n      <td>1980.0</td>\n      <td>Cross-sectional</td>\n      <td>Non-Black / Non-Hispanic</td>\n      <td>NaN</td>\n      <td>NaN</td>\n      <td>322.0</td>\n      <td>290.0</td>\n      <td>...</td>\n      <td>NaN</td>\n      <td>NaN</td>\n      <td>NaN</td>\n      <td>NaN</td>\n      <td>NaN</td>\n      <td>NaN</td>\n      <td>NaN</td>\n      <td>NaN</td>\n      <td>NaN</td>\n      <td>15.0</td>\n    </tr>\n    <tr>\n      <th>8982</th>\n      <td>9021.0</td>\n      <td>Male</td>\n      <td>7.0</td>\n      <td>1980.0</td>\n      <td>Cross-sectional</td>\n      <td>Non-Black / Non-Hispanic</td>\n      <td>NaN</td>\n      <td>NaN</td>\n      <td>230.0</td>\n      <td>184.0</td>\n      <td>...</td>\n      <td>0.0</td>\n      <td>NaN</td>\n      <td>NaN</td>\n      <td>NaN</td>\n      <td>NaN</td>\n      <td>NaN</td>\n      <td>10 hours or more a week</td>\n      <td>3 to 10 hours a week</td>\n      <td>7.0</td>\n      <td>50.0</td>\n    </tr>\n    <tr>\n      <th>8983</th>\n      <td>9022.0</td>\n      <td>Female</td>\n      <td>1.0</td>\n      <td>1982.0</td>\n      <td>Cross-sectional</td>\n      <td>Non-Black / Non-Hispanic</td>\n      <td>NaN</td>\n      <td>NaN</td>\n      <td>NaN</td>\n      <td>NaN</td>\n      <td>...</td>\n      <td>0.0</td>\n      <td>NaN</td>\n      <td>NaN</td>\n      <td>NaN</td>\n      <td>NaN</td>\n      <td>NaN</td>\n      <td>10 hours or more a week</td>\n      <td>Less than 2 hours per week</td>\n      <td>7.0</td>\n      <td>20.0</td>\n    </tr>\n  </tbody>\n</table>\n<p>8984 rows × 42 columns</p>\n</div>"
     },
     "execution_count": 71,
     "metadata": {},
     "output_type": "execute_result"
    }
   ],
   "source": [
    "nls97spss.columns = metaspss.column_labels"
   ],
   "metadata": {
    "collapsed": false,
    "pycharm": {
     "name": "#%%\n"
    }
   }
  },
  {
   "cell_type": "code",
   "execution_count": 72,
   "outputs": [
    {
     "data": {
      "text/plain": "PUBID - YTH ID CODE 1997                        float64\nKEY!SEX (SYMBOL) 1997                          category\nKEY!BDATE M/Y (SYMBOL) 1997                     float64\nKEY!BDATE M/Y (SYMBOL) 1997                     float64\nCV_SAMPLE_TYPE 1997                            category\nKEY!RACE_ETHNICITY (SYMBOL) 1997               category\nTRANS_SAT_VERBAL HSTR                           float64\nTRANS_SAT_MATH HSTR                             float64\nTRANS CRD GPA OVERALL HSTR                      float64\nTRANS CRD GPA ENG HSTR                          float64\nTRANS CRD GPA MATH HSTR                         float64\nTRANS CRD GPA LP SCI HSTR                       float64\nGOVT RESPONSIBILITY - PROVIDE JOBS 2006        category\nGOVT RESPNSBLTY - KEEP PRICES UND CTRL 2006    category\nGOVT RESPNSBLTY - HLTH CARE FOR SICK 2006      category\nGOVT RESPNSBLTY -PROV ELD LIV STAND 2006       category\nGOVT RESPNSBLTY -PROV IND HELP 2006            category\nGOVT RESPNSBLTY -PROV UNEMP LIV STAND 2006     category\nGOVT RESPNSBLTY -REDUCE INC DIFF 2006          category\nGOVT RESPNSBLTY -PROV COLL FIN AID 2006        category\nGOVT RESPNSBLTY -PROV DECENT HOUSING 2006      category\nGOVT RESPNSBLTY -PROTECT ENVIRONMENT 2006      category\nCV_BA_CREDITS L1 2011                           float64\nCV_COLLEGE_TYPE L1 2017                        category\nCV_COLLEGE_TYPE L2 2017                        category\nCV_COLLEGE_TYPE L3 2017                        category\nCV_COLLEGE_TYPE L4 2017                        category\nCV_COLLEGE_TYPE L5 2017                        category\nCV_COLLEGE_TYPE L6 2017                        category\nCV_HGC_EVER 2017                               category\nCV_MARSTAT_COLLAPSED 2017                      category\nCV_BIO_CHILD_HH 2017                            float64\nCV_BIO_CHILD_NR 2017                            float64\nDIPLOMA/DEGREE RCVD? L1 2017                   category\nDIPLOMA/DEGREE RCVD? L2 2017                   category\nDIPLOMA/DEGREE RCVD? L3 2017                   category\nDIPLOMA/DEGREE RCVD? L4 2017                   category\nEST INC WAGES, TIPS PAST YR 2017               category\nHRS/WK R USES A COMPUTER 2017                  category\nHRS/WK R WATCHES TELEVISION 2017               category\nHRS/NIGHT R SLEEPS 2017                         float64\nCVC_WKSWK_YR_ALL L99                            float64\ndtype: object"
     },
     "execution_count": 72,
     "metadata": {},
     "output_type": "execute_result"
    }
   ],
   "source": [
    "nls97spss.dtypes"
   ],
   "metadata": {
    "collapsed": false,
    "pycharm": {
     "name": "#%%\n"
    }
   }
  },
  {
   "cell_type": "code",
   "execution_count": 74,
   "outputs": [
    {
     "name": "stderr",
     "output_type": "stream",
     "text": [
      "C:\\Users\\quocd\\AppData\\Local\\Temp/ipykernel_5736/1169428353.py:2: FutureWarning: The default value of regex will change from True to False in a future version.\n",
      "  str.replace('[^a-z0-9_]', '')\n"
     ]
    },
    {
     "data": {
      "text/plain": "pubid__yth_id_code_1997                        float64\nkeysex_symbol_1997                            category\nkeybdate_my_symbol_1997                        float64\nkeybdate_my_symbol_1997                        float64\ncv_sample_type_1997                           category\nkeyrace_ethnicity_symbol_1997                 category\ntrans_sat_verbal_hstr                          float64\ntrans_sat_math_hstr                            float64\ntrans_crd_gpa_overall_hstr                     float64\ntrans_crd_gpa_eng_hstr                         float64\ntrans_crd_gpa_math_hstr                        float64\ntrans_crd_gpa_lp_sci_hstr                      float64\ngovt_responsibility__provide_jobs_2006        category\ngovt_respnsblty__keep_prices_und_ctrl_2006    category\ngovt_respnsblty__hlth_care_for_sick_2006      category\ngovt_respnsblty_prov_eld_liv_stand_2006       category\ngovt_respnsblty_prov_ind_help_2006            category\ngovt_respnsblty_prov_unemp_liv_stand_2006     category\ngovt_respnsblty_reduce_inc_diff_2006          category\ngovt_respnsblty_prov_coll_fin_aid_2006        category\ngovt_respnsblty_prov_decent_housing_2006      category\ngovt_respnsblty_protect_environment_2006      category\ncv_ba_credits_l1_2011                          float64\ncv_college_type_l1_2017                       category\ncv_college_type_l2_2017                       category\ncv_college_type_l3_2017                       category\ncv_college_type_l4_2017                       category\ncv_college_type_l5_2017                       category\ncv_college_type_l6_2017                       category\ncv_hgc_ever_2017                              category\ncv_marstat_collapsed_2017                     category\ncv_bio_child_hh_2017                           float64\ncv_bio_child_nr_2017                           float64\ndiplomadegree_rcvd_l1_2017                    category\ndiplomadegree_rcvd_l2_2017                    category\ndiplomadegree_rcvd_l3_2017                    category\ndiplomadegree_rcvd_l4_2017                    category\nest_inc_wages_tips_past_yr_2017               category\nhrswk_r_uses_a_computer_2017                  category\nhrswk_r_watches_television_2017               category\nhrsnight_r_sleeps_2017                         float64\ncvc_wkswk_yr_all_l99                           float64\ndtype: object"
     },
     "execution_count": 74,
     "metadata": {},
     "output_type": "execute_result"
    }
   ],
   "source": [
    "nls97spss.columns = nls97spss.columns.str.lower().str.replace(' ', '_').\\\n",
    "                    str.replace('[^a-z0-9_]', '')\n",
    "nls97spss.dtypes"
   ],
   "metadata": {
    "collapsed": false,
    "pycharm": {
     "name": "#%%\n"
    }
   }
  },
  {
   "cell_type": "code",
   "execution_count": 75,
   "outputs": [
    {
     "data": {
      "text/plain": "                        keysex_symbol_1997  keybdate_my_symbol_1997  \\\npubid__yth_id_code_1997                                               \n1.0                                 Female                      9.0   \n2.0                                   Male                      7.0   \n3.0                                 Female                      9.0   \n4.0                                 Female                      2.0   \n5.0                                   Male                     10.0   \n...                                    ...                      ...   \n9018.0                              Female                      3.0   \n9019.0                                Male                      9.0   \n9020.0                                Male                      7.0   \n9021.0                                Male                      7.0   \n9022.0                              Female                      1.0   \n\n                         keybdate_my_symbol_1997 cv_sample_type_1997  \\\npubid__yth_id_code_1997                                                \n1.0                                       1981.0     Cross-sectional   \n2.0                                       1982.0     Cross-sectional   \n3.0                                       1983.0     Cross-sectional   \n4.0                                       1981.0     Cross-sectional   \n5.0                                       1982.0     Cross-sectional   \n...                                          ...                 ...   \n9018.0                                    1980.0     Cross-sectional   \n9019.0                                    1984.0          Oversample   \n9020.0                                    1980.0     Cross-sectional   \n9021.0                                    1980.0     Cross-sectional   \n9022.0                                    1982.0     Cross-sectional   \n\n                        keyrace_ethnicity_symbol_1997  trans_sat_verbal_hstr  \\\npubid__yth_id_code_1997                                                        \n1.0                          Non-Black / Non-Hispanic                  350.0   \n2.0                                          Hispanic                  460.0   \n3.0                                          Hispanic                    NaN   \n4.0                                          Hispanic                    NaN   \n5.0                                          Hispanic                    NaN   \n...                                               ...                    ...   \n9018.0                       Non-Black / Non-Hispanic                    NaN   \n9019.0                                       Hispanic                    NaN   \n9020.0                       Non-Black / Non-Hispanic                    NaN   \n9021.0                       Non-Black / Non-Hispanic                    NaN   \n9022.0                       Non-Black / Non-Hispanic                    NaN   \n\n                         trans_sat_math_hstr  trans_crd_gpa_overall_hstr  \\\npubid__yth_id_code_1997                                                    \n1.0                                    470.0                       309.0   \n2.0                                    440.0                       217.0   \n3.0                                      NaN                         NaN   \n4.0                                      NaN                       253.0   \n5.0                                      NaN                       243.0   \n...                                      ...                         ...   \n9018.0                                   NaN                         NaN   \n9019.0                                   NaN                         NaN   \n9020.0                                   NaN                       322.0   \n9021.0                                   NaN                       230.0   \n9022.0                                   NaN                         NaN   \n\n                         trans_crd_gpa_eng_hstr  trans_crd_gpa_math_hstr  ...  \\\npubid__yth_id_code_1997                                                   ...   \n1.0                                       310.0                    293.0  ...   \n2.0                                       280.0                    114.0  ...   \n3.0                                         NaN                      NaN  ...   \n4.0                                       216.0                    195.0  ...   \n5.0                                       235.0                    293.0  ...   \n...                                         ...                      ...  ...   \n9018.0                                      NaN                      NaN  ...   \n9019.0                                      NaN                      NaN  ...   \n9020.0                                    290.0                    293.0  ...   \n9021.0                                    184.0                    343.0  ...   \n9022.0                                      NaN                      NaN  ...   \n\n                         cv_bio_child_nr_2017 diplomadegree_rcvd_l1_2017  \\\npubid__yth_id_code_1997                                                    \n1.0                                       NaN                        NaN   \n2.0                                       NaN                        NaN   \n3.0                                       0.0                        NaN   \n4.0                                       1.0                        NaN   \n5.0                                       0.0                        NaN   \n...                                       ...                        ...   \n9018.0                                    3.0                        NaN   \n9019.0                                    4.0                        NaN   \n9020.0                                    NaN                        NaN   \n9021.0                                    0.0                        NaN   \n9022.0                                    0.0                        NaN   \n\n                        diplomadegree_rcvd_l2_2017 diplomadegree_rcvd_l3_2017  \\\npubid__yth_id_code_1997                                                         \n1.0                                            NaN                        NaN   \n2.0                                            NaN                        NaN   \n3.0                                            NaN                        NaN   \n4.0                                            NaN                        NaN   \n5.0                                            NaN                        NaN   \n...                                            ...                        ...   \n9018.0                                         NaN                        NaN   \n9019.0                                         NaN                        NaN   \n9020.0                                         NaN                        NaN   \n9021.0                                         NaN                        NaN   \n9022.0                                         NaN                        NaN   \n\n                        diplomadegree_rcvd_l4_2017  \\\npubid__yth_id_code_1997                              \n1.0                                            NaN   \n2.0                                            NaN   \n3.0                                            NaN   \n4.0                                            NaN   \n5.0                                            NaN   \n...                                            ...   \n9018.0                                         NaN   \n9019.0                                         NaN   \n9020.0                                         NaN   \n9021.0                                         NaN   \n9022.0                                         NaN   \n\n                        est_inc_wages_tips_past_yr_2017  \\\npubid__yth_id_code_1997                                   \n1.0                                                 NaN   \n2.0                                                 NaN   \n3.0                                                 NaN   \n4.0                                                 NaN   \n5.0                                                 NaN   \n...                                                 ...   \n9018.0                                              NaN   \n9019.0                                              NaN   \n9020.0                                              NaN   \n9021.0                                              NaN   \n9022.0                                              NaN   \n\n                        hrswk_r_uses_a_computer_2017  \\\npubid__yth_id_code_1997                                \n1.0                                              NaN   \n2.0                              4 to 6 hours a week   \n3.0                          10 hours or more a week   \n4.0                              1 to 3 hours a week   \n5.0                          Less than 1 hour a week   \n...                                              ...   \n9018.0                           4 to 6 hours a week   \n9019.0                       Less than 1 hour a week   \n9020.0                                           NaN   \n9021.0                       10 hours or more a week   \n9022.0                       10 hours or more a week   \n\n                        hrswk_r_watches_television_2017  \\\npubid__yth_id_code_1997                                   \n1.0                                                 NaN   \n2.0                                3 to 10 hours a week   \n3.0                                3 to 10 hours a week   \n4.0                                3 to 10 hours a week   \n5.0                                3 to 10 hours a week   \n...                                                 ...   \n9018.0                             3 to 10 hours a week   \n9019.0                             3 to 10 hours a week   \n9020.0                                              NaN   \n9021.0                             3 to 10 hours a week   \n9022.0                       Less than 2 hours per week   \n\n                        hrsnight_r_sleeps_2017 cvc_wkswk_yr_all_l99  \npubid__yth_id_code_1997                                              \n1.0                                        NaN                 52.0  \n2.0                                        6.0                  0.0  \n3.0                                        6.0                  0.0  \n4.0                                        6.0                  4.0  \n5.0                                        5.0                 12.0  \n...                                        ...                  ...  \n9018.0                                     4.0                 49.0  \n9019.0                                     6.0                  0.0  \n9020.0                                     NaN                 15.0  \n9021.0                                     7.0                 50.0  \n9022.0                                     7.0                 20.0  \n\n[8984 rows x 41 columns]",
      "text/html": "<div>\n<style scoped>\n    .dataframe tbody tr th:only-of-type {\n        vertical-align: middle;\n    }\n\n    .dataframe tbody tr th {\n        vertical-align: top;\n    }\n\n    .dataframe thead th {\n        text-align: right;\n    }\n</style>\n<table border=\"1\" class=\"dataframe\">\n  <thead>\n    <tr style=\"text-align: right;\">\n      <th></th>\n      <th>keysex_symbol_1997</th>\n      <th>keybdate_my_symbol_1997</th>\n      <th>keybdate_my_symbol_1997</th>\n      <th>cv_sample_type_1997</th>\n      <th>keyrace_ethnicity_symbol_1997</th>\n      <th>trans_sat_verbal_hstr</th>\n      <th>trans_sat_math_hstr</th>\n      <th>trans_crd_gpa_overall_hstr</th>\n      <th>trans_crd_gpa_eng_hstr</th>\n      <th>trans_crd_gpa_math_hstr</th>\n      <th>...</th>\n      <th>cv_bio_child_nr_2017</th>\n      <th>diplomadegree_rcvd_l1_2017</th>\n      <th>diplomadegree_rcvd_l2_2017</th>\n      <th>diplomadegree_rcvd_l3_2017</th>\n      <th>diplomadegree_rcvd_l4_2017</th>\n      <th>est_inc_wages_tips_past_yr_2017</th>\n      <th>hrswk_r_uses_a_computer_2017</th>\n      <th>hrswk_r_watches_television_2017</th>\n      <th>hrsnight_r_sleeps_2017</th>\n      <th>cvc_wkswk_yr_all_l99</th>\n    </tr>\n    <tr>\n      <th>pubid__yth_id_code_1997</th>\n      <th></th>\n      <th></th>\n      <th></th>\n      <th></th>\n      <th></th>\n      <th></th>\n      <th></th>\n      <th></th>\n      <th></th>\n      <th></th>\n      <th></th>\n      <th></th>\n      <th></th>\n      <th></th>\n      <th></th>\n      <th></th>\n      <th></th>\n      <th></th>\n      <th></th>\n      <th></th>\n      <th></th>\n    </tr>\n  </thead>\n  <tbody>\n    <tr>\n      <th>1.0</th>\n      <td>Female</td>\n      <td>9.0</td>\n      <td>1981.0</td>\n      <td>Cross-sectional</td>\n      <td>Non-Black / Non-Hispanic</td>\n      <td>350.0</td>\n      <td>470.0</td>\n      <td>309.0</td>\n      <td>310.0</td>\n      <td>293.0</td>\n      <td>...</td>\n      <td>NaN</td>\n      <td>NaN</td>\n      <td>NaN</td>\n      <td>NaN</td>\n      <td>NaN</td>\n      <td>NaN</td>\n      <td>NaN</td>\n      <td>NaN</td>\n      <td>NaN</td>\n      <td>52.0</td>\n    </tr>\n    <tr>\n      <th>2.0</th>\n      <td>Male</td>\n      <td>7.0</td>\n      <td>1982.0</td>\n      <td>Cross-sectional</td>\n      <td>Hispanic</td>\n      <td>460.0</td>\n      <td>440.0</td>\n      <td>217.0</td>\n      <td>280.0</td>\n      <td>114.0</td>\n      <td>...</td>\n      <td>NaN</td>\n      <td>NaN</td>\n      <td>NaN</td>\n      <td>NaN</td>\n      <td>NaN</td>\n      <td>NaN</td>\n      <td>4 to 6 hours a week</td>\n      <td>3 to 10 hours a week</td>\n      <td>6.0</td>\n      <td>0.0</td>\n    </tr>\n    <tr>\n      <th>3.0</th>\n      <td>Female</td>\n      <td>9.0</td>\n      <td>1983.0</td>\n      <td>Cross-sectional</td>\n      <td>Hispanic</td>\n      <td>NaN</td>\n      <td>NaN</td>\n      <td>NaN</td>\n      <td>NaN</td>\n      <td>NaN</td>\n      <td>...</td>\n      <td>0.0</td>\n      <td>NaN</td>\n      <td>NaN</td>\n      <td>NaN</td>\n      <td>NaN</td>\n      <td>NaN</td>\n      <td>10 hours or more a week</td>\n      <td>3 to 10 hours a week</td>\n      <td>6.0</td>\n      <td>0.0</td>\n    </tr>\n    <tr>\n      <th>4.0</th>\n      <td>Female</td>\n      <td>2.0</td>\n      <td>1981.0</td>\n      <td>Cross-sectional</td>\n      <td>Hispanic</td>\n      <td>NaN</td>\n      <td>NaN</td>\n      <td>253.0</td>\n      <td>216.0</td>\n      <td>195.0</td>\n      <td>...</td>\n      <td>1.0</td>\n      <td>NaN</td>\n      <td>NaN</td>\n      <td>NaN</td>\n      <td>NaN</td>\n      <td>NaN</td>\n      <td>1 to 3 hours a week</td>\n      <td>3 to 10 hours a week</td>\n      <td>6.0</td>\n      <td>4.0</td>\n    </tr>\n    <tr>\n      <th>5.0</th>\n      <td>Male</td>\n      <td>10.0</td>\n      <td>1982.0</td>\n      <td>Cross-sectional</td>\n      <td>Hispanic</td>\n      <td>NaN</td>\n      <td>NaN</td>\n      <td>243.0</td>\n      <td>235.0</td>\n      <td>293.0</td>\n      <td>...</td>\n      <td>0.0</td>\n      <td>NaN</td>\n      <td>NaN</td>\n      <td>NaN</td>\n      <td>NaN</td>\n      <td>NaN</td>\n      <td>Less than 1 hour a week</td>\n      <td>3 to 10 hours a week</td>\n      <td>5.0</td>\n      <td>12.0</td>\n    </tr>\n    <tr>\n      <th>...</th>\n      <td>...</td>\n      <td>...</td>\n      <td>...</td>\n      <td>...</td>\n      <td>...</td>\n      <td>...</td>\n      <td>...</td>\n      <td>...</td>\n      <td>...</td>\n      <td>...</td>\n      <td>...</td>\n      <td>...</td>\n      <td>...</td>\n      <td>...</td>\n      <td>...</td>\n      <td>...</td>\n      <td>...</td>\n      <td>...</td>\n      <td>...</td>\n      <td>...</td>\n      <td>...</td>\n    </tr>\n    <tr>\n      <th>9018.0</th>\n      <td>Female</td>\n      <td>3.0</td>\n      <td>1980.0</td>\n      <td>Cross-sectional</td>\n      <td>Non-Black / Non-Hispanic</td>\n      <td>NaN</td>\n      <td>NaN</td>\n      <td>NaN</td>\n      <td>NaN</td>\n      <td>NaN</td>\n      <td>...</td>\n      <td>3.0</td>\n      <td>NaN</td>\n      <td>NaN</td>\n      <td>NaN</td>\n      <td>NaN</td>\n      <td>NaN</td>\n      <td>4 to 6 hours a week</td>\n      <td>3 to 10 hours a week</td>\n      <td>4.0</td>\n      <td>49.0</td>\n    </tr>\n    <tr>\n      <th>9019.0</th>\n      <td>Male</td>\n      <td>9.0</td>\n      <td>1984.0</td>\n      <td>Oversample</td>\n      <td>Hispanic</td>\n      <td>NaN</td>\n      <td>NaN</td>\n      <td>NaN</td>\n      <td>NaN</td>\n      <td>NaN</td>\n      <td>...</td>\n      <td>4.0</td>\n      <td>NaN</td>\n      <td>NaN</td>\n      <td>NaN</td>\n      <td>NaN</td>\n      <td>NaN</td>\n      <td>Less than 1 hour a week</td>\n      <td>3 to 10 hours a week</td>\n      <td>6.0</td>\n      <td>0.0</td>\n    </tr>\n    <tr>\n      <th>9020.0</th>\n      <td>Male</td>\n      <td>7.0</td>\n      <td>1980.0</td>\n      <td>Cross-sectional</td>\n      <td>Non-Black / Non-Hispanic</td>\n      <td>NaN</td>\n      <td>NaN</td>\n      <td>322.0</td>\n      <td>290.0</td>\n      <td>293.0</td>\n      <td>...</td>\n      <td>NaN</td>\n      <td>NaN</td>\n      <td>NaN</td>\n      <td>NaN</td>\n      <td>NaN</td>\n      <td>NaN</td>\n      <td>NaN</td>\n      <td>NaN</td>\n      <td>NaN</td>\n      <td>15.0</td>\n    </tr>\n    <tr>\n      <th>9021.0</th>\n      <td>Male</td>\n      <td>7.0</td>\n      <td>1980.0</td>\n      <td>Cross-sectional</td>\n      <td>Non-Black / Non-Hispanic</td>\n      <td>NaN</td>\n      <td>NaN</td>\n      <td>230.0</td>\n      <td>184.0</td>\n      <td>343.0</td>\n      <td>...</td>\n      <td>0.0</td>\n      <td>NaN</td>\n      <td>NaN</td>\n      <td>NaN</td>\n      <td>NaN</td>\n      <td>NaN</td>\n      <td>10 hours or more a week</td>\n      <td>3 to 10 hours a week</td>\n      <td>7.0</td>\n      <td>50.0</td>\n    </tr>\n    <tr>\n      <th>9022.0</th>\n      <td>Female</td>\n      <td>1.0</td>\n      <td>1982.0</td>\n      <td>Cross-sectional</td>\n      <td>Non-Black / Non-Hispanic</td>\n      <td>NaN</td>\n      <td>NaN</td>\n      <td>NaN</td>\n      <td>NaN</td>\n      <td>NaN</td>\n      <td>...</td>\n      <td>0.0</td>\n      <td>NaN</td>\n      <td>NaN</td>\n      <td>NaN</td>\n      <td>NaN</td>\n      <td>NaN</td>\n      <td>10 hours or more a week</td>\n      <td>Less than 2 hours per week</td>\n      <td>7.0</td>\n      <td>20.0</td>\n    </tr>\n  </tbody>\n</table>\n<p>8984 rows × 41 columns</p>\n</div>"
     },
     "execution_count": 75,
     "metadata": {},
     "output_type": "execute_result"
    }
   ],
   "source": [
    "nls97spss.set_index('pubid__yth_id_code_1997', inplace=True)\n",
    "nls97spss"
   ],
   "metadata": {
    "collapsed": false,
    "pycharm": {
     "name": "#%%\n"
    }
   }
  },
  {
   "cell_type": "markdown",
   "source": [
    "## Stata"
   ],
   "metadata": {
    "collapsed": false,
    "pycharm": {
     "name": "#%% md\n"
    }
   }
  },
  {
   "cell_type": "code",
   "execution_count": null,
   "outputs": [],
   "source": [
    "nls97stata, metastata = pyreadstat.read_dta('data/nls97.dta', apply_value_formats=True,\n",
    "                                            formats_as_category=True)"
   ],
   "metadata": {
    "collapsed": false,
    "pycharm": {
     "name": "#%%\n"
    }
   }
  },
  {
   "cell_type": "code",
   "execution_count": 79,
   "outputs": [
    {
     "name": "stderr",
     "output_type": "stream",
     "text": [
      "C:\\Users\\quocd\\AppData\\Local\\Temp/ipykernel_5736/1477588639.py:3: FutureWarning: The default value of regex will change from True to False in a future version.\n",
      "  str.replace('[^a-z0-9_]', '')\n"
     ]
    },
    {
     "data": {
      "text/plain": "pubid__yth_id_code_1997                        float64\nkeysex_symbol_1997                            category\nkeybdate_my_symbol_1997                        float64\nkeybdate_my_symbol_1997                        float64\ncv_sample_type_1997                           category\nkeyrace_ethnicity_symbol_1997                 category\ntrans_sat_verbal_hstr                          float64\ntrans_sat_math_hstr                            float64\ntrans_crd_gpa_overall_hstr                     float64\ntrans_crd_gpa_eng_hstr                         float64\ntrans_crd_gpa_math_hstr                        float64\ntrans_crd_gpa_lp_sci_hstr                      float64\ngovt_responsibility__provide_jobs_2006        category\ngovt_respnsblty__keep_prices_und_ctrl_2006    category\ngovt_respnsblty__hlth_care_for_sick_2006      category\ngovt_respnsblty_prov_eld_liv_stand_2006       category\ngovt_respnsblty_prov_ind_help_2006            category\ngovt_respnsblty_prov_unemp_liv_stand_2006     category\ngovt_respnsblty_reduce_inc_diff_2006          category\ngovt_respnsblty_prov_coll_fin_aid_2006        category\ngovt_respnsblty_prov_decent_housing_2006      category\ngovt_respnsblty_protect_environment_2006      category\ncv_ba_credits_l1_2011                          float64\ncv_college_type_l1_2017                       category\ncv_college_type_l2_2017                       category\ncv_college_type_l3_2017                       category\ncv_college_type_l4_2017                       category\ncv_college_type_l5_2017                       category\ncv_college_type_l6_2017                       category\ncv_hgc_ever_2017                              category\ncv_marstat_collapsed_2017                     category\ncv_bio_child_hh_2017                           float64\ncv_bio_child_nr_2017                           float64\ndiplomadegree_rcvd_l1_2017                    category\ndiplomadegree_rcvd_l2_2017                    category\ndiplomadegree_rcvd_l3_2017                    category\ndiplomadegree_rcvd_l4_2017                    category\nest_inc_wages_tips_past_yr_2017               category\nhrswk_r_uses_a_computer_2017                  category\nhrswk_r_watches_television_2017               category\nhrsnight_r_sleeps_2017                         float64\ncvc_wkswk_yr_all_l99                           float64\ndtype: object"
     },
     "execution_count": 79,
     "metadata": {},
     "output_type": "execute_result"
    }
   ],
   "source": [
    "nls97stata.columns = metastata.column_labels\n",
    "nls97stata.columns = nls97stata.columns.str.lower().str.replace(' ', '_').\\\n",
    "                                        str.replace('[^a-z0-9_]', '')\n",
    "nls97stata.dtypes"
   ],
   "metadata": {
    "collapsed": false,
    "pycharm": {
     "name": "#%%\n"
    }
   }
  },
  {
   "cell_type": "code",
   "execution_count": 80,
   "outputs": [
    {
     "data": {
      "text/plain": "   pubid__yth_id_code_1997 keysex_symbol_1997  keybdate_my_symbol_1997  \\\n0                      1.0             Female                      9.0   \n1                      2.0               Male                      7.0   \n2                      3.0             Female                      9.0   \n3                      4.0             Female                      2.0   \n4                      5.0               Male                     10.0   \n\n   keybdate_my_symbol_1997 cv_sample_type_1997 keyrace_ethnicity_symbol_1997  \\\n0                   1981.0     Cross-sectional      Non-Black / Non-Hispanic   \n1                   1982.0     Cross-sectional                      Hispanic   \n2                   1983.0     Cross-sectional                      Hispanic   \n3                   1981.0     Cross-sectional                      Hispanic   \n4                   1982.0     Cross-sectional                      Hispanic   \n\n   trans_sat_verbal_hstr  trans_sat_math_hstr  trans_crd_gpa_overall_hstr  \\\n0                  350.0                470.0                       309.0   \n1                  460.0                440.0                       217.0   \n2                   -4.0                 -4.0                        -4.0   \n3                   -4.0                 -4.0                       253.0   \n4                   -4.0                 -4.0                       243.0   \n\n   trans_crd_gpa_eng_hstr  ...  cv_bio_child_nr_2017  \\\n0                   310.0  ...                  -5.0   \n1                   280.0  ...                  -4.0   \n2                    -4.0  ...                   0.0   \n3                   216.0  ...                   1.0   \n4                   235.0  ...                   0.0   \n\n   diplomadegree_rcvd_l1_2017 diplomadegree_rcvd_l2_2017  \\\n0                        -5.0                       -5.0   \n1                        -4.0                       -4.0   \n2                        -4.0                       -4.0   \n3                        -4.0                       -4.0   \n4                        -4.0                       -4.0   \n\n  diplomadegree_rcvd_l3_2017 diplomadegree_rcvd_l4_2017  \\\n0                       -5.0                       -5.0   \n1                       -4.0                       -4.0   \n2                       -4.0                       -4.0   \n3                       -4.0                       -4.0   \n4                       -4.0                       -4.0   \n\n  est_inc_wages_tips_past_yr_2017 hrswk_r_uses_a_computer_2017  \\\n0                            -5.0                         -5.0   \n1                            -4.0          4 to 6 hours a week   \n2                            -1.0      10 hours or more a week   \n3                            -4.0          1 to 3 hours a week   \n4                            -4.0      Less than 1 hour a week   \n\n  hrswk_r_watches_television_2017 hrsnight_r_sleeps_2017 cvc_wkswk_yr_all_l99  \n0                            -5.0                   -5.0                 52.0  \n1            3 to 10 hours a week                    6.0                  0.0  \n2            3 to 10 hours a week                    6.0                  0.0  \n3            3 to 10 hours a week                    6.0                  4.0  \n4            3 to 10 hours a week                    5.0                 12.0  \n\n[5 rows x 42 columns]",
      "text/html": "<div>\n<style scoped>\n    .dataframe tbody tr th:only-of-type {\n        vertical-align: middle;\n    }\n\n    .dataframe tbody tr th {\n        vertical-align: top;\n    }\n\n    .dataframe thead th {\n        text-align: right;\n    }\n</style>\n<table border=\"1\" class=\"dataframe\">\n  <thead>\n    <tr style=\"text-align: right;\">\n      <th></th>\n      <th>pubid__yth_id_code_1997</th>\n      <th>keysex_symbol_1997</th>\n      <th>keybdate_my_symbol_1997</th>\n      <th>keybdate_my_symbol_1997</th>\n      <th>cv_sample_type_1997</th>\n      <th>keyrace_ethnicity_symbol_1997</th>\n      <th>trans_sat_verbal_hstr</th>\n      <th>trans_sat_math_hstr</th>\n      <th>trans_crd_gpa_overall_hstr</th>\n      <th>trans_crd_gpa_eng_hstr</th>\n      <th>...</th>\n      <th>cv_bio_child_nr_2017</th>\n      <th>diplomadegree_rcvd_l1_2017</th>\n      <th>diplomadegree_rcvd_l2_2017</th>\n      <th>diplomadegree_rcvd_l3_2017</th>\n      <th>diplomadegree_rcvd_l4_2017</th>\n      <th>est_inc_wages_tips_past_yr_2017</th>\n      <th>hrswk_r_uses_a_computer_2017</th>\n      <th>hrswk_r_watches_television_2017</th>\n      <th>hrsnight_r_sleeps_2017</th>\n      <th>cvc_wkswk_yr_all_l99</th>\n    </tr>\n  </thead>\n  <tbody>\n    <tr>\n      <th>0</th>\n      <td>1.0</td>\n      <td>Female</td>\n      <td>9.0</td>\n      <td>1981.0</td>\n      <td>Cross-sectional</td>\n      <td>Non-Black / Non-Hispanic</td>\n      <td>350.0</td>\n      <td>470.0</td>\n      <td>309.0</td>\n      <td>310.0</td>\n      <td>...</td>\n      <td>-5.0</td>\n      <td>-5.0</td>\n      <td>-5.0</td>\n      <td>-5.0</td>\n      <td>-5.0</td>\n      <td>-5.0</td>\n      <td>-5.0</td>\n      <td>-5.0</td>\n      <td>-5.0</td>\n      <td>52.0</td>\n    </tr>\n    <tr>\n      <th>1</th>\n      <td>2.0</td>\n      <td>Male</td>\n      <td>7.0</td>\n      <td>1982.0</td>\n      <td>Cross-sectional</td>\n      <td>Hispanic</td>\n      <td>460.0</td>\n      <td>440.0</td>\n      <td>217.0</td>\n      <td>280.0</td>\n      <td>...</td>\n      <td>-4.0</td>\n      <td>-4.0</td>\n      <td>-4.0</td>\n      <td>-4.0</td>\n      <td>-4.0</td>\n      <td>-4.0</td>\n      <td>4 to 6 hours a week</td>\n      <td>3 to 10 hours a week</td>\n      <td>6.0</td>\n      <td>0.0</td>\n    </tr>\n    <tr>\n      <th>2</th>\n      <td>3.0</td>\n      <td>Female</td>\n      <td>9.0</td>\n      <td>1983.0</td>\n      <td>Cross-sectional</td>\n      <td>Hispanic</td>\n      <td>-4.0</td>\n      <td>-4.0</td>\n      <td>-4.0</td>\n      <td>-4.0</td>\n      <td>...</td>\n      <td>0.0</td>\n      <td>-4.0</td>\n      <td>-4.0</td>\n      <td>-4.0</td>\n      <td>-4.0</td>\n      <td>-1.0</td>\n      <td>10 hours or more a week</td>\n      <td>3 to 10 hours a week</td>\n      <td>6.0</td>\n      <td>0.0</td>\n    </tr>\n    <tr>\n      <th>3</th>\n      <td>4.0</td>\n      <td>Female</td>\n      <td>2.0</td>\n      <td>1981.0</td>\n      <td>Cross-sectional</td>\n      <td>Hispanic</td>\n      <td>-4.0</td>\n      <td>-4.0</td>\n      <td>253.0</td>\n      <td>216.0</td>\n      <td>...</td>\n      <td>1.0</td>\n      <td>-4.0</td>\n      <td>-4.0</td>\n      <td>-4.0</td>\n      <td>-4.0</td>\n      <td>-4.0</td>\n      <td>1 to 3 hours a week</td>\n      <td>3 to 10 hours a week</td>\n      <td>6.0</td>\n      <td>4.0</td>\n    </tr>\n    <tr>\n      <th>4</th>\n      <td>5.0</td>\n      <td>Male</td>\n      <td>10.0</td>\n      <td>1982.0</td>\n      <td>Cross-sectional</td>\n      <td>Hispanic</td>\n      <td>-4.0</td>\n      <td>-4.0</td>\n      <td>243.0</td>\n      <td>235.0</td>\n      <td>...</td>\n      <td>0.0</td>\n      <td>-4.0</td>\n      <td>-4.0</td>\n      <td>-4.0</td>\n      <td>-4.0</td>\n      <td>-4.0</td>\n      <td>Less than 1 hour a week</td>\n      <td>3 to 10 hours a week</td>\n      <td>5.0</td>\n      <td>12.0</td>\n    </tr>\n  </tbody>\n</table>\n<p>5 rows × 42 columns</p>\n</div>"
     },
     "execution_count": 80,
     "metadata": {},
     "output_type": "execute_result"
    }
   ],
   "source": [
    "nls97stata.head()"
   ],
   "metadata": {
    "collapsed": false,
    "pycharm": {
     "name": "#%%\n"
    }
   }
  },
  {
   "cell_type": "code",
   "execution_count": 81,
   "outputs": [
    {
     "data": {
      "text/plain": "-5.0                        1425\n-4.0                        5665\n-2.0                          56\n-1.0                           5\nDefinitely should be         454\nDefinitely should not be     300\nProbably should be           617\nProbably should not be       462\nName: govt_responsibility__provide_jobs_2006, dtype: int64"
     },
     "execution_count": 81,
     "metadata": {},
     "output_type": "execute_result"
    }
   ],
   "source": [
    "nls97stata.govt_responsibility__provide_jobs_2006.value_counts(sort=False)"
   ],
   "metadata": {
    "collapsed": false,
    "pycharm": {
     "name": "#%%\n"
    }
   }
  },
  {
   "cell_type": "code",
   "execution_count": 82,
   "outputs": [
    {
     "name": "stderr",
     "output_type": "stream",
     "text": [
      "C:\\Users\\quocd\\AppData\\Local\\Temp/ipykernel_5736/287655406.py:1: FutureWarning: Dropping of nuisance columns in DataFrame reductions (with 'numeric_only=None') is deprecated; in a future version this will raise TypeError.  Select only valid columns before calling the reduction.\n",
      "  nls97stata.min()\n"
     ]
    },
    {
     "data": {
      "text/plain": "pubid__yth_id_code_1997          1.0\nkeybdate_my_symbol_1997          1.0\nkeybdate_my_symbol_1997       1980.0\ntrans_sat_verbal_hstr           -4.0\ntrans_sat_math_hstr             -4.0\ntrans_crd_gpa_overall_hstr      -9.0\ntrans_crd_gpa_eng_hstr          -9.0\ntrans_crd_gpa_math_hstr         -9.0\ntrans_crd_gpa_lp_sci_hstr       -9.0\ncv_ba_credits_l1_2011           -5.0\ncv_bio_child_hh_2017            -5.0\ncv_bio_child_nr_2017            -5.0\nhrsnight_r_sleeps_2017          -5.0\ncvc_wkswk_yr_all_l99            -4.0\ndtype: float64"
     },
     "execution_count": 82,
     "metadata": {},
     "output_type": "execute_result"
    }
   ],
   "source": [
    "nls97stata.min()"
   ],
   "metadata": {
    "collapsed": false,
    "pycharm": {
     "name": "#%%\n"
    }
   }
  },
  {
   "cell_type": "code",
   "execution_count": 83,
   "outputs": [
    {
     "name": "stderr",
     "output_type": "stream",
     "text": [
      "C:\\Users\\quocd\\AppData\\Local\\Temp/ipykernel_5736/1365568892.py:2: FutureWarning: Dropping of nuisance columns in DataFrame reductions (with 'numeric_only=None') is deprecated; in a future version this will raise TypeError.  Select only valid columns before calling the reduction.\n",
      "  nls97stata.min()\n"
     ]
    },
    {
     "data": {
      "text/plain": "pubid__yth_id_code_1997          1.0\nkeybdate_my_symbol_1997          1.0\nkeybdate_my_symbol_1997       1980.0\ntrans_sat_verbal_hstr           14.0\ntrans_sat_math_hstr              7.0\ntrans_crd_gpa_overall_hstr      10.0\ntrans_crd_gpa_eng_hstr           0.0\ntrans_crd_gpa_math_hstr          0.0\ntrans_crd_gpa_lp_sci_hstr        0.0\ncv_ba_credits_l1_2011            0.0\ncv_bio_child_hh_2017             0.0\ncv_bio_child_nr_2017             0.0\nhrsnight_r_sleeps_2017           0.0\ncvc_wkswk_yr_all_l99             0.0\ndtype: float64"
     },
     "execution_count": 83,
     "metadata": {},
     "output_type": "execute_result"
    }
   ],
   "source": [
    "nls97stata.replace(list(range(-9, 0)), np.nan, inplace=True)\n",
    "nls97stata.min()"
   ],
   "metadata": {
    "collapsed": false,
    "pycharm": {
     "name": "#%%\n"
    }
   }
  },
  {
   "cell_type": "code",
   "execution_count": 84,
   "outputs": [
    {
     "data": {
      "text/plain": "                        keysex_symbol_1997  keybdate_my_symbol_1997  \\\npubid__yth_id_code_1997                                               \n1.0                                 Female                      9.0   \n2.0                                   Male                      7.0   \n3.0                                 Female                      9.0   \n4.0                                 Female                      2.0   \n5.0                                   Male                     10.0   \n...                                    ...                      ...   \n9018.0                              Female                      3.0   \n9019.0                                Male                      9.0   \n9020.0                                Male                      7.0   \n9021.0                                Male                      7.0   \n9022.0                              Female                      1.0   \n\n                         keybdate_my_symbol_1997 cv_sample_type_1997  \\\npubid__yth_id_code_1997                                                \n1.0                                       1981.0     Cross-sectional   \n2.0                                       1982.0     Cross-sectional   \n3.0                                       1983.0     Cross-sectional   \n4.0                                       1981.0     Cross-sectional   \n5.0                                       1982.0     Cross-sectional   \n...                                          ...                 ...   \n9018.0                                    1980.0     Cross-sectional   \n9019.0                                    1984.0          Oversample   \n9020.0                                    1980.0     Cross-sectional   \n9021.0                                    1980.0     Cross-sectional   \n9022.0                                    1982.0     Cross-sectional   \n\n                        keyrace_ethnicity_symbol_1997  trans_sat_verbal_hstr  \\\npubid__yth_id_code_1997                                                        \n1.0                          Non-Black / Non-Hispanic                  350.0   \n2.0                                          Hispanic                  460.0   \n3.0                                          Hispanic                    NaN   \n4.0                                          Hispanic                    NaN   \n5.0                                          Hispanic                    NaN   \n...                                               ...                    ...   \n9018.0                       Non-Black / Non-Hispanic                    NaN   \n9019.0                                       Hispanic                    NaN   \n9020.0                       Non-Black / Non-Hispanic                    NaN   \n9021.0                       Non-Black / Non-Hispanic                    NaN   \n9022.0                       Non-Black / Non-Hispanic                    NaN   \n\n                         trans_sat_math_hstr  trans_crd_gpa_overall_hstr  \\\npubid__yth_id_code_1997                                                    \n1.0                                    470.0                       309.0   \n2.0                                    440.0                       217.0   \n3.0                                      NaN                         NaN   \n4.0                                      NaN                       253.0   \n5.0                                      NaN                       243.0   \n...                                      ...                         ...   \n9018.0                                   NaN                         NaN   \n9019.0                                   NaN                         NaN   \n9020.0                                   NaN                       322.0   \n9021.0                                   NaN                       230.0   \n9022.0                                   NaN                         NaN   \n\n                         trans_crd_gpa_eng_hstr  trans_crd_gpa_math_hstr  ...  \\\npubid__yth_id_code_1997                                                   ...   \n1.0                                       310.0                    293.0  ...   \n2.0                                       280.0                    114.0  ...   \n3.0                                         NaN                      NaN  ...   \n4.0                                       216.0                    195.0  ...   \n5.0                                       235.0                    293.0  ...   \n...                                         ...                      ...  ...   \n9018.0                                      NaN                      NaN  ...   \n9019.0                                      NaN                      NaN  ...   \n9020.0                                    290.0                    293.0  ...   \n9021.0                                    184.0                    343.0  ...   \n9022.0                                      NaN                      NaN  ...   \n\n                         cv_bio_child_nr_2017 diplomadegree_rcvd_l1_2017  \\\npubid__yth_id_code_1997                                                    \n1.0                                       NaN                        NaN   \n2.0                                       NaN                        NaN   \n3.0                                       0.0                        NaN   \n4.0                                       1.0                        NaN   \n5.0                                       0.0                        NaN   \n...                                       ...                        ...   \n9018.0                                    3.0                        NaN   \n9019.0                                    4.0                        NaN   \n9020.0                                    NaN                        NaN   \n9021.0                                    0.0                        NaN   \n9022.0                                    0.0                        NaN   \n\n                        diplomadegree_rcvd_l2_2017 diplomadegree_rcvd_l3_2017  \\\npubid__yth_id_code_1997                                                         \n1.0                                            NaN                        NaN   \n2.0                                            NaN                        NaN   \n3.0                                            NaN                        NaN   \n4.0                                            NaN                        NaN   \n5.0                                            NaN                        NaN   \n...                                            ...                        ...   \n9018.0                                         NaN                        NaN   \n9019.0                                         NaN                        NaN   \n9020.0                                         NaN                        NaN   \n9021.0                                         NaN                        NaN   \n9022.0                                         NaN                        NaN   \n\n                        diplomadegree_rcvd_l4_2017  \\\npubid__yth_id_code_1997                              \n1.0                                            NaN   \n2.0                                            NaN   \n3.0                                            NaN   \n4.0                                            NaN   \n5.0                                            NaN   \n...                                            ...   \n9018.0                                         NaN   \n9019.0                                         NaN   \n9020.0                                         NaN   \n9021.0                                         NaN   \n9022.0                                         NaN   \n\n                        est_inc_wages_tips_past_yr_2017  \\\npubid__yth_id_code_1997                                   \n1.0                                                 NaN   \n2.0                                                 NaN   \n3.0                                                 NaN   \n4.0                                                 NaN   \n5.0                                                 NaN   \n...                                                 ...   \n9018.0                                              NaN   \n9019.0                                              NaN   \n9020.0                                              NaN   \n9021.0                                              NaN   \n9022.0                                              NaN   \n\n                        hrswk_r_uses_a_computer_2017  \\\npubid__yth_id_code_1997                                \n1.0                                              NaN   \n2.0                              4 to 6 hours a week   \n3.0                          10 hours or more a week   \n4.0                              1 to 3 hours a week   \n5.0                          Less than 1 hour a week   \n...                                              ...   \n9018.0                           4 to 6 hours a week   \n9019.0                       Less than 1 hour a week   \n9020.0                                           NaN   \n9021.0                       10 hours or more a week   \n9022.0                       10 hours or more a week   \n\n                        hrswk_r_watches_television_2017  \\\npubid__yth_id_code_1997                                   \n1.0                                                 NaN   \n2.0                                3 to 10 hours a week   \n3.0                                3 to 10 hours a week   \n4.0                                3 to 10 hours a week   \n5.0                                3 to 10 hours a week   \n...                                                 ...   \n9018.0                             3 to 10 hours a week   \n9019.0                             3 to 10 hours a week   \n9020.0                                              NaN   \n9021.0                             3 to 10 hours a week   \n9022.0                       Less than 2 hours per week   \n\n                        hrsnight_r_sleeps_2017 cvc_wkswk_yr_all_l99  \npubid__yth_id_code_1997                                              \n1.0                                        NaN                 52.0  \n2.0                                        6.0                  0.0  \n3.0                                        6.0                  0.0  \n4.0                                        6.0                  4.0  \n5.0                                        5.0                 12.0  \n...                                        ...                  ...  \n9018.0                                     4.0                 49.0  \n9019.0                                     6.0                  0.0  \n9020.0                                     NaN                 15.0  \n9021.0                                     7.0                 50.0  \n9022.0                                     7.0                 20.0  \n\n[8984 rows x 41 columns]",
      "text/html": "<div>\n<style scoped>\n    .dataframe tbody tr th:only-of-type {\n        vertical-align: middle;\n    }\n\n    .dataframe tbody tr th {\n        vertical-align: top;\n    }\n\n    .dataframe thead th {\n        text-align: right;\n    }\n</style>\n<table border=\"1\" class=\"dataframe\">\n  <thead>\n    <tr style=\"text-align: right;\">\n      <th></th>\n      <th>keysex_symbol_1997</th>\n      <th>keybdate_my_symbol_1997</th>\n      <th>keybdate_my_symbol_1997</th>\n      <th>cv_sample_type_1997</th>\n      <th>keyrace_ethnicity_symbol_1997</th>\n      <th>trans_sat_verbal_hstr</th>\n      <th>trans_sat_math_hstr</th>\n      <th>trans_crd_gpa_overall_hstr</th>\n      <th>trans_crd_gpa_eng_hstr</th>\n      <th>trans_crd_gpa_math_hstr</th>\n      <th>...</th>\n      <th>cv_bio_child_nr_2017</th>\n      <th>diplomadegree_rcvd_l1_2017</th>\n      <th>diplomadegree_rcvd_l2_2017</th>\n      <th>diplomadegree_rcvd_l3_2017</th>\n      <th>diplomadegree_rcvd_l4_2017</th>\n      <th>est_inc_wages_tips_past_yr_2017</th>\n      <th>hrswk_r_uses_a_computer_2017</th>\n      <th>hrswk_r_watches_television_2017</th>\n      <th>hrsnight_r_sleeps_2017</th>\n      <th>cvc_wkswk_yr_all_l99</th>\n    </tr>\n    <tr>\n      <th>pubid__yth_id_code_1997</th>\n      <th></th>\n      <th></th>\n      <th></th>\n      <th></th>\n      <th></th>\n      <th></th>\n      <th></th>\n      <th></th>\n      <th></th>\n      <th></th>\n      <th></th>\n      <th></th>\n      <th></th>\n      <th></th>\n      <th></th>\n      <th></th>\n      <th></th>\n      <th></th>\n      <th></th>\n      <th></th>\n      <th></th>\n    </tr>\n  </thead>\n  <tbody>\n    <tr>\n      <th>1.0</th>\n      <td>Female</td>\n      <td>9.0</td>\n      <td>1981.0</td>\n      <td>Cross-sectional</td>\n      <td>Non-Black / Non-Hispanic</td>\n      <td>350.0</td>\n      <td>470.0</td>\n      <td>309.0</td>\n      <td>310.0</td>\n      <td>293.0</td>\n      <td>...</td>\n      <td>NaN</td>\n      <td>NaN</td>\n      <td>NaN</td>\n      <td>NaN</td>\n      <td>NaN</td>\n      <td>NaN</td>\n      <td>NaN</td>\n      <td>NaN</td>\n      <td>NaN</td>\n      <td>52.0</td>\n    </tr>\n    <tr>\n      <th>2.0</th>\n      <td>Male</td>\n      <td>7.0</td>\n      <td>1982.0</td>\n      <td>Cross-sectional</td>\n      <td>Hispanic</td>\n      <td>460.0</td>\n      <td>440.0</td>\n      <td>217.0</td>\n      <td>280.0</td>\n      <td>114.0</td>\n      <td>...</td>\n      <td>NaN</td>\n      <td>NaN</td>\n      <td>NaN</td>\n      <td>NaN</td>\n      <td>NaN</td>\n      <td>NaN</td>\n      <td>4 to 6 hours a week</td>\n      <td>3 to 10 hours a week</td>\n      <td>6.0</td>\n      <td>0.0</td>\n    </tr>\n    <tr>\n      <th>3.0</th>\n      <td>Female</td>\n      <td>9.0</td>\n      <td>1983.0</td>\n      <td>Cross-sectional</td>\n      <td>Hispanic</td>\n      <td>NaN</td>\n      <td>NaN</td>\n      <td>NaN</td>\n      <td>NaN</td>\n      <td>NaN</td>\n      <td>...</td>\n      <td>0.0</td>\n      <td>NaN</td>\n      <td>NaN</td>\n      <td>NaN</td>\n      <td>NaN</td>\n      <td>NaN</td>\n      <td>10 hours or more a week</td>\n      <td>3 to 10 hours a week</td>\n      <td>6.0</td>\n      <td>0.0</td>\n    </tr>\n    <tr>\n      <th>4.0</th>\n      <td>Female</td>\n      <td>2.0</td>\n      <td>1981.0</td>\n      <td>Cross-sectional</td>\n      <td>Hispanic</td>\n      <td>NaN</td>\n      <td>NaN</td>\n      <td>253.0</td>\n      <td>216.0</td>\n      <td>195.0</td>\n      <td>...</td>\n      <td>1.0</td>\n      <td>NaN</td>\n      <td>NaN</td>\n      <td>NaN</td>\n      <td>NaN</td>\n      <td>NaN</td>\n      <td>1 to 3 hours a week</td>\n      <td>3 to 10 hours a week</td>\n      <td>6.0</td>\n      <td>4.0</td>\n    </tr>\n    <tr>\n      <th>5.0</th>\n      <td>Male</td>\n      <td>10.0</td>\n      <td>1982.0</td>\n      <td>Cross-sectional</td>\n      <td>Hispanic</td>\n      <td>NaN</td>\n      <td>NaN</td>\n      <td>243.0</td>\n      <td>235.0</td>\n      <td>293.0</td>\n      <td>...</td>\n      <td>0.0</td>\n      <td>NaN</td>\n      <td>NaN</td>\n      <td>NaN</td>\n      <td>NaN</td>\n      <td>NaN</td>\n      <td>Less than 1 hour a week</td>\n      <td>3 to 10 hours a week</td>\n      <td>5.0</td>\n      <td>12.0</td>\n    </tr>\n    <tr>\n      <th>...</th>\n      <td>...</td>\n      <td>...</td>\n      <td>...</td>\n      <td>...</td>\n      <td>...</td>\n      <td>...</td>\n      <td>...</td>\n      <td>...</td>\n      <td>...</td>\n      <td>...</td>\n      <td>...</td>\n      <td>...</td>\n      <td>...</td>\n      <td>...</td>\n      <td>...</td>\n      <td>...</td>\n      <td>...</td>\n      <td>...</td>\n      <td>...</td>\n      <td>...</td>\n      <td>...</td>\n    </tr>\n    <tr>\n      <th>9018.0</th>\n      <td>Female</td>\n      <td>3.0</td>\n      <td>1980.0</td>\n      <td>Cross-sectional</td>\n      <td>Non-Black / Non-Hispanic</td>\n      <td>NaN</td>\n      <td>NaN</td>\n      <td>NaN</td>\n      <td>NaN</td>\n      <td>NaN</td>\n      <td>...</td>\n      <td>3.0</td>\n      <td>NaN</td>\n      <td>NaN</td>\n      <td>NaN</td>\n      <td>NaN</td>\n      <td>NaN</td>\n      <td>4 to 6 hours a week</td>\n      <td>3 to 10 hours a week</td>\n      <td>4.0</td>\n      <td>49.0</td>\n    </tr>\n    <tr>\n      <th>9019.0</th>\n      <td>Male</td>\n      <td>9.0</td>\n      <td>1984.0</td>\n      <td>Oversample</td>\n      <td>Hispanic</td>\n      <td>NaN</td>\n      <td>NaN</td>\n      <td>NaN</td>\n      <td>NaN</td>\n      <td>NaN</td>\n      <td>...</td>\n      <td>4.0</td>\n      <td>NaN</td>\n      <td>NaN</td>\n      <td>NaN</td>\n      <td>NaN</td>\n      <td>NaN</td>\n      <td>Less than 1 hour a week</td>\n      <td>3 to 10 hours a week</td>\n      <td>6.0</td>\n      <td>0.0</td>\n    </tr>\n    <tr>\n      <th>9020.0</th>\n      <td>Male</td>\n      <td>7.0</td>\n      <td>1980.0</td>\n      <td>Cross-sectional</td>\n      <td>Non-Black / Non-Hispanic</td>\n      <td>NaN</td>\n      <td>NaN</td>\n      <td>322.0</td>\n      <td>290.0</td>\n      <td>293.0</td>\n      <td>...</td>\n      <td>NaN</td>\n      <td>NaN</td>\n      <td>NaN</td>\n      <td>NaN</td>\n      <td>NaN</td>\n      <td>NaN</td>\n      <td>NaN</td>\n      <td>NaN</td>\n      <td>NaN</td>\n      <td>15.0</td>\n    </tr>\n    <tr>\n      <th>9021.0</th>\n      <td>Male</td>\n      <td>7.0</td>\n      <td>1980.0</td>\n      <td>Cross-sectional</td>\n      <td>Non-Black / Non-Hispanic</td>\n      <td>NaN</td>\n      <td>NaN</td>\n      <td>230.0</td>\n      <td>184.0</td>\n      <td>343.0</td>\n      <td>...</td>\n      <td>0.0</td>\n      <td>NaN</td>\n      <td>NaN</td>\n      <td>NaN</td>\n      <td>NaN</td>\n      <td>NaN</td>\n      <td>10 hours or more a week</td>\n      <td>3 to 10 hours a week</td>\n      <td>7.0</td>\n      <td>50.0</td>\n    </tr>\n    <tr>\n      <th>9022.0</th>\n      <td>Female</td>\n      <td>1.0</td>\n      <td>1982.0</td>\n      <td>Cross-sectional</td>\n      <td>Non-Black / Non-Hispanic</td>\n      <td>NaN</td>\n      <td>NaN</td>\n      <td>NaN</td>\n      <td>NaN</td>\n      <td>NaN</td>\n      <td>...</td>\n      <td>0.0</td>\n      <td>NaN</td>\n      <td>NaN</td>\n      <td>NaN</td>\n      <td>NaN</td>\n      <td>NaN</td>\n      <td>10 hours or more a week</td>\n      <td>Less than 2 hours per week</td>\n      <td>7.0</td>\n      <td>20.0</td>\n    </tr>\n  </tbody>\n</table>\n<p>8984 rows × 41 columns</p>\n</div>"
     },
     "execution_count": 84,
     "metadata": {},
     "output_type": "execute_result"
    }
   ],
   "source": [
    "nls97stata.set_index('pubid__yth_id_code_1997', inplace=True)\n",
    "nls97stata"
   ],
   "metadata": {
    "collapsed": false,
    "pycharm": {
     "name": "#%%\n"
    }
   }
  },
  {
   "cell_type": "markdown",
   "source": [
    "# R"
   ],
   "metadata": {
    "collapsed": false,
    "pycharm": {
     "name": "#%% md\n"
    }
   }
  },
  {
   "cell_type": "code",
   "execution_count": 1,
   "outputs": [
    {
     "name": "stdout",
     "output_type": "stream",
     "text": [
      "Collecting pyreadr\n",
      "  Downloading pyreadr-0.4.4-cp310-cp310-win_amd64.whl (1.1 MB)\n",
      "Requirement already satisfied: pandas>=1.2.0 in c:\\users\\quocd\\appdata\\local\\programs\\python\\python310\\lib\\site-packages (from pyreadr) (1.3.4)\n",
      "Requirement already satisfied: python-dateutil>=2.7.3 in c:\\users\\quocd\\appdata\\local\\programs\\python\\python310\\lib\\site-packages (from pandas>=1.2.0->pyreadr) (2.8.2)\n",
      "Requirement already satisfied: pytz>=2017.3 in c:\\users\\quocd\\appdata\\local\\programs\\python\\python310\\lib\\site-packages (from pandas>=1.2.0->pyreadr) (2021.3)\n",
      "Requirement already satisfied: numpy>=1.21.0 in c:\\users\\quocd\\appdata\\local\\programs\\python\\python310\\lib\\site-packages (from pandas>=1.2.0->pyreadr) (1.21.4)\n",
      "Requirement already satisfied: six>=1.5 in c:\\users\\quocd\\appdata\\local\\programs\\python\\python310\\lib\\site-packages (from python-dateutil>=2.7.3->pandas>=1.2.0->pyreadr) (1.16.0)\n",
      "Installing collected packages: pyreadr\n",
      "Successfully installed pyreadr-0.4.4\n"
     ]
    },
    {
     "name": "stderr",
     "output_type": "stream",
     "text": [
      "WARNING: You are using pip version 21.3.1; however, version 22.0.4 is available.\n",
      "You should consider upgrading via the 'C:\\Users\\quocd\\AppData\\Local\\Programs\\Python\\Python310\\python.exe -m pip install --upgrade pip' command.\n"
     ]
    }
   ],
   "source": [
    "!pip install pyreadr"
   ],
   "metadata": {
    "collapsed": false,
    "pycharm": {
     "name": "#%%\n"
    }
   }
  },
  {
   "cell_type": "code",
   "execution_count": 2,
   "outputs": [],
   "source": [
    "import pandas as pd\n",
    "import numpy as np\n",
    "import pyreadr\n",
    "import pprint"
   ],
   "metadata": {
    "collapsed": false,
    "pycharm": {
     "name": "#%%\n"
    }
   }
  },
  {
   "cell_type": "code",
   "execution_count": 5,
   "outputs": [
    {
     "data": {
      "text/plain": "      R0000100  R0536300  R0536401  R0536402  R1235800  R1482600  R9793800  \\\n0            1         2         9      1981         1         4       350   \n1            2         1         7      1982         1         2       460   \n2            3         2         9      1983         1         2        -4   \n3            4         2         2      1981         1         2        -4   \n4            5         1        10      1982         1         2        -4   \n...        ...       ...       ...       ...       ...       ...       ...   \n8979      9018         2         3      1980         1         4        -4   \n8980      9019         1         9      1984         0         2        -4   \n8981      9020         1         7      1980         1         4        -4   \n8982      9021         1         7      1980         1         4        -4   \n8983      9022         2         1      1982         1         4        -4   \n\n      R9793900  R9871900  R9872000  ...  U1852700  U2166200  U2166300  \\\n0          470       309       310  ...        -5        -5        -5   \n1          440       217       280  ...        -4        -4        -4   \n2           -4        -4        -4  ...         0        -4        -4   \n3           -4       253       216  ...         1        -4        -4   \n4           -4       243       235  ...         0        -4        -4   \n...        ...       ...       ...  ...       ...       ...       ...   \n8979        -4        -4        -4  ...         3        -4        -4   \n8980        -4        -4        -4  ...         4        -4        -4   \n8981        -4       322       290  ...        -5        -5        -5   \n8982        -4       230       184  ...         0        -4        -4   \n8983        -4        -4        -4  ...         0        -4        -4   \n\n      U2166400  U2166500  U2857300  U2962800  U2962900  U2963000  Z9063900  \n0           -5        -5        -5        -5        -5        -5        52  \n1           -4        -4        -4         4         2         6         0  \n2           -4        -4        -1         6         2         6         0  \n3           -4        -4        -4         3         2         6         4  \n4           -4        -4        -4         2         2         5        12  \n...        ...       ...       ...       ...       ...       ...       ...  \n8979        -4        -4        -4         4         2         4        49  \n8980        -4        -4        -4         2         2         6         0  \n8981        -5        -5        -5        -5        -5        -5        15  \n8982        -4        -4        -4         6         2         7        50  \n8983        -4        -4        -4         6         1         7        20  \n\n[8984 rows x 42 columns]",
      "text/html": "<div>\n<style scoped>\n    .dataframe tbody tr th:only-of-type {\n        vertical-align: middle;\n    }\n\n    .dataframe tbody tr th {\n        vertical-align: top;\n    }\n\n    .dataframe thead th {\n        text-align: right;\n    }\n</style>\n<table border=\"1\" class=\"dataframe\">\n  <thead>\n    <tr style=\"text-align: right;\">\n      <th></th>\n      <th>R0000100</th>\n      <th>R0536300</th>\n      <th>R0536401</th>\n      <th>R0536402</th>\n      <th>R1235800</th>\n      <th>R1482600</th>\n      <th>R9793800</th>\n      <th>R9793900</th>\n      <th>R9871900</th>\n      <th>R9872000</th>\n      <th>...</th>\n      <th>U1852700</th>\n      <th>U2166200</th>\n      <th>U2166300</th>\n      <th>U2166400</th>\n      <th>U2166500</th>\n      <th>U2857300</th>\n      <th>U2962800</th>\n      <th>U2962900</th>\n      <th>U2963000</th>\n      <th>Z9063900</th>\n    </tr>\n  </thead>\n  <tbody>\n    <tr>\n      <th>0</th>\n      <td>1</td>\n      <td>2</td>\n      <td>9</td>\n      <td>1981</td>\n      <td>1</td>\n      <td>4</td>\n      <td>350</td>\n      <td>470</td>\n      <td>309</td>\n      <td>310</td>\n      <td>...</td>\n      <td>-5</td>\n      <td>-5</td>\n      <td>-5</td>\n      <td>-5</td>\n      <td>-5</td>\n      <td>-5</td>\n      <td>-5</td>\n      <td>-5</td>\n      <td>-5</td>\n      <td>52</td>\n    </tr>\n    <tr>\n      <th>1</th>\n      <td>2</td>\n      <td>1</td>\n      <td>7</td>\n      <td>1982</td>\n      <td>1</td>\n      <td>2</td>\n      <td>460</td>\n      <td>440</td>\n      <td>217</td>\n      <td>280</td>\n      <td>...</td>\n      <td>-4</td>\n      <td>-4</td>\n      <td>-4</td>\n      <td>-4</td>\n      <td>-4</td>\n      <td>-4</td>\n      <td>4</td>\n      <td>2</td>\n      <td>6</td>\n      <td>0</td>\n    </tr>\n    <tr>\n      <th>2</th>\n      <td>3</td>\n      <td>2</td>\n      <td>9</td>\n      <td>1983</td>\n      <td>1</td>\n      <td>2</td>\n      <td>-4</td>\n      <td>-4</td>\n      <td>-4</td>\n      <td>-4</td>\n      <td>...</td>\n      <td>0</td>\n      <td>-4</td>\n      <td>-4</td>\n      <td>-4</td>\n      <td>-4</td>\n      <td>-1</td>\n      <td>6</td>\n      <td>2</td>\n      <td>6</td>\n      <td>0</td>\n    </tr>\n    <tr>\n      <th>3</th>\n      <td>4</td>\n      <td>2</td>\n      <td>2</td>\n      <td>1981</td>\n      <td>1</td>\n      <td>2</td>\n      <td>-4</td>\n      <td>-4</td>\n      <td>253</td>\n      <td>216</td>\n      <td>...</td>\n      <td>1</td>\n      <td>-4</td>\n      <td>-4</td>\n      <td>-4</td>\n      <td>-4</td>\n      <td>-4</td>\n      <td>3</td>\n      <td>2</td>\n      <td>6</td>\n      <td>4</td>\n    </tr>\n    <tr>\n      <th>4</th>\n      <td>5</td>\n      <td>1</td>\n      <td>10</td>\n      <td>1982</td>\n      <td>1</td>\n      <td>2</td>\n      <td>-4</td>\n      <td>-4</td>\n      <td>243</td>\n      <td>235</td>\n      <td>...</td>\n      <td>0</td>\n      <td>-4</td>\n      <td>-4</td>\n      <td>-4</td>\n      <td>-4</td>\n      <td>-4</td>\n      <td>2</td>\n      <td>2</td>\n      <td>5</td>\n      <td>12</td>\n    </tr>\n    <tr>\n      <th>...</th>\n      <td>...</td>\n      <td>...</td>\n      <td>...</td>\n      <td>...</td>\n      <td>...</td>\n      <td>...</td>\n      <td>...</td>\n      <td>...</td>\n      <td>...</td>\n      <td>...</td>\n      <td>...</td>\n      <td>...</td>\n      <td>...</td>\n      <td>...</td>\n      <td>...</td>\n      <td>...</td>\n      <td>...</td>\n      <td>...</td>\n      <td>...</td>\n      <td>...</td>\n      <td>...</td>\n    </tr>\n    <tr>\n      <th>8979</th>\n      <td>9018</td>\n      <td>2</td>\n      <td>3</td>\n      <td>1980</td>\n      <td>1</td>\n      <td>4</td>\n      <td>-4</td>\n      <td>-4</td>\n      <td>-4</td>\n      <td>-4</td>\n      <td>...</td>\n      <td>3</td>\n      <td>-4</td>\n      <td>-4</td>\n      <td>-4</td>\n      <td>-4</td>\n      <td>-4</td>\n      <td>4</td>\n      <td>2</td>\n      <td>4</td>\n      <td>49</td>\n    </tr>\n    <tr>\n      <th>8980</th>\n      <td>9019</td>\n      <td>1</td>\n      <td>9</td>\n      <td>1984</td>\n      <td>0</td>\n      <td>2</td>\n      <td>-4</td>\n      <td>-4</td>\n      <td>-4</td>\n      <td>-4</td>\n      <td>...</td>\n      <td>4</td>\n      <td>-4</td>\n      <td>-4</td>\n      <td>-4</td>\n      <td>-4</td>\n      <td>-4</td>\n      <td>2</td>\n      <td>2</td>\n      <td>6</td>\n      <td>0</td>\n    </tr>\n    <tr>\n      <th>8981</th>\n      <td>9020</td>\n      <td>1</td>\n      <td>7</td>\n      <td>1980</td>\n      <td>1</td>\n      <td>4</td>\n      <td>-4</td>\n      <td>-4</td>\n      <td>322</td>\n      <td>290</td>\n      <td>...</td>\n      <td>-5</td>\n      <td>-5</td>\n      <td>-5</td>\n      <td>-5</td>\n      <td>-5</td>\n      <td>-5</td>\n      <td>-5</td>\n      <td>-5</td>\n      <td>-5</td>\n      <td>15</td>\n    </tr>\n    <tr>\n      <th>8982</th>\n      <td>9021</td>\n      <td>1</td>\n      <td>7</td>\n      <td>1980</td>\n      <td>1</td>\n      <td>4</td>\n      <td>-4</td>\n      <td>-4</td>\n      <td>230</td>\n      <td>184</td>\n      <td>...</td>\n      <td>0</td>\n      <td>-4</td>\n      <td>-4</td>\n      <td>-4</td>\n      <td>-4</td>\n      <td>-4</td>\n      <td>6</td>\n      <td>2</td>\n      <td>7</td>\n      <td>50</td>\n    </tr>\n    <tr>\n      <th>8983</th>\n      <td>9022</td>\n      <td>2</td>\n      <td>1</td>\n      <td>1982</td>\n      <td>1</td>\n      <td>4</td>\n      <td>-4</td>\n      <td>-4</td>\n      <td>-4</td>\n      <td>-4</td>\n      <td>...</td>\n      <td>0</td>\n      <td>-4</td>\n      <td>-4</td>\n      <td>-4</td>\n      <td>-4</td>\n      <td>-4</td>\n      <td>6</td>\n      <td>1</td>\n      <td>7</td>\n      <td>20</td>\n    </tr>\n  </tbody>\n</table>\n<p>8984 rows × 42 columns</p>\n</div>"
     },
     "execution_count": 5,
     "metadata": {},
     "output_type": "execute_result"
    }
   ],
   "source": [
    "# this return an object having key None -> use [None] to retrieve the data\n",
    "# {None : data}\n",
    "nls97r = pyreadr.read_r('data/nls97.rds')[None]\n",
    "nls97r"
   ],
   "metadata": {
    "collapsed": false,
    "pycharm": {
     "name": "#%%\n"
    }
   }
  },
  {
   "cell_type": "code",
   "execution_count": 6,
   "outputs": [
    {
     "name": "stdout",
     "output_type": "stream",
     "text": [
      "{'R0536300': {0.0: 'No Information', 1.0: 'Male', 2.0: 'Female'},\n",
      " 'R1235800': {0.0: 'Oversample', 1.0: 'Cross-sectional'},\n",
      " 'S8646900': {1.0: '1. Definitely',\n",
      "              2.0: '2. Probably ',\n",
      "              3.0: '3. Probably not',\n",
      "              4.0: '4. Definitely not'},\n",
      " 'S8647000': {1.0: '1. Definitely',\n",
      "              2.0: '2. Probably ',\n",
      "              3.0: '3. Probably not',\n",
      "              4.0: '4. Definitely not'},\n",
      " 'S8647100': {1.0: '1. Definitely',\n",
      "              2.0: '2. Probably ',\n",
      "              3.0: '3. Probably not',\n",
      "              4.0: '4. Definitely not'},\n",
      " 'S8647200': {1.0: '1. Definitely',\n",
      "              2.0: '2. Probably ',\n",
      "              3.0: '3. Probably not',\n",
      "              4.0: '4. Definitely not'},\n",
      " 'S8647300': {1.0: '1. Definitely',\n",
      "              2.0: '2. Probably ',\n",
      "              3.0: '3. Probably not',\n",
      "              4.0: '4. Definitely not'},\n",
      " 'S8647400': {1.0: '1. Definitely',\n",
      "              2.0: '2. Probably ',\n",
      "              3.0: '3. Probably not',\n",
      "              4.0: '4. Definitely not'},\n",
      " 'S8647500': {1.0: '1. Definitely',\n",
      "              2.0: '2. Probably ',\n",
      "              3.0: '3. Probably not',\n",
      "              4.0: '4. Definitely not'},\n",
      " 'S8647600': {1.0: '1. Definitely',\n",
      "              2.0: '2. Probably ',\n",
      "              3.0: '3. Probably not',\n",
      "              4.0: '4. Definitely not'},\n",
      " 'S8647700': {1.0: '1. Definitely',\n",
      "              2.0: '2. Probably ',\n",
      "              3.0: '3. Probably not',\n",
      "              4.0: '4. Definitely not'},\n",
      " 'S8647800': {1.0: '1. Definitely',\n",
      "              2.0: '2. Probably ',\n",
      "              3.0: '3. Probably not',\n",
      "              4.0: '4. Definitely not'},\n",
      " 'U1836800': {1.0: 'Public ',\n",
      "              2.0: 'Private not-for-profit',\n",
      "              3.0: 'Private for-profit'},\n",
      " 'U1836900': {1.0: 'Public ',\n",
      "              2.0: 'Private not-for-profit',\n",
      "              3.0: 'Private for-profit'},\n",
      " 'U1837000': {1.0: 'Public ',\n",
      "              2.0: 'Private not-for-profit',\n",
      "              3.0: 'Private for-profit'},\n",
      " 'U1837100': {1.0: 'Public ',\n",
      "              2.0: 'Private not-for-profit',\n",
      "              3.0: 'Private for-profit'},\n",
      " 'U1837200': {1.0: 'Public ',\n",
      "              2.0: 'Private not-for-profit',\n",
      "              3.0: 'Private for-profit'},\n",
      " 'U1837300': {1.0: 'Public ',\n",
      "              2.0: 'Private not-for-profit',\n",
      "              3.0: 'Private for-profit'},\n",
      " 'U1845400': {0.0: 'NONE',\n",
      "              1.0: 'A. 1ST GRADE',\n",
      "              2.0: 'B. 2ND GRADE',\n",
      "              3.0: 'C. 3RD GRADE',\n",
      "              4.0: 'D. 4TH GRADE',\n",
      "              5.0: 'E. 5TH GRADE',\n",
      "              6.0: 'F. 6TH GRADE',\n",
      "              7.0: 'G. 7TH GRADE',\n",
      "              8.0: 'H. 8TH GRADE',\n",
      "              9.0: 'I. 9TH GRADE',\n",
      "              10.0: 'J. 10TH GRADE',\n",
      "              11.0: 'K. 11TH GRADE',\n",
      "              12.0: 'L. 12TH GRADE',\n",
      "              13.0: 'M. 1ST YEAR COLLEGE',\n",
      "              14.0: 'N. 2ND YEAR COLLEGE',\n",
      "              15.0: 'O. 3RD YEAR COLLEGE',\n",
      "              16.0: 'P. 4TH YEAR COLLEGE',\n",
      "              17.0: 'Q. 5TH YEAR COLLEGE',\n",
      "              18.0: 'R. 6TH YEAR COLLEGE',\n",
      "              19.0: 'S. 7TH YEAR COLLEGE',\n",
      "              20.0: 'T. 8TH YEAR COLLEGE OR MORE',\n",
      "              95.0: '99. UNGRADED'},\n",
      " 'U1852400': {0.0: 'Never-married',\n",
      "              1.0: 'Married',\n",
      "              2.0: 'Separated',\n",
      "              3.0: 'Divorced',\n",
      "              4.0: 'Widowed'},\n",
      " 'U2166200': {1.0: '1. Associate/Junior College or two-year associate degree '\n",
      "                   '(AA)',\n",
      "              2.0: '2. Vocational or technical certificate',\n",
      "              3.0: \"3. Bachelor's degree (BA, BS or unspecified)\",\n",
      "              4.0: \"4. Master's degree (MA, MBA, MS, MSW)\",\n",
      "              5.0: '5. Doctoral Degree (PhD)',\n",
      "              6.0: '6. Professional Degree (MD, LLD, DDS, JD)',\n",
      "              7.0: '7. No degree received',\n",
      "              8.0: '8. OTHER (SPECIFY)',\n",
      "              9.0: '9. GED',\n",
      "              999.0: '999. UNCODEABLE'},\n",
      " 'U2166300': {1.0: '1. Associate/Junior College or two-year associate degree '\n",
      "                   '(AA)',\n",
      "              2.0: '2. Vocational or technical certificate',\n",
      "              3.0: \"3. Bachelor's degree (BA, BS or unspecified)\",\n",
      "              4.0: \"4. Master's degree (MA, MBA, MS, MSW)\",\n",
      "              5.0: '5. Doctoral Degree (PhD)',\n",
      "              6.0: '6. Professional Degree (MD, LLD, DDS, JD)',\n",
      "              7.0: '7. No degree received',\n",
      "              8.0: '8. OTHER (SPECIFY)',\n",
      "              9.0: '9. GED',\n",
      "              999.0: '999. UNCODEABLE'},\n",
      " 'U2166400': {1.0: '1. Associate/Junior College or two-year associate degree '\n",
      "                   '(AA)',\n",
      "              2.0: '2. Vocational or technical certificate',\n",
      "              3.0: \"3. Bachelor's degree (BA, BS or unspecified)\",\n",
      "              4.0: \"4. Master's degree (MA, MBA, MS, MSW)\",\n",
      "              5.0: '5. Doctoral Degree (PhD)',\n",
      "              6.0: '6. Professional Degree (MD, LLD, DDS, JD)',\n",
      "              7.0: '7. No degree received',\n",
      "              8.0: '8. OTHER (SPECIFY)',\n",
      "              9.0: '9. GED',\n",
      "              999.0: '999. UNCODEABLE'},\n",
      " 'U2166500': {1.0: 'Associate/Junior College or two-year associate degree (AA)',\n",
      "              2.0: '2. Vocational or technical certificate',\n",
      "              3.0: \"3. Bachelor's degree (BA, BS or unspecified)\",\n",
      "              4.0: \"4. Master's degree (MA, MBA, MS, MSW)\",\n",
      "              5.0: '5. Doctoral Degree (PhD)',\n",
      "              6.0: '6. Professional Degree (MD, LLD, DDS, JD)',\n",
      "              7.0: '7. No degree received',\n",
      "              8.0: '8. OTHER (SPECIFY)',\n",
      "              9.0: '9. GED',\n",
      "              999.0: '999. UNCODEABLE'},\n",
      " 'U2857300': {1.0: 'A. $1 - $5,000',\n",
      "              2.0: 'B. $5,001 - $10,000',\n",
      "              3.0: 'C. $10,001 - $25,000',\n",
      "              4.0: 'D. $25,001 - $50,000',\n",
      "              5.0: 'E. $50,001 - $100,000',\n",
      "              6.0: 'F. $100,001 - $250,000',\n",
      "              7.0: 'G. More than $250,000'},\n",
      " 'U2962800': {1.0: '1. None',\n",
      "              2.0: '2. Less than 1 hour a week',\n",
      "              3.0: '3. 1 to 3 hours a week',\n",
      "              4.0: '4. 4 to 6 hours a week',\n",
      "              5.0: '5. 7 to 9 hours a week',\n",
      "              6.0: '6. 10 hours or more a week'},\n",
      " 'U2962900': {1.0: '1. Less than 2 hours per week',\n",
      "              2.0: '2. 3 to 10 hours a week',\n",
      "              3.0: '3. 11 to 20 hours a week',\n",
      "              4.0: '4. 21 to 30 hours a week',\n",
      "              5.0: '5. 31 to 40 hours a week',\n",
      "              6.0: '6. More than 40 hours a week'}}\n"
     ]
    }
   ],
   "source": [
    "# set up a dictionary which map columns -> value labels\n",
    "with open('data/nlscodes.txt', 'r') as reader:\n",
    "    setvalues = eval(reader.read())\n",
    "\n",
    "pprint.pprint(setvalues)"
   ],
   "metadata": {
    "collapsed": false,
    "pycharm": {
     "name": "#%%\n"
    }
   }
  },
  {
   "cell_type": "code",
   "execution_count": 7,
   "outputs": [],
   "source": [
    "newcols = ['personid','gender','birthmonth','birthyear',\n",
    "           'sampletype',  'category','satverbal','satmath',\n",
    "           'gpaoverall','gpaeng','gpamath','gpascience','govjobs',\n",
    "           'govprices','govhealth','goveld','govind','govunemp',\n",
    "           'govinc','govcollege','govhousing','govenvironment',\n",
    "           'bacredits','coltype1','coltype2','coltype3','coltype4',\n",
    "           'coltype5','coltype6','highestgrade','maritalstatus',\n",
    "           'childnumhome','childnumaway','degreecol1',\n",
    "           'degreecol2','degreecol3','degreecol4','wageincome',\n",
    "           'weeklyhrscomputer','weeklyhrstv',\n",
    "           'nightlyhrssleep','weeksworkedlastyear']"
   ],
   "metadata": {
    "collapsed": false,
    "pycharm": {
     "name": "#%%\n"
    }
   }
  },
  {
   "cell_type": "code",
   "execution_count": 8,
   "outputs": [
    {
     "data": {
      "text/plain": "      R0000100 R0536300  R0536401  R0536402         R1235800  R1482600  \\\n0            1   Female         9      1981  Cross-sectional         4   \n1            2     Male         7      1982  Cross-sectional         2   \n2            3   Female         9      1983  Cross-sectional         2   \n3            4   Female         2      1981  Cross-sectional         2   \n4            5     Male        10      1982  Cross-sectional         2   \n...        ...      ...       ...       ...              ...       ...   \n8979      9018   Female         3      1980  Cross-sectional         4   \n8980      9019     Male         9      1984       Oversample         2   \n8981      9020     Male         7      1980  Cross-sectional         4   \n8982      9021     Male         7      1980  Cross-sectional         4   \n8983      9022   Female         1      1982  Cross-sectional         4   \n\n      R9793800  R9793900  R9871900  R9872000  ...  U1852700  U2166200  \\\n0          350       470       309       310  ...        -5        -5   \n1          460       440       217       280  ...        -4        -4   \n2           -4        -4        -4        -4  ...         0        -4   \n3           -4        -4       253       216  ...         1        -4   \n4           -4        -4       243       235  ...         0        -4   \n...        ...       ...       ...       ...  ...       ...       ...   \n8979        -4        -4        -4        -4  ...         3        -4   \n8980        -4        -4        -4        -4  ...         4        -4   \n8981        -4        -4       322       290  ...        -5        -5   \n8982        -4        -4       230       184  ...         0        -4   \n8983        -4        -4        -4        -4  ...         0        -4   \n\n     U2166300 U2166400 U2166500 U2857300                    U2962800  \\\n0          -5       -5       -5       -5                          -5   \n1          -4       -4       -4       -4      4. 4 to 6 hours a week   \n2          -4       -4       -4       -1  6. 10 hours or more a week   \n3          -4       -4       -4       -4      3. 1 to 3 hours a week   \n4          -4       -4       -4       -4  2. Less than 1 hour a week   \n...       ...      ...      ...      ...                         ...   \n8979       -4       -4       -4       -4      4. 4 to 6 hours a week   \n8980       -4       -4       -4       -4  2. Less than 1 hour a week   \n8981       -5       -5       -5       -5                          -5   \n8982       -4       -4       -4       -4  6. 10 hours or more a week   \n8983       -4       -4       -4       -4  6. 10 hours or more a week   \n\n                           U2962900 U2963000 Z9063900  \n0                                -5       -5       52  \n1           2. 3 to 10 hours a week        6        0  \n2           2. 3 to 10 hours a week        6        0  \n3           2. 3 to 10 hours a week        6        4  \n4           2. 3 to 10 hours a week        5       12  \n...                             ...      ...      ...  \n8979        2. 3 to 10 hours a week        4       49  \n8980        2. 3 to 10 hours a week        6        0  \n8981                             -5       -5       15  \n8982        2. 3 to 10 hours a week        7       50  \n8983  1. Less than 2 hours per week        7       20  \n\n[8984 rows x 42 columns]",
      "text/html": "<div>\n<style scoped>\n    .dataframe tbody tr th:only-of-type {\n        vertical-align: middle;\n    }\n\n    .dataframe tbody tr th {\n        vertical-align: top;\n    }\n\n    .dataframe thead th {\n        text-align: right;\n    }\n</style>\n<table border=\"1\" class=\"dataframe\">\n  <thead>\n    <tr style=\"text-align: right;\">\n      <th></th>\n      <th>R0000100</th>\n      <th>R0536300</th>\n      <th>R0536401</th>\n      <th>R0536402</th>\n      <th>R1235800</th>\n      <th>R1482600</th>\n      <th>R9793800</th>\n      <th>R9793900</th>\n      <th>R9871900</th>\n      <th>R9872000</th>\n      <th>...</th>\n      <th>U1852700</th>\n      <th>U2166200</th>\n      <th>U2166300</th>\n      <th>U2166400</th>\n      <th>U2166500</th>\n      <th>U2857300</th>\n      <th>U2962800</th>\n      <th>U2962900</th>\n      <th>U2963000</th>\n      <th>Z9063900</th>\n    </tr>\n  </thead>\n  <tbody>\n    <tr>\n      <th>0</th>\n      <td>1</td>\n      <td>Female</td>\n      <td>9</td>\n      <td>1981</td>\n      <td>Cross-sectional</td>\n      <td>4</td>\n      <td>350</td>\n      <td>470</td>\n      <td>309</td>\n      <td>310</td>\n      <td>...</td>\n      <td>-5</td>\n      <td>-5</td>\n      <td>-5</td>\n      <td>-5</td>\n      <td>-5</td>\n      <td>-5</td>\n      <td>-5</td>\n      <td>-5</td>\n      <td>-5</td>\n      <td>52</td>\n    </tr>\n    <tr>\n      <th>1</th>\n      <td>2</td>\n      <td>Male</td>\n      <td>7</td>\n      <td>1982</td>\n      <td>Cross-sectional</td>\n      <td>2</td>\n      <td>460</td>\n      <td>440</td>\n      <td>217</td>\n      <td>280</td>\n      <td>...</td>\n      <td>-4</td>\n      <td>-4</td>\n      <td>-4</td>\n      <td>-4</td>\n      <td>-4</td>\n      <td>-4</td>\n      <td>4. 4 to 6 hours a week</td>\n      <td>2. 3 to 10 hours a week</td>\n      <td>6</td>\n      <td>0</td>\n    </tr>\n    <tr>\n      <th>2</th>\n      <td>3</td>\n      <td>Female</td>\n      <td>9</td>\n      <td>1983</td>\n      <td>Cross-sectional</td>\n      <td>2</td>\n      <td>-4</td>\n      <td>-4</td>\n      <td>-4</td>\n      <td>-4</td>\n      <td>...</td>\n      <td>0</td>\n      <td>-4</td>\n      <td>-4</td>\n      <td>-4</td>\n      <td>-4</td>\n      <td>-1</td>\n      <td>6. 10 hours or more a week</td>\n      <td>2. 3 to 10 hours a week</td>\n      <td>6</td>\n      <td>0</td>\n    </tr>\n    <tr>\n      <th>3</th>\n      <td>4</td>\n      <td>Female</td>\n      <td>2</td>\n      <td>1981</td>\n      <td>Cross-sectional</td>\n      <td>2</td>\n      <td>-4</td>\n      <td>-4</td>\n      <td>253</td>\n      <td>216</td>\n      <td>...</td>\n      <td>1</td>\n      <td>-4</td>\n      <td>-4</td>\n      <td>-4</td>\n      <td>-4</td>\n      <td>-4</td>\n      <td>3. 1 to 3 hours a week</td>\n      <td>2. 3 to 10 hours a week</td>\n      <td>6</td>\n      <td>4</td>\n    </tr>\n    <tr>\n      <th>4</th>\n      <td>5</td>\n      <td>Male</td>\n      <td>10</td>\n      <td>1982</td>\n      <td>Cross-sectional</td>\n      <td>2</td>\n      <td>-4</td>\n      <td>-4</td>\n      <td>243</td>\n      <td>235</td>\n      <td>...</td>\n      <td>0</td>\n      <td>-4</td>\n      <td>-4</td>\n      <td>-4</td>\n      <td>-4</td>\n      <td>-4</td>\n      <td>2. Less than 1 hour a week</td>\n      <td>2. 3 to 10 hours a week</td>\n      <td>5</td>\n      <td>12</td>\n    </tr>\n    <tr>\n      <th>...</th>\n      <td>...</td>\n      <td>...</td>\n      <td>...</td>\n      <td>...</td>\n      <td>...</td>\n      <td>...</td>\n      <td>...</td>\n      <td>...</td>\n      <td>...</td>\n      <td>...</td>\n      <td>...</td>\n      <td>...</td>\n      <td>...</td>\n      <td>...</td>\n      <td>...</td>\n      <td>...</td>\n      <td>...</td>\n      <td>...</td>\n      <td>...</td>\n      <td>...</td>\n      <td>...</td>\n    </tr>\n    <tr>\n      <th>8979</th>\n      <td>9018</td>\n      <td>Female</td>\n      <td>3</td>\n      <td>1980</td>\n      <td>Cross-sectional</td>\n      <td>4</td>\n      <td>-4</td>\n      <td>-4</td>\n      <td>-4</td>\n      <td>-4</td>\n      <td>...</td>\n      <td>3</td>\n      <td>-4</td>\n      <td>-4</td>\n      <td>-4</td>\n      <td>-4</td>\n      <td>-4</td>\n      <td>4. 4 to 6 hours a week</td>\n      <td>2. 3 to 10 hours a week</td>\n      <td>4</td>\n      <td>49</td>\n    </tr>\n    <tr>\n      <th>8980</th>\n      <td>9019</td>\n      <td>Male</td>\n      <td>9</td>\n      <td>1984</td>\n      <td>Oversample</td>\n      <td>2</td>\n      <td>-4</td>\n      <td>-4</td>\n      <td>-4</td>\n      <td>-4</td>\n      <td>...</td>\n      <td>4</td>\n      <td>-4</td>\n      <td>-4</td>\n      <td>-4</td>\n      <td>-4</td>\n      <td>-4</td>\n      <td>2. Less than 1 hour a week</td>\n      <td>2. 3 to 10 hours a week</td>\n      <td>6</td>\n      <td>0</td>\n    </tr>\n    <tr>\n      <th>8981</th>\n      <td>9020</td>\n      <td>Male</td>\n      <td>7</td>\n      <td>1980</td>\n      <td>Cross-sectional</td>\n      <td>4</td>\n      <td>-4</td>\n      <td>-4</td>\n      <td>322</td>\n      <td>290</td>\n      <td>...</td>\n      <td>-5</td>\n      <td>-5</td>\n      <td>-5</td>\n      <td>-5</td>\n      <td>-5</td>\n      <td>-5</td>\n      <td>-5</td>\n      <td>-5</td>\n      <td>-5</td>\n      <td>15</td>\n    </tr>\n    <tr>\n      <th>8982</th>\n      <td>9021</td>\n      <td>Male</td>\n      <td>7</td>\n      <td>1980</td>\n      <td>Cross-sectional</td>\n      <td>4</td>\n      <td>-4</td>\n      <td>-4</td>\n      <td>230</td>\n      <td>184</td>\n      <td>...</td>\n      <td>0</td>\n      <td>-4</td>\n      <td>-4</td>\n      <td>-4</td>\n      <td>-4</td>\n      <td>-4</td>\n      <td>6. 10 hours or more a week</td>\n      <td>2. 3 to 10 hours a week</td>\n      <td>7</td>\n      <td>50</td>\n    </tr>\n    <tr>\n      <th>8983</th>\n      <td>9022</td>\n      <td>Female</td>\n      <td>1</td>\n      <td>1982</td>\n      <td>Cross-sectional</td>\n      <td>4</td>\n      <td>-4</td>\n      <td>-4</td>\n      <td>-4</td>\n      <td>-4</td>\n      <td>...</td>\n      <td>0</td>\n      <td>-4</td>\n      <td>-4</td>\n      <td>-4</td>\n      <td>-4</td>\n      <td>-4</td>\n      <td>6. 10 hours or more a week</td>\n      <td>1. Less than 2 hours per week</td>\n      <td>7</td>\n      <td>20</td>\n    </tr>\n  </tbody>\n</table>\n<p>8984 rows × 42 columns</p>\n</div>"
     },
     "execution_count": 8,
     "metadata": {},
     "output_type": "execute_result"
    }
   ],
   "source": [
    "nls97r.replace(setvalues, inplace=True)\n",
    "nls97r"
   ],
   "metadata": {
    "collapsed": false,
    "pycharm": {
     "name": "#%%\n"
    }
   }
  },
  {
   "cell_type": "code",
   "execution_count": 10,
   "outputs": [
    {
     "data": {
      "text/plain": "      R0000100 R0536300  R0536401  R0536402         R1235800  R1482600  \\\n0          1.0   Female       9.0    1981.0  Cross-sectional       4.0   \n1          2.0     Male       7.0    1982.0  Cross-sectional       2.0   \n2          3.0   Female       9.0    1983.0  Cross-sectional       2.0   \n3          4.0   Female       2.0    1981.0  Cross-sectional       2.0   \n4          5.0     Male      10.0    1982.0  Cross-sectional       2.0   \n...        ...      ...       ...       ...              ...       ...   \n8979    9018.0   Female       3.0    1980.0  Cross-sectional       4.0   \n8980    9019.0     Male       9.0    1984.0       Oversample       2.0   \n8981    9020.0     Male       7.0    1980.0  Cross-sectional       4.0   \n8982    9021.0     Male       7.0    1980.0  Cross-sectional       4.0   \n8983    9022.0   Female       1.0    1982.0  Cross-sectional       4.0   \n\n      R9793800  R9793900  R9871900  R9872000  ...  U1852700  \\\n0        350.0     470.0     309.0     310.0  ...       NaN   \n1        460.0     440.0     217.0     280.0  ...       NaN   \n2        460.0     440.0     217.0     280.0  ...       0.0   \n3        460.0     440.0     253.0     216.0  ...       1.0   \n4        460.0     440.0     243.0     235.0  ...       0.0   \n...        ...       ...       ...       ...  ...       ...   \n8979     440.0     420.0     336.0     308.0  ...       3.0   \n8980     440.0     420.0     336.0     308.0  ...       4.0   \n8981     440.0     420.0     322.0     290.0  ...       4.0   \n8982     440.0     420.0     230.0     184.0  ...       0.0   \n8983     440.0     420.0     230.0     184.0  ...       0.0   \n\n                                    U2166200  \\\n0                                        NaN   \n1                                        NaN   \n2                                        NaN   \n3                                        NaN   \n4                                        NaN   \n...                                      ...   \n8979  2. Vocational or technical certificate   \n8980  2. Vocational or technical certificate   \n8981  2. Vocational or technical certificate   \n8982  2. Vocational or technical certificate   \n8983  2. Vocational or technical certificate   \n\n                                          U2166300  \\\n0                                              NaN   \n1                                              NaN   \n2                                              NaN   \n3                                              NaN   \n4                                              NaN   \n...                                            ...   \n8979  3. Bachelor's degree (BA, BS or unspecified)   \n8980  3. Bachelor's degree (BA, BS or unspecified)   \n8981  3. Bachelor's degree (BA, BS or unspecified)   \n8982  3. Bachelor's degree (BA, BS or unspecified)   \n8983  3. Bachelor's degree (BA, BS or unspecified)   \n\n                                          U2166400  \\\n0                                              NaN   \n1                                              NaN   \n2                                              NaN   \n3                                              NaN   \n4                                              NaN   \n...                                            ...   \n8979  3. Bachelor's degree (BA, BS or unspecified)   \n8980  3. Bachelor's degree (BA, BS or unspecified)   \n8981  3. Bachelor's degree (BA, BS or unspecified)   \n8982  3. Bachelor's degree (BA, BS or unspecified)   \n8983  3. Bachelor's degree (BA, BS or unspecified)   \n\n                                          U2166500              U2857300  \\\n0                                              NaN                   NaN   \n1                                              NaN                   NaN   \n2                                              NaN                   NaN   \n3                                              NaN                   NaN   \n4                                              NaN                   NaN   \n...                                            ...                   ...   \n8979  3. Bachelor's degree (BA, BS or unspecified)  C. $10,001 - $25,000   \n8980  3. Bachelor's degree (BA, BS or unspecified)  C. $10,001 - $25,000   \n8981  3. Bachelor's degree (BA, BS or unspecified)  C. $10,001 - $25,000   \n8982  3. Bachelor's degree (BA, BS or unspecified)  C. $10,001 - $25,000   \n8983  3. Bachelor's degree (BA, BS or unspecified)  C. $10,001 - $25,000   \n\n                        U2962800                       U2962900 U2963000  \\\n0                            NaN                            NaN      NaN   \n1         4. 4 to 6 hours a week        2. 3 to 10 hours a week      6.0   \n2     6. 10 hours or more a week        2. 3 to 10 hours a week      6.0   \n3         3. 1 to 3 hours a week        2. 3 to 10 hours a week      6.0   \n4     2. Less than 1 hour a week        2. 3 to 10 hours a week      5.0   \n...                          ...                            ...      ...   \n8979      4. 4 to 6 hours a week        2. 3 to 10 hours a week      4.0   \n8980  2. Less than 1 hour a week        2. 3 to 10 hours a week      6.0   \n8981  2. Less than 1 hour a week        2. 3 to 10 hours a week      6.0   \n8982  6. 10 hours or more a week        2. 3 to 10 hours a week      7.0   \n8983  6. 10 hours or more a week  1. Less than 2 hours per week      7.0   \n\n     Z9063900  \n0        52.0  \n1         0.0  \n2         0.0  \n3         4.0  \n4        12.0  \n...       ...  \n8979     49.0  \n8980      0.0  \n8981     15.0  \n8982     50.0  \n8983     20.0  \n\n[8984 rows x 42 columns]",
      "text/html": "<div>\n<style scoped>\n    .dataframe tbody tr th:only-of-type {\n        vertical-align: middle;\n    }\n\n    .dataframe tbody tr th {\n        vertical-align: top;\n    }\n\n    .dataframe thead th {\n        text-align: right;\n    }\n</style>\n<table border=\"1\" class=\"dataframe\">\n  <thead>\n    <tr style=\"text-align: right;\">\n      <th></th>\n      <th>R0000100</th>\n      <th>R0536300</th>\n      <th>R0536401</th>\n      <th>R0536402</th>\n      <th>R1235800</th>\n      <th>R1482600</th>\n      <th>R9793800</th>\n      <th>R9793900</th>\n      <th>R9871900</th>\n      <th>R9872000</th>\n      <th>...</th>\n      <th>U1852700</th>\n      <th>U2166200</th>\n      <th>U2166300</th>\n      <th>U2166400</th>\n      <th>U2166500</th>\n      <th>U2857300</th>\n      <th>U2962800</th>\n      <th>U2962900</th>\n      <th>U2963000</th>\n      <th>Z9063900</th>\n    </tr>\n  </thead>\n  <tbody>\n    <tr>\n      <th>0</th>\n      <td>1.0</td>\n      <td>Female</td>\n      <td>9.0</td>\n      <td>1981.0</td>\n      <td>Cross-sectional</td>\n      <td>4.0</td>\n      <td>350.0</td>\n      <td>470.0</td>\n      <td>309.0</td>\n      <td>310.0</td>\n      <td>...</td>\n      <td>NaN</td>\n      <td>NaN</td>\n      <td>NaN</td>\n      <td>NaN</td>\n      <td>NaN</td>\n      <td>NaN</td>\n      <td>NaN</td>\n      <td>NaN</td>\n      <td>NaN</td>\n      <td>52.0</td>\n    </tr>\n    <tr>\n      <th>1</th>\n      <td>2.0</td>\n      <td>Male</td>\n      <td>7.0</td>\n      <td>1982.0</td>\n      <td>Cross-sectional</td>\n      <td>2.0</td>\n      <td>460.0</td>\n      <td>440.0</td>\n      <td>217.0</td>\n      <td>280.0</td>\n      <td>...</td>\n      <td>NaN</td>\n      <td>NaN</td>\n      <td>NaN</td>\n      <td>NaN</td>\n      <td>NaN</td>\n      <td>NaN</td>\n      <td>4. 4 to 6 hours a week</td>\n      <td>2. 3 to 10 hours a week</td>\n      <td>6.0</td>\n      <td>0.0</td>\n    </tr>\n    <tr>\n      <th>2</th>\n      <td>3.0</td>\n      <td>Female</td>\n      <td>9.0</td>\n      <td>1983.0</td>\n      <td>Cross-sectional</td>\n      <td>2.0</td>\n      <td>460.0</td>\n      <td>440.0</td>\n      <td>217.0</td>\n      <td>280.0</td>\n      <td>...</td>\n      <td>0.0</td>\n      <td>NaN</td>\n      <td>NaN</td>\n      <td>NaN</td>\n      <td>NaN</td>\n      <td>NaN</td>\n      <td>6. 10 hours or more a week</td>\n      <td>2. 3 to 10 hours a week</td>\n      <td>6.0</td>\n      <td>0.0</td>\n    </tr>\n    <tr>\n      <th>3</th>\n      <td>4.0</td>\n      <td>Female</td>\n      <td>2.0</td>\n      <td>1981.0</td>\n      <td>Cross-sectional</td>\n      <td>2.0</td>\n      <td>460.0</td>\n      <td>440.0</td>\n      <td>253.0</td>\n      <td>216.0</td>\n      <td>...</td>\n      <td>1.0</td>\n      <td>NaN</td>\n      <td>NaN</td>\n      <td>NaN</td>\n      <td>NaN</td>\n      <td>NaN</td>\n      <td>3. 1 to 3 hours a week</td>\n      <td>2. 3 to 10 hours a week</td>\n      <td>6.0</td>\n      <td>4.0</td>\n    </tr>\n    <tr>\n      <th>4</th>\n      <td>5.0</td>\n      <td>Male</td>\n      <td>10.0</td>\n      <td>1982.0</td>\n      <td>Cross-sectional</td>\n      <td>2.0</td>\n      <td>460.0</td>\n      <td>440.0</td>\n      <td>243.0</td>\n      <td>235.0</td>\n      <td>...</td>\n      <td>0.0</td>\n      <td>NaN</td>\n      <td>NaN</td>\n      <td>NaN</td>\n      <td>NaN</td>\n      <td>NaN</td>\n      <td>2. Less than 1 hour a week</td>\n      <td>2. 3 to 10 hours a week</td>\n      <td>5.0</td>\n      <td>12.0</td>\n    </tr>\n    <tr>\n      <th>...</th>\n      <td>...</td>\n      <td>...</td>\n      <td>...</td>\n      <td>...</td>\n      <td>...</td>\n      <td>...</td>\n      <td>...</td>\n      <td>...</td>\n      <td>...</td>\n      <td>...</td>\n      <td>...</td>\n      <td>...</td>\n      <td>...</td>\n      <td>...</td>\n      <td>...</td>\n      <td>...</td>\n      <td>...</td>\n      <td>...</td>\n      <td>...</td>\n      <td>...</td>\n      <td>...</td>\n    </tr>\n    <tr>\n      <th>8979</th>\n      <td>9018.0</td>\n      <td>Female</td>\n      <td>3.0</td>\n      <td>1980.0</td>\n      <td>Cross-sectional</td>\n      <td>4.0</td>\n      <td>440.0</td>\n      <td>420.0</td>\n      <td>336.0</td>\n      <td>308.0</td>\n      <td>...</td>\n      <td>3.0</td>\n      <td>2. Vocational or technical certificate</td>\n      <td>3. Bachelor's degree (BA, BS or unspecified)</td>\n      <td>3. Bachelor's degree (BA, BS or unspecified)</td>\n      <td>3. Bachelor's degree (BA, BS or unspecified)</td>\n      <td>C. $10,001 - $25,000</td>\n      <td>4. 4 to 6 hours a week</td>\n      <td>2. 3 to 10 hours a week</td>\n      <td>4.0</td>\n      <td>49.0</td>\n    </tr>\n    <tr>\n      <th>8980</th>\n      <td>9019.0</td>\n      <td>Male</td>\n      <td>9.0</td>\n      <td>1984.0</td>\n      <td>Oversample</td>\n      <td>2.0</td>\n      <td>440.0</td>\n      <td>420.0</td>\n      <td>336.0</td>\n      <td>308.0</td>\n      <td>...</td>\n      <td>4.0</td>\n      <td>2. Vocational or technical certificate</td>\n      <td>3. Bachelor's degree (BA, BS or unspecified)</td>\n      <td>3. Bachelor's degree (BA, BS or unspecified)</td>\n      <td>3. Bachelor's degree (BA, BS or unspecified)</td>\n      <td>C. $10,001 - $25,000</td>\n      <td>2. Less than 1 hour a week</td>\n      <td>2. 3 to 10 hours a week</td>\n      <td>6.0</td>\n      <td>0.0</td>\n    </tr>\n    <tr>\n      <th>8981</th>\n      <td>9020.0</td>\n      <td>Male</td>\n      <td>7.0</td>\n      <td>1980.0</td>\n      <td>Cross-sectional</td>\n      <td>4.0</td>\n      <td>440.0</td>\n      <td>420.0</td>\n      <td>322.0</td>\n      <td>290.0</td>\n      <td>...</td>\n      <td>4.0</td>\n      <td>2. Vocational or technical certificate</td>\n      <td>3. Bachelor's degree (BA, BS or unspecified)</td>\n      <td>3. Bachelor's degree (BA, BS or unspecified)</td>\n      <td>3. Bachelor's degree (BA, BS or unspecified)</td>\n      <td>C. $10,001 - $25,000</td>\n      <td>2. Less than 1 hour a week</td>\n      <td>2. 3 to 10 hours a week</td>\n      <td>6.0</td>\n      <td>15.0</td>\n    </tr>\n    <tr>\n      <th>8982</th>\n      <td>9021.0</td>\n      <td>Male</td>\n      <td>7.0</td>\n      <td>1980.0</td>\n      <td>Cross-sectional</td>\n      <td>4.0</td>\n      <td>440.0</td>\n      <td>420.0</td>\n      <td>230.0</td>\n      <td>184.0</td>\n      <td>...</td>\n      <td>0.0</td>\n      <td>2. Vocational or technical certificate</td>\n      <td>3. Bachelor's degree (BA, BS or unspecified)</td>\n      <td>3. Bachelor's degree (BA, BS or unspecified)</td>\n      <td>3. Bachelor's degree (BA, BS or unspecified)</td>\n      <td>C. $10,001 - $25,000</td>\n      <td>6. 10 hours or more a week</td>\n      <td>2. 3 to 10 hours a week</td>\n      <td>7.0</td>\n      <td>50.0</td>\n    </tr>\n    <tr>\n      <th>8983</th>\n      <td>9022.0</td>\n      <td>Female</td>\n      <td>1.0</td>\n      <td>1982.0</td>\n      <td>Cross-sectional</td>\n      <td>4.0</td>\n      <td>440.0</td>\n      <td>420.0</td>\n      <td>230.0</td>\n      <td>184.0</td>\n      <td>...</td>\n      <td>0.0</td>\n      <td>2. Vocational or technical certificate</td>\n      <td>3. Bachelor's degree (BA, BS or unspecified)</td>\n      <td>3. Bachelor's degree (BA, BS or unspecified)</td>\n      <td>3. Bachelor's degree (BA, BS or unspecified)</td>\n      <td>C. $10,001 - $25,000</td>\n      <td>6. 10 hours or more a week</td>\n      <td>1. Less than 2 hours per week</td>\n      <td>7.0</td>\n      <td>20.0</td>\n    </tr>\n  </tbody>\n</table>\n<p>8984 rows × 42 columns</p>\n</div>"
     },
     "execution_count": 10,
     "metadata": {},
     "output_type": "execute_result"
    }
   ],
   "source": [
    "nls97r.replace(list(range(-9,0)), np.nan, inplace=True)\n",
    "nls97r"
   ],
   "metadata": {
    "collapsed": false,
    "pycharm": {
     "name": "#%%\n"
    }
   }
  },
  {
   "cell_type": "code",
   "execution_count": 11,
   "outputs": [
    {
     "data": {
      "text/plain": "      R0000100 R0536300  R0536401  R0536402         R1235800  R1482600  \\\n0          1.0   Female       9.0    1981.0  Cross-sectional       4.0   \n1          2.0     Male       7.0    1982.0  Cross-sectional       2.0   \n2          3.0   Female       9.0    1983.0  Cross-sectional       2.0   \n3          4.0   Female       2.0    1981.0  Cross-sectional       2.0   \n4          5.0     Male      10.0    1982.0  Cross-sectional       2.0   \n...        ...      ...       ...       ...              ...       ...   \n8979    9018.0   Female       3.0    1980.0  Cross-sectional       4.0   \n8980    9019.0     Male       9.0    1984.0       Oversample       2.0   \n8981    9020.0     Male       7.0    1980.0  Cross-sectional       4.0   \n8982    9021.0     Male       7.0    1980.0  Cross-sectional       4.0   \n8983    9022.0   Female       1.0    1982.0  Cross-sectional       4.0   \n\n      R9793800  R9793900  R9871900  R9872000  ...  U1852700  \\\n0        350.0     470.0     309.0     310.0  ...       NaN   \n1        460.0     440.0     217.0     280.0  ...       NaN   \n2        460.0     440.0     217.0     280.0  ...       0.0   \n3        460.0     440.0     253.0     216.0  ...       1.0   \n4        460.0     440.0     243.0     235.0  ...       0.0   \n...        ...       ...       ...       ...  ...       ...   \n8979     440.0     420.0     336.0     308.0  ...       3.0   \n8980     440.0     420.0     336.0     308.0  ...       4.0   \n8981     440.0     420.0     322.0     290.0  ...       4.0   \n8982     440.0     420.0     230.0     184.0  ...       0.0   \n8983     440.0     420.0     230.0     184.0  ...       0.0   \n\n                                    U2166200  \\\n0                                        NaN   \n1                                        NaN   \n2                                        NaN   \n3                                        NaN   \n4                                        NaN   \n...                                      ...   \n8979  2. Vocational or technical certificate   \n8980  2. Vocational or technical certificate   \n8981  2. Vocational or technical certificate   \n8982  2. Vocational or technical certificate   \n8983  2. Vocational or technical certificate   \n\n                                          U2166300  \\\n0                                              NaN   \n1                                              NaN   \n2                                              NaN   \n3                                              NaN   \n4                                              NaN   \n...                                            ...   \n8979  3. Bachelor's degree (BA, BS or unspecified)   \n8980  3. Bachelor's degree (BA, BS or unspecified)   \n8981  3. Bachelor's degree (BA, BS or unspecified)   \n8982  3. Bachelor's degree (BA, BS or unspecified)   \n8983  3. Bachelor's degree (BA, BS or unspecified)   \n\n                                          U2166400  \\\n0                                              NaN   \n1                                              NaN   \n2                                              NaN   \n3                                              NaN   \n4                                              NaN   \n...                                            ...   \n8979  3. Bachelor's degree (BA, BS or unspecified)   \n8980  3. Bachelor's degree (BA, BS or unspecified)   \n8981  3. Bachelor's degree (BA, BS or unspecified)   \n8982  3. Bachelor's degree (BA, BS or unspecified)   \n8983  3. Bachelor's degree (BA, BS or unspecified)   \n\n                                          U2166500              U2857300  \\\n0                                              NaN                   NaN   \n1                                              NaN                   NaN   \n2                                              NaN                   NaN   \n3                                              NaN                   NaN   \n4                                              NaN                   NaN   \n...                                            ...                   ...   \n8979  3. Bachelor's degree (BA, BS or unspecified)  C. $10,001 - $25,000   \n8980  3. Bachelor's degree (BA, BS or unspecified)  C. $10,001 - $25,000   \n8981  3. Bachelor's degree (BA, BS or unspecified)  C. $10,001 - $25,000   \n8982  3. Bachelor's degree (BA, BS or unspecified)  C. $10,001 - $25,000   \n8983  3. Bachelor's degree (BA, BS or unspecified)  C. $10,001 - $25,000   \n\n                        U2962800                       U2962900 U2963000  \\\n0                            NaN                            NaN      NaN   \n1         4. 4 to 6 hours a week        2. 3 to 10 hours a week      6.0   \n2     6. 10 hours or more a week        2. 3 to 10 hours a week      6.0   \n3         3. 1 to 3 hours a week        2. 3 to 10 hours a week      6.0   \n4     2. Less than 1 hour a week        2. 3 to 10 hours a week      5.0   \n...                          ...                            ...      ...   \n8979      4. 4 to 6 hours a week        2. 3 to 10 hours a week      4.0   \n8980  2. Less than 1 hour a week        2. 3 to 10 hours a week      6.0   \n8981  2. Less than 1 hour a week        2. 3 to 10 hours a week      6.0   \n8982  6. 10 hours or more a week        2. 3 to 10 hours a week      7.0   \n8983  6. 10 hours or more a week  1. Less than 2 hours per week      7.0   \n\n     Z9063900  \n0        52.0  \n1         0.0  \n2         0.0  \n3         4.0  \n4        12.0  \n...       ...  \n8979     49.0  \n8980      0.0  \n8981     15.0  \n8982     50.0  \n8983     20.0  \n\n[8984 rows x 42 columns]",
      "text/html": "<div>\n<style scoped>\n    .dataframe tbody tr th:only-of-type {\n        vertical-align: middle;\n    }\n\n    .dataframe tbody tr th {\n        vertical-align: top;\n    }\n\n    .dataframe thead th {\n        text-align: right;\n    }\n</style>\n<table border=\"1\" class=\"dataframe\">\n  <thead>\n    <tr style=\"text-align: right;\">\n      <th></th>\n      <th>R0000100</th>\n      <th>R0536300</th>\n      <th>R0536401</th>\n      <th>R0536402</th>\n      <th>R1235800</th>\n      <th>R1482600</th>\n      <th>R9793800</th>\n      <th>R9793900</th>\n      <th>R9871900</th>\n      <th>R9872000</th>\n      <th>...</th>\n      <th>U1852700</th>\n      <th>U2166200</th>\n      <th>U2166300</th>\n      <th>U2166400</th>\n      <th>U2166500</th>\n      <th>U2857300</th>\n      <th>U2962800</th>\n      <th>U2962900</th>\n      <th>U2963000</th>\n      <th>Z9063900</th>\n    </tr>\n  </thead>\n  <tbody>\n    <tr>\n      <th>0</th>\n      <td>1.0</td>\n      <td>Female</td>\n      <td>9.0</td>\n      <td>1981.0</td>\n      <td>Cross-sectional</td>\n      <td>4.0</td>\n      <td>350.0</td>\n      <td>470.0</td>\n      <td>309.0</td>\n      <td>310.0</td>\n      <td>...</td>\n      <td>NaN</td>\n      <td>NaN</td>\n      <td>NaN</td>\n      <td>NaN</td>\n      <td>NaN</td>\n      <td>NaN</td>\n      <td>NaN</td>\n      <td>NaN</td>\n      <td>NaN</td>\n      <td>52.0</td>\n    </tr>\n    <tr>\n      <th>1</th>\n      <td>2.0</td>\n      <td>Male</td>\n      <td>7.0</td>\n      <td>1982.0</td>\n      <td>Cross-sectional</td>\n      <td>2.0</td>\n      <td>460.0</td>\n      <td>440.0</td>\n      <td>217.0</td>\n      <td>280.0</td>\n      <td>...</td>\n      <td>NaN</td>\n      <td>NaN</td>\n      <td>NaN</td>\n      <td>NaN</td>\n      <td>NaN</td>\n      <td>NaN</td>\n      <td>4. 4 to 6 hours a week</td>\n      <td>2. 3 to 10 hours a week</td>\n      <td>6.0</td>\n      <td>0.0</td>\n    </tr>\n    <tr>\n      <th>2</th>\n      <td>3.0</td>\n      <td>Female</td>\n      <td>9.0</td>\n      <td>1983.0</td>\n      <td>Cross-sectional</td>\n      <td>2.0</td>\n      <td>460.0</td>\n      <td>440.0</td>\n      <td>217.0</td>\n      <td>280.0</td>\n      <td>...</td>\n      <td>0.0</td>\n      <td>NaN</td>\n      <td>NaN</td>\n      <td>NaN</td>\n      <td>NaN</td>\n      <td>NaN</td>\n      <td>6. 10 hours or more a week</td>\n      <td>2. 3 to 10 hours a week</td>\n      <td>6.0</td>\n      <td>0.0</td>\n    </tr>\n    <tr>\n      <th>3</th>\n      <td>4.0</td>\n      <td>Female</td>\n      <td>2.0</td>\n      <td>1981.0</td>\n      <td>Cross-sectional</td>\n      <td>2.0</td>\n      <td>460.0</td>\n      <td>440.0</td>\n      <td>253.0</td>\n      <td>216.0</td>\n      <td>...</td>\n      <td>1.0</td>\n      <td>NaN</td>\n      <td>NaN</td>\n      <td>NaN</td>\n      <td>NaN</td>\n      <td>NaN</td>\n      <td>3. 1 to 3 hours a week</td>\n      <td>2. 3 to 10 hours a week</td>\n      <td>6.0</td>\n      <td>4.0</td>\n    </tr>\n    <tr>\n      <th>4</th>\n      <td>5.0</td>\n      <td>Male</td>\n      <td>10.0</td>\n      <td>1982.0</td>\n      <td>Cross-sectional</td>\n      <td>2.0</td>\n      <td>460.0</td>\n      <td>440.0</td>\n      <td>243.0</td>\n      <td>235.0</td>\n      <td>...</td>\n      <td>0.0</td>\n      <td>NaN</td>\n      <td>NaN</td>\n      <td>NaN</td>\n      <td>NaN</td>\n      <td>NaN</td>\n      <td>2. Less than 1 hour a week</td>\n      <td>2. 3 to 10 hours a week</td>\n      <td>5.0</td>\n      <td>12.0</td>\n    </tr>\n    <tr>\n      <th>...</th>\n      <td>...</td>\n      <td>...</td>\n      <td>...</td>\n      <td>...</td>\n      <td>...</td>\n      <td>...</td>\n      <td>...</td>\n      <td>...</td>\n      <td>...</td>\n      <td>...</td>\n      <td>...</td>\n      <td>...</td>\n      <td>...</td>\n      <td>...</td>\n      <td>...</td>\n      <td>...</td>\n      <td>...</td>\n      <td>...</td>\n      <td>...</td>\n      <td>...</td>\n      <td>...</td>\n    </tr>\n    <tr>\n      <th>8979</th>\n      <td>9018.0</td>\n      <td>Female</td>\n      <td>3.0</td>\n      <td>1980.0</td>\n      <td>Cross-sectional</td>\n      <td>4.0</td>\n      <td>440.0</td>\n      <td>420.0</td>\n      <td>336.0</td>\n      <td>308.0</td>\n      <td>...</td>\n      <td>3.0</td>\n      <td>2. Vocational or technical certificate</td>\n      <td>3. Bachelor's degree (BA, BS or unspecified)</td>\n      <td>3. Bachelor's degree (BA, BS or unspecified)</td>\n      <td>3. Bachelor's degree (BA, BS or unspecified)</td>\n      <td>C. $10,001 - $25,000</td>\n      <td>4. 4 to 6 hours a week</td>\n      <td>2. 3 to 10 hours a week</td>\n      <td>4.0</td>\n      <td>49.0</td>\n    </tr>\n    <tr>\n      <th>8980</th>\n      <td>9019.0</td>\n      <td>Male</td>\n      <td>9.0</td>\n      <td>1984.0</td>\n      <td>Oversample</td>\n      <td>2.0</td>\n      <td>440.0</td>\n      <td>420.0</td>\n      <td>336.0</td>\n      <td>308.0</td>\n      <td>...</td>\n      <td>4.0</td>\n      <td>2. Vocational or technical certificate</td>\n      <td>3. Bachelor's degree (BA, BS or unspecified)</td>\n      <td>3. Bachelor's degree (BA, BS or unspecified)</td>\n      <td>3. Bachelor's degree (BA, BS or unspecified)</td>\n      <td>C. $10,001 - $25,000</td>\n      <td>2. Less than 1 hour a week</td>\n      <td>2. 3 to 10 hours a week</td>\n      <td>6.0</td>\n      <td>0.0</td>\n    </tr>\n    <tr>\n      <th>8981</th>\n      <td>9020.0</td>\n      <td>Male</td>\n      <td>7.0</td>\n      <td>1980.0</td>\n      <td>Cross-sectional</td>\n      <td>4.0</td>\n      <td>440.0</td>\n      <td>420.0</td>\n      <td>322.0</td>\n      <td>290.0</td>\n      <td>...</td>\n      <td>4.0</td>\n      <td>2. Vocational or technical certificate</td>\n      <td>3. Bachelor's degree (BA, BS or unspecified)</td>\n      <td>3. Bachelor's degree (BA, BS or unspecified)</td>\n      <td>3. Bachelor's degree (BA, BS or unspecified)</td>\n      <td>C. $10,001 - $25,000</td>\n      <td>2. Less than 1 hour a week</td>\n      <td>2. 3 to 10 hours a week</td>\n      <td>6.0</td>\n      <td>15.0</td>\n    </tr>\n    <tr>\n      <th>8982</th>\n      <td>9021.0</td>\n      <td>Male</td>\n      <td>7.0</td>\n      <td>1980.0</td>\n      <td>Cross-sectional</td>\n      <td>4.0</td>\n      <td>440.0</td>\n      <td>420.0</td>\n      <td>230.0</td>\n      <td>184.0</td>\n      <td>...</td>\n      <td>0.0</td>\n      <td>2. Vocational or technical certificate</td>\n      <td>3. Bachelor's degree (BA, BS or unspecified)</td>\n      <td>3. Bachelor's degree (BA, BS or unspecified)</td>\n      <td>3. Bachelor's degree (BA, BS or unspecified)</td>\n      <td>C. $10,001 - $25,000</td>\n      <td>6. 10 hours or more a week</td>\n      <td>2. 3 to 10 hours a week</td>\n      <td>7.0</td>\n      <td>50.0</td>\n    </tr>\n    <tr>\n      <th>8983</th>\n      <td>9022.0</td>\n      <td>Female</td>\n      <td>1.0</td>\n      <td>1982.0</td>\n      <td>Cross-sectional</td>\n      <td>4.0</td>\n      <td>440.0</td>\n      <td>420.0</td>\n      <td>230.0</td>\n      <td>184.0</td>\n      <td>...</td>\n      <td>0.0</td>\n      <td>2. Vocational or technical certificate</td>\n      <td>3. Bachelor's degree (BA, BS or unspecified)</td>\n      <td>3. Bachelor's degree (BA, BS or unspecified)</td>\n      <td>3. Bachelor's degree (BA, BS or unspecified)</td>\n      <td>C. $10,001 - $25,000</td>\n      <td>6. 10 hours or more a week</td>\n      <td>1. Less than 2 hours per week</td>\n      <td>7.0</td>\n      <td>20.0</td>\n    </tr>\n  </tbody>\n</table>\n<p>8984 rows × 42 columns</p>\n</div>"
     },
     "execution_count": 11,
     "metadata": {},
     "output_type": "execute_result"
    }
   ],
   "source": [
    "for col in setvalues:\n",
    "    nls97r[col] = nls97r[col].astype('category')\n",
    "nls97r"
   ],
   "metadata": {
    "collapsed": false,
    "pycharm": {
     "name": "#%%\n"
    }
   }
  },
  {
   "cell_type": "code",
   "execution_count": 12,
   "outputs": [
    {
     "data": {
      "text/plain": "R0000100     float64\nR0536300    category\nR0536401     float64\nR0536402     float64\nR1235800    category\nR1482600     float64\nR9793800     float64\nR9793900     float64\nR9871900     float64\nR9872000     float64\nR9872200     float64\nR9872400     float64\nS8646900    category\nS8647000    category\nS8647100    category\nS8647200    category\nS8647300    category\nS8647400    category\nS8647500    category\nS8647600    category\nS8647700    category\nS8647800    category\nT6651700     float64\nU1836800    category\nU1836900    category\nU1837000    category\nU1837100    category\nU1837200    category\nU1837300    category\nU1845400    category\nU1852400    category\nU1852600     float64\nU1852700     float64\nU2166200    category\nU2166300    category\nU2166400    category\nU2166500    category\nU2857300    category\nU2962800    category\nU2962900    category\nU2963000     float64\nZ9063900     float64\ndtype: object"
     },
     "execution_count": 12,
     "metadata": {},
     "output_type": "execute_result"
    }
   ],
   "source": [
    "nls97r.dtypes"
   ],
   "metadata": {
    "collapsed": false,
    "pycharm": {
     "name": "#%%\n"
    }
   }
  },
  {
   "cell_type": "code",
   "execution_count": 13,
   "outputs": [
    {
     "data": {
      "text/plain": "      personid  gender  birthmonth  birthyear       sampletype  category  \\\n0          1.0  Female         9.0     1981.0  Cross-sectional       4.0   \n1          2.0    Male         7.0     1982.0  Cross-sectional       2.0   \n2          3.0  Female         9.0     1983.0  Cross-sectional       2.0   \n3          4.0  Female         2.0     1981.0  Cross-sectional       2.0   \n4          5.0    Male        10.0     1982.0  Cross-sectional       2.0   \n...        ...     ...         ...        ...              ...       ...   \n8979    9018.0  Female         3.0     1980.0  Cross-sectional       4.0   \n8980    9019.0    Male         9.0     1984.0       Oversample       2.0   \n8981    9020.0    Male         7.0     1980.0  Cross-sectional       4.0   \n8982    9021.0    Male         7.0     1980.0  Cross-sectional       4.0   \n8983    9022.0  Female         1.0     1982.0  Cross-sectional       4.0   \n\n      satverbal  satmath  gpaoverall  gpaeng  ...  childnumaway  \\\n0         350.0    470.0       309.0   310.0  ...           NaN   \n1         460.0    440.0       217.0   280.0  ...           NaN   \n2         460.0    440.0       217.0   280.0  ...           0.0   \n3         460.0    440.0       253.0   216.0  ...           1.0   \n4         460.0    440.0       243.0   235.0  ...           0.0   \n...         ...      ...         ...     ...  ...           ...   \n8979      440.0    420.0       336.0   308.0  ...           3.0   \n8980      440.0    420.0       336.0   308.0  ...           4.0   \n8981      440.0    420.0       322.0   290.0  ...           4.0   \n8982      440.0    420.0       230.0   184.0  ...           0.0   \n8983      440.0    420.0       230.0   184.0  ...           0.0   \n\n                                  degreecol1  \\\n0                                        NaN   \n1                                        NaN   \n2                                        NaN   \n3                                        NaN   \n4                                        NaN   \n...                                      ...   \n8979  2. Vocational or technical certificate   \n8980  2. Vocational or technical certificate   \n8981  2. Vocational or technical certificate   \n8982  2. Vocational or technical certificate   \n8983  2. Vocational or technical certificate   \n\n                                        degreecol2  \\\n0                                              NaN   \n1                                              NaN   \n2                                              NaN   \n3                                              NaN   \n4                                              NaN   \n...                                            ...   \n8979  3. Bachelor's degree (BA, BS or unspecified)   \n8980  3. Bachelor's degree (BA, BS or unspecified)   \n8981  3. Bachelor's degree (BA, BS or unspecified)   \n8982  3. Bachelor's degree (BA, BS or unspecified)   \n8983  3. Bachelor's degree (BA, BS or unspecified)   \n\n                                        degreecol3  \\\n0                                              NaN   \n1                                              NaN   \n2                                              NaN   \n3                                              NaN   \n4                                              NaN   \n...                                            ...   \n8979  3. Bachelor's degree (BA, BS or unspecified)   \n8980  3. Bachelor's degree (BA, BS or unspecified)   \n8981  3. Bachelor's degree (BA, BS or unspecified)   \n8982  3. Bachelor's degree (BA, BS or unspecified)   \n8983  3. Bachelor's degree (BA, BS or unspecified)   \n\n                                        degreecol4            wageincome  \\\n0                                              NaN                   NaN   \n1                                              NaN                   NaN   \n2                                              NaN                   NaN   \n3                                              NaN                   NaN   \n4                                              NaN                   NaN   \n...                                            ...                   ...   \n8979  3. Bachelor's degree (BA, BS or unspecified)  C. $10,001 - $25,000   \n8980  3. Bachelor's degree (BA, BS or unspecified)  C. $10,001 - $25,000   \n8981  3. Bachelor's degree (BA, BS or unspecified)  C. $10,001 - $25,000   \n8982  3. Bachelor's degree (BA, BS or unspecified)  C. $10,001 - $25,000   \n8983  3. Bachelor's degree (BA, BS or unspecified)  C. $10,001 - $25,000   \n\n               weeklyhrscomputer                    weeklyhrstv  \\\n0                            NaN                            NaN   \n1         4. 4 to 6 hours a week        2. 3 to 10 hours a week   \n2     6. 10 hours or more a week        2. 3 to 10 hours a week   \n3         3. 1 to 3 hours a week        2. 3 to 10 hours a week   \n4     2. Less than 1 hour a week        2. 3 to 10 hours a week   \n...                          ...                            ...   \n8979      4. 4 to 6 hours a week        2. 3 to 10 hours a week   \n8980  2. Less than 1 hour a week        2. 3 to 10 hours a week   \n8981  2. Less than 1 hour a week        2. 3 to 10 hours a week   \n8982  6. 10 hours or more a week        2. 3 to 10 hours a week   \n8983  6. 10 hours or more a week  1. Less than 2 hours per week   \n\n     nightlyhrssleep weeksworkedlastyear  \n0                NaN                52.0  \n1                6.0                 0.0  \n2                6.0                 0.0  \n3                6.0                 4.0  \n4                5.0                12.0  \n...              ...                 ...  \n8979             4.0                49.0  \n8980             6.0                 0.0  \n8981             6.0                15.0  \n8982             7.0                50.0  \n8983             7.0                20.0  \n\n[8984 rows x 42 columns]",
      "text/html": "<div>\n<style scoped>\n    .dataframe tbody tr th:only-of-type {\n        vertical-align: middle;\n    }\n\n    .dataframe tbody tr th {\n        vertical-align: top;\n    }\n\n    .dataframe thead th {\n        text-align: right;\n    }\n</style>\n<table border=\"1\" class=\"dataframe\">\n  <thead>\n    <tr style=\"text-align: right;\">\n      <th></th>\n      <th>personid</th>\n      <th>gender</th>\n      <th>birthmonth</th>\n      <th>birthyear</th>\n      <th>sampletype</th>\n      <th>category</th>\n      <th>satverbal</th>\n      <th>satmath</th>\n      <th>gpaoverall</th>\n      <th>gpaeng</th>\n      <th>...</th>\n      <th>childnumaway</th>\n      <th>degreecol1</th>\n      <th>degreecol2</th>\n      <th>degreecol3</th>\n      <th>degreecol4</th>\n      <th>wageincome</th>\n      <th>weeklyhrscomputer</th>\n      <th>weeklyhrstv</th>\n      <th>nightlyhrssleep</th>\n      <th>weeksworkedlastyear</th>\n    </tr>\n  </thead>\n  <tbody>\n    <tr>\n      <th>0</th>\n      <td>1.0</td>\n      <td>Female</td>\n      <td>9.0</td>\n      <td>1981.0</td>\n      <td>Cross-sectional</td>\n      <td>4.0</td>\n      <td>350.0</td>\n      <td>470.0</td>\n      <td>309.0</td>\n      <td>310.0</td>\n      <td>...</td>\n      <td>NaN</td>\n      <td>NaN</td>\n      <td>NaN</td>\n      <td>NaN</td>\n      <td>NaN</td>\n      <td>NaN</td>\n      <td>NaN</td>\n      <td>NaN</td>\n      <td>NaN</td>\n      <td>52.0</td>\n    </tr>\n    <tr>\n      <th>1</th>\n      <td>2.0</td>\n      <td>Male</td>\n      <td>7.0</td>\n      <td>1982.0</td>\n      <td>Cross-sectional</td>\n      <td>2.0</td>\n      <td>460.0</td>\n      <td>440.0</td>\n      <td>217.0</td>\n      <td>280.0</td>\n      <td>...</td>\n      <td>NaN</td>\n      <td>NaN</td>\n      <td>NaN</td>\n      <td>NaN</td>\n      <td>NaN</td>\n      <td>NaN</td>\n      <td>4. 4 to 6 hours a week</td>\n      <td>2. 3 to 10 hours a week</td>\n      <td>6.0</td>\n      <td>0.0</td>\n    </tr>\n    <tr>\n      <th>2</th>\n      <td>3.0</td>\n      <td>Female</td>\n      <td>9.0</td>\n      <td>1983.0</td>\n      <td>Cross-sectional</td>\n      <td>2.0</td>\n      <td>460.0</td>\n      <td>440.0</td>\n      <td>217.0</td>\n      <td>280.0</td>\n      <td>...</td>\n      <td>0.0</td>\n      <td>NaN</td>\n      <td>NaN</td>\n      <td>NaN</td>\n      <td>NaN</td>\n      <td>NaN</td>\n      <td>6. 10 hours or more a week</td>\n      <td>2. 3 to 10 hours a week</td>\n      <td>6.0</td>\n      <td>0.0</td>\n    </tr>\n    <tr>\n      <th>3</th>\n      <td>4.0</td>\n      <td>Female</td>\n      <td>2.0</td>\n      <td>1981.0</td>\n      <td>Cross-sectional</td>\n      <td>2.0</td>\n      <td>460.0</td>\n      <td>440.0</td>\n      <td>253.0</td>\n      <td>216.0</td>\n      <td>...</td>\n      <td>1.0</td>\n      <td>NaN</td>\n      <td>NaN</td>\n      <td>NaN</td>\n      <td>NaN</td>\n      <td>NaN</td>\n      <td>3. 1 to 3 hours a week</td>\n      <td>2. 3 to 10 hours a week</td>\n      <td>6.0</td>\n      <td>4.0</td>\n    </tr>\n    <tr>\n      <th>4</th>\n      <td>5.0</td>\n      <td>Male</td>\n      <td>10.0</td>\n      <td>1982.0</td>\n      <td>Cross-sectional</td>\n      <td>2.0</td>\n      <td>460.0</td>\n      <td>440.0</td>\n      <td>243.0</td>\n      <td>235.0</td>\n      <td>...</td>\n      <td>0.0</td>\n      <td>NaN</td>\n      <td>NaN</td>\n      <td>NaN</td>\n      <td>NaN</td>\n      <td>NaN</td>\n      <td>2. Less than 1 hour a week</td>\n      <td>2. 3 to 10 hours a week</td>\n      <td>5.0</td>\n      <td>12.0</td>\n    </tr>\n    <tr>\n      <th>...</th>\n      <td>...</td>\n      <td>...</td>\n      <td>...</td>\n      <td>...</td>\n      <td>...</td>\n      <td>...</td>\n      <td>...</td>\n      <td>...</td>\n      <td>...</td>\n      <td>...</td>\n      <td>...</td>\n      <td>...</td>\n      <td>...</td>\n      <td>...</td>\n      <td>...</td>\n      <td>...</td>\n      <td>...</td>\n      <td>...</td>\n      <td>...</td>\n      <td>...</td>\n      <td>...</td>\n    </tr>\n    <tr>\n      <th>8979</th>\n      <td>9018.0</td>\n      <td>Female</td>\n      <td>3.0</td>\n      <td>1980.0</td>\n      <td>Cross-sectional</td>\n      <td>4.0</td>\n      <td>440.0</td>\n      <td>420.0</td>\n      <td>336.0</td>\n      <td>308.0</td>\n      <td>...</td>\n      <td>3.0</td>\n      <td>2. Vocational or technical certificate</td>\n      <td>3. Bachelor's degree (BA, BS or unspecified)</td>\n      <td>3. Bachelor's degree (BA, BS or unspecified)</td>\n      <td>3. Bachelor's degree (BA, BS or unspecified)</td>\n      <td>C. $10,001 - $25,000</td>\n      <td>4. 4 to 6 hours a week</td>\n      <td>2. 3 to 10 hours a week</td>\n      <td>4.0</td>\n      <td>49.0</td>\n    </tr>\n    <tr>\n      <th>8980</th>\n      <td>9019.0</td>\n      <td>Male</td>\n      <td>9.0</td>\n      <td>1984.0</td>\n      <td>Oversample</td>\n      <td>2.0</td>\n      <td>440.0</td>\n      <td>420.0</td>\n      <td>336.0</td>\n      <td>308.0</td>\n      <td>...</td>\n      <td>4.0</td>\n      <td>2. Vocational or technical certificate</td>\n      <td>3. Bachelor's degree (BA, BS or unspecified)</td>\n      <td>3. Bachelor's degree (BA, BS or unspecified)</td>\n      <td>3. Bachelor's degree (BA, BS or unspecified)</td>\n      <td>C. $10,001 - $25,000</td>\n      <td>2. Less than 1 hour a week</td>\n      <td>2. 3 to 10 hours a week</td>\n      <td>6.0</td>\n      <td>0.0</td>\n    </tr>\n    <tr>\n      <th>8981</th>\n      <td>9020.0</td>\n      <td>Male</td>\n      <td>7.0</td>\n      <td>1980.0</td>\n      <td>Cross-sectional</td>\n      <td>4.0</td>\n      <td>440.0</td>\n      <td>420.0</td>\n      <td>322.0</td>\n      <td>290.0</td>\n      <td>...</td>\n      <td>4.0</td>\n      <td>2. Vocational or technical certificate</td>\n      <td>3. Bachelor's degree (BA, BS or unspecified)</td>\n      <td>3. Bachelor's degree (BA, BS or unspecified)</td>\n      <td>3. Bachelor's degree (BA, BS or unspecified)</td>\n      <td>C. $10,001 - $25,000</td>\n      <td>2. Less than 1 hour a week</td>\n      <td>2. 3 to 10 hours a week</td>\n      <td>6.0</td>\n      <td>15.0</td>\n    </tr>\n    <tr>\n      <th>8982</th>\n      <td>9021.0</td>\n      <td>Male</td>\n      <td>7.0</td>\n      <td>1980.0</td>\n      <td>Cross-sectional</td>\n      <td>4.0</td>\n      <td>440.0</td>\n      <td>420.0</td>\n      <td>230.0</td>\n      <td>184.0</td>\n      <td>...</td>\n      <td>0.0</td>\n      <td>2. Vocational or technical certificate</td>\n      <td>3. Bachelor's degree (BA, BS or unspecified)</td>\n      <td>3. Bachelor's degree (BA, BS or unspecified)</td>\n      <td>3. Bachelor's degree (BA, BS or unspecified)</td>\n      <td>C. $10,001 - $25,000</td>\n      <td>6. 10 hours or more a week</td>\n      <td>2. 3 to 10 hours a week</td>\n      <td>7.0</td>\n      <td>50.0</td>\n    </tr>\n    <tr>\n      <th>8983</th>\n      <td>9022.0</td>\n      <td>Female</td>\n      <td>1.0</td>\n      <td>1982.0</td>\n      <td>Cross-sectional</td>\n      <td>4.0</td>\n      <td>440.0</td>\n      <td>420.0</td>\n      <td>230.0</td>\n      <td>184.0</td>\n      <td>...</td>\n      <td>0.0</td>\n      <td>2. Vocational or technical certificate</td>\n      <td>3. Bachelor's degree (BA, BS or unspecified)</td>\n      <td>3. Bachelor's degree (BA, BS or unspecified)</td>\n      <td>3. Bachelor's degree (BA, BS or unspecified)</td>\n      <td>C. $10,001 - $25,000</td>\n      <td>6. 10 hours or more a week</td>\n      <td>1. Less than 2 hours per week</td>\n      <td>7.0</td>\n      <td>20.0</td>\n    </tr>\n  </tbody>\n</table>\n<p>8984 rows × 42 columns</p>\n</div>"
     },
     "execution_count": 13,
     "metadata": {},
     "output_type": "execute_result"
    }
   ],
   "source": [
    "nls97r.columns = newcols\n",
    "nls97r"
   ],
   "metadata": {
    "collapsed": false,
    "pycharm": {
     "name": "#%%\n"
    }
   }
  },
  {
   "cell_type": "markdown",
   "source": [
    "# Persist tabular data"
   ],
   "metadata": {
    "collapsed": false,
    "pycharm": {
     "name": "#%% md\n"
    }
   }
  },
  {
   "cell_type": "code",
   "execution_count": 14,
   "outputs": [
    {
     "name": "stdout",
     "output_type": "stream",
     "text": [
      "Collecting pyarrow"
     ]
    },
    {
     "name": "stderr",
     "output_type": "stream",
     "text": [
      "WARNING: You are using pip version 21.3.1; however, version 22.0.4 is available.\n",
      "You should consider upgrading via the 'C:\\Users\\quocd\\AppData\\Local\\Programs\\Python\\Python310\\python.exe -m pip install --upgrade pip' command.\n"
     ]
    },
    {
     "name": "stdout",
     "output_type": "stream",
     "text": [
      "\n",
      "  Downloading pyarrow-7.0.0-cp310-cp310-win_amd64.whl (16.1 MB)\n",
      "Requirement already satisfied: numpy>=1.16.6 in c:\\users\\quocd\\appdata\\local\\programs\\python\\python310\\lib\\site-packages (from pyarrow) (1.21.4)\n",
      "Installing collected packages: pyarrow\n",
      "Successfully installed pyarrow-7.0.0\n"
     ]
    }
   ],
   "source": [
    "!pip install pyarrow"
   ],
   "metadata": {
    "collapsed": false,
    "pycharm": {
     "name": "#%%\n"
    }
   }
  },
  {
   "cell_type": "code",
   "execution_count": 15,
   "outputs": [
    {
     "ename": "ModuleNotFoundError",
     "evalue": "No module named 'pans'",
     "output_type": "error",
     "traceback": [
      "\u001B[1;31m---------------------------------------------------------------------------\u001B[0m",
      "\u001B[1;31mModuleNotFoundError\u001B[0m                       Traceback (most recent call last)",
      "\u001B[1;32m~\\AppData\\Local\\Temp/ipykernel_24500/2967494970.py\u001B[0m in \u001B[0;36m<module>\u001B[1;34m\u001B[0m\n\u001B[1;32m----> 1\u001B[1;33m \u001B[1;32mimport\u001B[0m \u001B[0mpans\u001B[0m \u001B[1;32mas\u001B[0m \u001B[0mpd\u001B[0m\u001B[1;33m\u001B[0m\u001B[1;33m\u001B[0m\u001B[0m\n\u001B[0m\u001B[0;32m      2\u001B[0m \u001B[1;32mimport\u001B[0m \u001B[0mpyarrow\u001B[0m\u001B[1;33m\u001B[0m\u001B[1;33m\u001B[0m\u001B[0m\n",
      "\u001B[1;31mModuleNotFoundError\u001B[0m: No module named 'pans'"
     ]
    }
   ],
   "source": [
    "import pans as pd\n",
    "import pyarrow"
   ],
   "metadata": {
    "collapsed": false,
    "pycharm": {
     "name": "#%%\n"
    }
   }
  },
  {
   "cell_type": "code",
   "execution_count": null,
   "outputs": [],
   "source": [
    "# this section is quite straightforward so I skip\n",
    "\"\"\"\n",
    "Notes:\n",
    "- csv use up very little additional memory, compared to others type. However,\n",
    "it's slow, we loose metadata like type of columns\n",
    "- pickle keep data, but files are much bigger.\n",
    "- feather is easier en resource, easily loaded by R or Python, but we have to\n",
    "sacrifice index\n",
    "-\n",
    "\"\"\"\n"
   ],
   "metadata": {
    "collapsed": false,
    "pycharm": {
     "name": "#%%\n"
    }
   }
  }
 ],
 "metadata": {
  "hide_input": false,
  "kernelspec": {
   "display_name": "Python 3",
   "language": "python",
   "name": "python3"
  },
  "language_info": {
   "codemirror_mode": {
    "name": "ipython",
    "version": 3
   },
   "file_extension": ".py",
   "mimetype": "text/x-python",
   "name": "python",
   "nbconvert_exporter": "python",
   "pygments_lexer": "ipython3",
   "version": "3.8.8"
  },
  "toc": {
   "base_numbering": 1,
   "nav_menu": {},
   "number_sections": true,
   "sideBar": true,
   "skip_h1_title": false,
   "title_cell": "Table of Contents",
   "title_sidebar": "Contents",
   "toc_cell": false,
   "toc_position": {},
   "toc_section_display": true,
   "toc_window_display": false
  },
  "varInspector": {
   "cols": {
    "lenName": 16,
    "lenType": 16,
    "lenVar": 40
   },
   "kernels_config": {
    "python": {
     "delete_cmd_postfix": "",
     "delete_cmd_prefix": "del ",
     "library": "var_list.py",
     "varRefreshCmd": "print(var_dic_list())"
    },
    "r": {
     "delete_cmd_postfix": ") ",
     "delete_cmd_prefix": "rm(",
     "library": "var_list.r",
     "varRefreshCmd": "cat(var_dic_list()) "
    }
   },
   "types_to_exclude": [
    "module",
    "function",
    "builtin_function_or_method",
    "instance",
    "_Feature"
   ],
   "window_display": false
  }
 },
 "nbformat": 4,
 "nbformat_minor": 1
}